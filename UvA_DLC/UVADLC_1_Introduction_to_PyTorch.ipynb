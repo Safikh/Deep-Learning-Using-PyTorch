{
  "nbformat": 4,
  "nbformat_minor": 0,
  "metadata": {
    "colab": {
      "name": "UVADLC 1 Introduction to PyTorch.ipynb",
      "provenance": [],
      "collapsed_sections": []
    },
    "kernelspec": {
      "name": "python3",
      "display_name": "Python 3"
    },
    "language_info": {
      "name": "python"
    },
    "accelerator": "GPU",
    "widgets": {
      "application/vnd.jupyter.widget-state+json": {
        "279796793db7413bb8faa9a6f712da00": {
          "model_module": "@jupyter-widgets/controls",
          "model_name": "HBoxModel",
          "model_module_version": "1.5.0",
          "state": {
            "_dom_classes": [],
            "_model_module": "@jupyter-widgets/controls",
            "_model_module_version": "1.5.0",
            "_model_name": "HBoxModel",
            "_view_count": null,
            "_view_module": "@jupyter-widgets/controls",
            "_view_module_version": "1.5.0",
            "_view_name": "HBoxView",
            "box_style": "",
            "children": [
              "IPY_MODEL_5acaa1b93d634cabb527f5a6cef25526",
              "IPY_MODEL_b41eba8701c8416b947dd82af724d8b2",
              "IPY_MODEL_6618e8aa3e434ab7b633857447c575fa"
            ],
            "layout": "IPY_MODEL_65e086af70df4114bf6ad7749ce0c9eb"
          }
        },
        "5acaa1b93d634cabb527f5a6cef25526": {
          "model_module": "@jupyter-widgets/controls",
          "model_name": "HTMLModel",
          "model_module_version": "1.5.0",
          "state": {
            "_dom_classes": [],
            "_model_module": "@jupyter-widgets/controls",
            "_model_module_version": "1.5.0",
            "_model_name": "HTMLModel",
            "_view_count": null,
            "_view_module": "@jupyter-widgets/controls",
            "_view_module_version": "1.5.0",
            "_view_name": "HTMLView",
            "description": "",
            "description_tooltip": null,
            "layout": "IPY_MODEL_1224d83ff0c44d79943a5e621d1f5f5e",
            "placeholder": "​",
            "style": "IPY_MODEL_811a28ceee2f4b9fa7de8e1745709c3b",
            "value": "100%"
          }
        },
        "b41eba8701c8416b947dd82af724d8b2": {
          "model_module": "@jupyter-widgets/controls",
          "model_name": "FloatProgressModel",
          "model_module_version": "1.5.0",
          "state": {
            "_dom_classes": [],
            "_model_module": "@jupyter-widgets/controls",
            "_model_module_version": "1.5.0",
            "_model_name": "FloatProgressModel",
            "_view_count": null,
            "_view_module": "@jupyter-widgets/controls",
            "_view_module_version": "1.5.0",
            "_view_name": "ProgressView",
            "bar_style": "success",
            "description": "",
            "description_tooltip": null,
            "layout": "IPY_MODEL_64c1fbf231d24ba8bbe9c67305143d8b",
            "max": 100,
            "min": 0,
            "orientation": "horizontal",
            "style": "IPY_MODEL_d324bb3bc10d4ca7af7b1bb05d8997b3",
            "value": 100
          }
        },
        "6618e8aa3e434ab7b633857447c575fa": {
          "model_module": "@jupyter-widgets/controls",
          "model_name": "HTMLModel",
          "model_module_version": "1.5.0",
          "state": {
            "_dom_classes": [],
            "_model_module": "@jupyter-widgets/controls",
            "_model_module_version": "1.5.0",
            "_model_name": "HTMLModel",
            "_view_count": null,
            "_view_module": "@jupyter-widgets/controls",
            "_view_module_version": "1.5.0",
            "_view_name": "HTMLView",
            "description": "",
            "description_tooltip": null,
            "layout": "IPY_MODEL_54a4fc3a2c3e4f3d9e59f571c6ce212f",
            "placeholder": "​",
            "style": "IPY_MODEL_b808c7ac4c6c47ae9b49fcfc8ed87725",
            "value": " 100/100 [00:01&lt;00:00, 77.79it/s]"
          }
        },
        "65e086af70df4114bf6ad7749ce0c9eb": {
          "model_module": "@jupyter-widgets/base",
          "model_name": "LayoutModel",
          "model_module_version": "1.2.0",
          "state": {
            "_model_module": "@jupyter-widgets/base",
            "_model_module_version": "1.2.0",
            "_model_name": "LayoutModel",
            "_view_count": null,
            "_view_module": "@jupyter-widgets/base",
            "_view_module_version": "1.2.0",
            "_view_name": "LayoutView",
            "align_content": null,
            "align_items": null,
            "align_self": null,
            "border": null,
            "bottom": null,
            "display": null,
            "flex": null,
            "flex_flow": null,
            "grid_area": null,
            "grid_auto_columns": null,
            "grid_auto_flow": null,
            "grid_auto_rows": null,
            "grid_column": null,
            "grid_gap": null,
            "grid_row": null,
            "grid_template_areas": null,
            "grid_template_columns": null,
            "grid_template_rows": null,
            "height": null,
            "justify_content": null,
            "justify_items": null,
            "left": null,
            "margin": null,
            "max_height": null,
            "max_width": null,
            "min_height": null,
            "min_width": null,
            "object_fit": null,
            "object_position": null,
            "order": null,
            "overflow": null,
            "overflow_x": null,
            "overflow_y": null,
            "padding": null,
            "right": null,
            "top": null,
            "visibility": null,
            "width": null
          }
        },
        "1224d83ff0c44d79943a5e621d1f5f5e": {
          "model_module": "@jupyter-widgets/base",
          "model_name": "LayoutModel",
          "model_module_version": "1.2.0",
          "state": {
            "_model_module": "@jupyter-widgets/base",
            "_model_module_version": "1.2.0",
            "_model_name": "LayoutModel",
            "_view_count": null,
            "_view_module": "@jupyter-widgets/base",
            "_view_module_version": "1.2.0",
            "_view_name": "LayoutView",
            "align_content": null,
            "align_items": null,
            "align_self": null,
            "border": null,
            "bottom": null,
            "display": null,
            "flex": null,
            "flex_flow": null,
            "grid_area": null,
            "grid_auto_columns": null,
            "grid_auto_flow": null,
            "grid_auto_rows": null,
            "grid_column": null,
            "grid_gap": null,
            "grid_row": null,
            "grid_template_areas": null,
            "grid_template_columns": null,
            "grid_template_rows": null,
            "height": null,
            "justify_content": null,
            "justify_items": null,
            "left": null,
            "margin": null,
            "max_height": null,
            "max_width": null,
            "min_height": null,
            "min_width": null,
            "object_fit": null,
            "object_position": null,
            "order": null,
            "overflow": null,
            "overflow_x": null,
            "overflow_y": null,
            "padding": null,
            "right": null,
            "top": null,
            "visibility": null,
            "width": null
          }
        },
        "811a28ceee2f4b9fa7de8e1745709c3b": {
          "model_module": "@jupyter-widgets/controls",
          "model_name": "DescriptionStyleModel",
          "model_module_version": "1.5.0",
          "state": {
            "_model_module": "@jupyter-widgets/controls",
            "_model_module_version": "1.5.0",
            "_model_name": "DescriptionStyleModel",
            "_view_count": null,
            "_view_module": "@jupyter-widgets/base",
            "_view_module_version": "1.2.0",
            "_view_name": "StyleView",
            "description_width": ""
          }
        },
        "64c1fbf231d24ba8bbe9c67305143d8b": {
          "model_module": "@jupyter-widgets/base",
          "model_name": "LayoutModel",
          "model_module_version": "1.2.0",
          "state": {
            "_model_module": "@jupyter-widgets/base",
            "_model_module_version": "1.2.0",
            "_model_name": "LayoutModel",
            "_view_count": null,
            "_view_module": "@jupyter-widgets/base",
            "_view_module_version": "1.2.0",
            "_view_name": "LayoutView",
            "align_content": null,
            "align_items": null,
            "align_self": null,
            "border": null,
            "bottom": null,
            "display": null,
            "flex": null,
            "flex_flow": null,
            "grid_area": null,
            "grid_auto_columns": null,
            "grid_auto_flow": null,
            "grid_auto_rows": null,
            "grid_column": null,
            "grid_gap": null,
            "grid_row": null,
            "grid_template_areas": null,
            "grid_template_columns": null,
            "grid_template_rows": null,
            "height": null,
            "justify_content": null,
            "justify_items": null,
            "left": null,
            "margin": null,
            "max_height": null,
            "max_width": null,
            "min_height": null,
            "min_width": null,
            "object_fit": null,
            "object_position": null,
            "order": null,
            "overflow": null,
            "overflow_x": null,
            "overflow_y": null,
            "padding": null,
            "right": null,
            "top": null,
            "visibility": null,
            "width": null
          }
        },
        "d324bb3bc10d4ca7af7b1bb05d8997b3": {
          "model_module": "@jupyter-widgets/controls",
          "model_name": "ProgressStyleModel",
          "model_module_version": "1.5.0",
          "state": {
            "_model_module": "@jupyter-widgets/controls",
            "_model_module_version": "1.5.0",
            "_model_name": "ProgressStyleModel",
            "_view_count": null,
            "_view_module": "@jupyter-widgets/base",
            "_view_module_version": "1.2.0",
            "_view_name": "StyleView",
            "bar_color": null,
            "description_width": ""
          }
        },
        "54a4fc3a2c3e4f3d9e59f571c6ce212f": {
          "model_module": "@jupyter-widgets/base",
          "model_name": "LayoutModel",
          "model_module_version": "1.2.0",
          "state": {
            "_model_module": "@jupyter-widgets/base",
            "_model_module_version": "1.2.0",
            "_model_name": "LayoutModel",
            "_view_count": null,
            "_view_module": "@jupyter-widgets/base",
            "_view_module_version": "1.2.0",
            "_view_name": "LayoutView",
            "align_content": null,
            "align_items": null,
            "align_self": null,
            "border": null,
            "bottom": null,
            "display": null,
            "flex": null,
            "flex_flow": null,
            "grid_area": null,
            "grid_auto_columns": null,
            "grid_auto_flow": null,
            "grid_auto_rows": null,
            "grid_column": null,
            "grid_gap": null,
            "grid_row": null,
            "grid_template_areas": null,
            "grid_template_columns": null,
            "grid_template_rows": null,
            "height": null,
            "justify_content": null,
            "justify_items": null,
            "left": null,
            "margin": null,
            "max_height": null,
            "max_width": null,
            "min_height": null,
            "min_width": null,
            "object_fit": null,
            "object_position": null,
            "order": null,
            "overflow": null,
            "overflow_x": null,
            "overflow_y": null,
            "padding": null,
            "right": null,
            "top": null,
            "visibility": null,
            "width": null
          }
        },
        "b808c7ac4c6c47ae9b49fcfc8ed87725": {
          "model_module": "@jupyter-widgets/controls",
          "model_name": "DescriptionStyleModel",
          "model_module_version": "1.5.0",
          "state": {
            "_model_module": "@jupyter-widgets/controls",
            "_model_module_version": "1.5.0",
            "_model_name": "DescriptionStyleModel",
            "_view_count": null,
            "_view_module": "@jupyter-widgets/base",
            "_view_module_version": "1.2.0",
            "_view_name": "StyleView",
            "description_width": ""
          }
        }
      }
    }
  },
  "cells": [
    {
      "cell_type": "code",
      "execution_count": 1,
      "metadata": {
        "colab": {
          "base_uri": "https://localhost:8080/"
        },
        "id": "--HtMKG9tcKL",
        "outputId": "fcac7df5-3b17-4a5c-a9db-2d89536bdb30"
      },
      "outputs": [
        {
          "output_type": "stream",
          "name": "stdout",
          "text": [
            "\u001b[K     |████████████████████████████████| 397 kB 30.8 MB/s \n",
            "\u001b[K     |████████████████████████████████| 804.1 MB 2.6 kB/s \n",
            "\u001b[K     |████████████████████████████████| 527 kB 74.8 MB/s \n",
            "\u001b[K     |████████████████████████████████| 829 kB 65.6 MB/s \n",
            "\u001b[K     |████████████████████████████████| 596 kB 62.3 MB/s \n",
            "\u001b[K     |████████████████████████████████| 134 kB 67.6 MB/s \n",
            "\u001b[K     |████████████████████████████████| 952 kB 35.6 MB/s \n",
            "\u001b[K     |████████████████████████████████| 1.1 MB 44.6 MB/s \n",
            "\u001b[K     |████████████████████████████████| 94 kB 3.9 MB/s \n",
            "\u001b[K     |████████████████████████████████| 144 kB 70.5 MB/s \n",
            "\u001b[K     |████████████████████████████████| 271 kB 69.9 MB/s \n",
            "\u001b[?25h  Building wheel for future (setup.py) ... \u001b[?25l\u001b[?25hdone\n",
            "\u001b[31mERROR: pip's dependency resolver does not currently take into account all the packages that are installed. This behaviour is the source of the following dependency conflicts.\n",
            "tensorflow 2.8.0 requires tf-estimator-nightly==2.8.0.dev2021122109, which is not installed.\n",
            "torchvision 0.11.1+cu111 requires torch==1.10.0, but you have torch 1.8.1 which is incompatible.\n",
            "torchtext 0.11.0 requires torch==1.10.0, but you have torch 1.8.1 which is incompatible.\n",
            "torchaudio 0.10.0+cu111 requires torch==1.10.0, but you have torch 1.8.1 which is incompatible.\n",
            "datascience 0.10.6 requires folium==0.2.1, but you have folium 0.8.3 which is incompatible.\u001b[0m\n"
          ]
        }
      ],
      "source": [
        "! pip install --quiet \"torchmetrics>=0.3\" \"matplotlib\" \"torch>=1.6, <1.9\" \"pytorch-lightning>=1.3\""
      ]
    },
    {
      "cell_type": "code",
      "source": [
        "import time\n",
        "\n",
        "import matplotlib.pyplot as plt\n",
        "import numpy as np\n",
        "import torch\n",
        "import torch.nn as nn\n",
        "import torch.utils.data as TUD\n",
        "\n",
        "from IPython.display import set_matplotlib_formats\n",
        "from matplotlib.colors import to_rgba\n",
        "from tqdm.notebook import tqdm\n",
        "\n",
        "set_matplotlib_formats(\"svg\", \"pdf\")"
      ],
      "metadata": {
        "id": "RasvZWNotkYR"
      },
      "execution_count": 2,
      "outputs": []
    },
    {
      "cell_type": "code",
      "source": [
        "torch.__version__"
      ],
      "metadata": {
        "colab": {
          "base_uri": "https://localhost:8080/",
          "height": 35
        },
        "id": "oOB__L9VuU_c",
        "outputId": "c55e5926-022a-4793-aed2-a50c2fd50893"
      },
      "execution_count": 3,
      "outputs": [
        {
          "output_type": "execute_result",
          "data": {
            "text/plain": [
              "'1.8.1+cu102'"
            ],
            "application/vnd.google.colaboratory.intrinsic+json": {
              "type": "string"
            }
          },
          "metadata": {},
          "execution_count": 3
        }
      ]
    },
    {
      "cell_type": "code",
      "source": [
        "torch.manual_seed(42)  # Setting the seed"
      ],
      "metadata": {
        "colab": {
          "base_uri": "https://localhost:8080/"
        },
        "id": "57LkKgIEuZDs",
        "outputId": "a0520c37-c058-41bd-94c7-9ad8087ae282"
      },
      "execution_count": 4,
      "outputs": [
        {
          "output_type": "execute_result",
          "data": {
            "text/plain": [
              "<torch._C.Generator at 0x7f5bb2ef2770>"
            ]
          },
          "metadata": {},
          "execution_count": 4
        }
      ]
    },
    {
      "cell_type": "code",
      "source": [
        "x = torch.arange(6)\n",
        "x = x.view(2, 3)\n",
        "print(\"X\", x)"
      ],
      "metadata": {
        "colab": {
          "base_uri": "https://localhost:8080/"
        },
        "id": "0HGwxyYIuccQ",
        "outputId": "d069ec45-5dbf-414c-9a02-e9ad70b5b6bf"
      },
      "execution_count": 5,
      "outputs": [
        {
          "output_type": "stream",
          "name": "stdout",
          "text": [
            "X tensor([[0, 1, 2],\n",
            "        [3, 4, 5]])\n"
          ]
        }
      ]
    },
    {
      "cell_type": "code",
      "source": [
        "W = torch.arange(9).view(3, 3)  # We can also stack multiple operations in a single line\n",
        "print(\"W\", W)"
      ],
      "metadata": {
        "colab": {
          "base_uri": "https://localhost:8080/"
        },
        "id": "8iGmROQmzljK",
        "outputId": "8eac8cd2-9305-4c7f-a451-0538902e542f"
      },
      "execution_count": 6,
      "outputs": [
        {
          "output_type": "stream",
          "name": "stdout",
          "text": [
            "W tensor([[0, 1, 2],\n",
            "        [3, 4, 5],\n",
            "        [6, 7, 8]])\n"
          ]
        }
      ]
    },
    {
      "cell_type": "code",
      "source": [
        "h = torch.matmul(x, W)\n",
        "print(\"h\", h)"
      ],
      "metadata": {
        "colab": {
          "base_uri": "https://localhost:8080/"
        },
        "id": "gwAuZ-PlzpPD",
        "outputId": "ae6e33c9-5042-4556-8551-64fe05aadd2a"
      },
      "execution_count": 7,
      "outputs": [
        {
          "output_type": "stream",
          "name": "stdout",
          "text": [
            "h tensor([[15, 18, 21],\n",
            "        [42, 54, 66]])\n"
          ]
        }
      ]
    },
    {
      "cell_type": "code",
      "source": [
        "x = torch.ones((3,))\n",
        "print(x.requires_grad)"
      ],
      "metadata": {
        "colab": {
          "base_uri": "https://localhost:8080/"
        },
        "id": "PkSJI4_QzvmF",
        "outputId": "269d7779-0b1d-42bd-cf99-61d51d0ce7ec"
      },
      "execution_count": 8,
      "outputs": [
        {
          "output_type": "stream",
          "name": "stdout",
          "text": [
            "False\n"
          ]
        }
      ]
    },
    {
      "cell_type": "code",
      "source": [
        "x.requires_grad_(True)\n",
        "print(x.requires_grad)"
      ],
      "metadata": {
        "colab": {
          "base_uri": "https://localhost:8080/"
        },
        "id": "r9Aub7B8z0mG",
        "outputId": "43121619-907f-45fb-dd22-726ceaf86df2"
      },
      "execution_count": 9,
      "outputs": [
        {
          "output_type": "stream",
          "name": "stdout",
          "text": [
            "True\n"
          ]
        }
      ]
    },
    {
      "cell_type": "code",
      "source": [
        "x = torch.arange(3, dtype=torch.float32, requires_grad=True)  # Only float tensors can have gradients\n",
        "print(\"X\", x)"
      ],
      "metadata": {
        "colab": {
          "base_uri": "https://localhost:8080/"
        },
        "id": "kRNkXQZQz5C6",
        "outputId": "3c32af3d-f4f8-41d6-bdfd-b040a52d5d82"
      },
      "execution_count": 10,
      "outputs": [
        {
          "output_type": "stream",
          "name": "stdout",
          "text": [
            "X tensor([0., 1., 2.], requires_grad=True)\n"
          ]
        }
      ]
    },
    {
      "cell_type": "code",
      "source": [
        "a = x + 2\n",
        "b = a ** 2\n",
        "c = b + 3\n",
        "y = c.mean()\n",
        "print(\"Y\", y)"
      ],
      "metadata": {
        "colab": {
          "base_uri": "https://localhost:8080/"
        },
        "id": "tUDHPwGLz9DO",
        "outputId": "68567e1f-a0e8-4b5f-a198-3a1b999209f5"
      },
      "execution_count": 11,
      "outputs": [
        {
          "output_type": "stream",
          "name": "stdout",
          "text": [
            "Y tensor(12.6667, grad_fn=<MeanBackward0>)\n"
          ]
        }
      ]
    },
    {
      "cell_type": "code",
      "source": [
        "y.backward()"
      ],
      "metadata": {
        "id": "pPbRK0N80ABa"
      },
      "execution_count": 12,
      "outputs": []
    },
    {
      "cell_type": "code",
      "source": [
        "x.grad"
      ],
      "metadata": {
        "colab": {
          "base_uri": "https://localhost:8080/"
        },
        "id": "LD_qTee20Eet",
        "outputId": "d8a5f792-a7b0-44a7-c6b7-0bc37e7a80a5"
      },
      "execution_count": 13,
      "outputs": [
        {
          "output_type": "execute_result",
          "data": {
            "text/plain": [
              "tensor([1.3333, 2.0000, 2.6667])"
            ]
          },
          "metadata": {},
          "execution_count": 13
        }
      ]
    },
    {
      "cell_type": "code",
      "source": [
        "device = torch.device(\"cuda\") if torch.cuda.is_available() else torch.device(\"cpu\")\n",
        "print(\"Device\", device)"
      ],
      "metadata": {
        "colab": {
          "base_uri": "https://localhost:8080/"
        },
        "id": "AxIRiJCY0PL1",
        "outputId": "5745b873-4ed4-4c06-cc1e-6d88ac92a294"
      },
      "execution_count": 14,
      "outputs": [
        {
          "output_type": "stream",
          "name": "stdout",
          "text": [
            "Device cuda\n"
          ]
        }
      ]
    },
    {
      "cell_type": "code",
      "source": [
        "x = torch.randn(5000, 5000)\n",
        "\n",
        "# CPU version\n",
        "start_time = time.time()\n",
        "_ = torch.matmul(x, x)\n",
        "end_time = time.time()\n",
        "print(f\"CPU time: {(end_time - start_time):6.5f}s\")\n",
        "\n",
        "# GPU version\n",
        "if torch.cuda.is_available():\n",
        "    x = x.to(device)\n",
        "    # CUDA is asynchronous, so we need to use different timing functions\n",
        "    start = torch.cuda.Event(enable_timing=True)\n",
        "    end = torch.cuda.Event(enable_timing=True)\n",
        "    start.record()\n",
        "    _ = torch.matmul(x, x)\n",
        "    end.record()\n",
        "    torch.cuda.synchronize()  # Waits for everything to finish running on the GPU\n",
        "    print(f\"GPU time: {0.001 * start.elapsed_time(end):6.5f}s\")  # Milliseconds to seconds"
      ],
      "metadata": {
        "colab": {
          "base_uri": "https://localhost:8080/"
        },
        "id": "6JAHYYt-0HyQ",
        "outputId": "c79f9789-06ae-486d-889f-1dcd5590bfee"
      },
      "execution_count": 15,
      "outputs": [
        {
          "output_type": "stream",
          "name": "stdout",
          "text": [
            "CPU time: 3.16387s\n",
            "GPU time: 0.08905s\n"
          ]
        }
      ]
    },
    {
      "cell_type": "code",
      "source": [
        "# GPU operations have a separate seed we also want to set\n",
        "if torch.cuda.is_available():\n",
        "    torch.cuda.manual_seed(42)\n",
        "    torch.cuda.manual_seed_all(42)\n",
        "\n",
        "# Additionally, some operations on a GPU are implemented stochastic for efficiency\n",
        "# We want to ensure that all operations are deterministic on GPU (if used) for reproducibility\n",
        "torch.backends.cudnn.determinstic = True\n",
        "torch.backends.cudnn.benchmark = False"
      ],
      "metadata": {
        "id": "28M6PdIs0SBC"
      },
      "execution_count": 16,
      "outputs": []
    },
    {
      "cell_type": "code",
      "source": [
        "import torch.nn.functional as F"
      ],
      "metadata": {
        "id": "NKLn8YT50cA6"
      },
      "execution_count": 17,
      "outputs": []
    },
    {
      "cell_type": "code",
      "source": [
        "class MyModule(nn.Module):\n",
        "    def __init__(self):\n",
        "        super().__init__()\n",
        "        # Some init for my module\n",
        "\n",
        "    def forward(self, x):\n",
        "        # Function for performing the calculation of the module.\n",
        "        pass"
      ],
      "metadata": {
        "id": "NP8KpmpC0oqN"
      },
      "execution_count": 18,
      "outputs": []
    },
    {
      "cell_type": "code",
      "source": [
        "class SimpleClassifier(nn.Module):\n",
        "  def __init__(self, num_inputs, num_hidden, num_outputs):\n",
        "    super().__init__()\n",
        "    self.linear1 = nn.Linear(num_inputs, num_hidden)\n",
        "    self.act_fn = nn.Tanh()\n",
        "    self.linear2 = nn.Linear(num_hidden, num_outputs)\n",
        "  \n",
        "  def forward(self, x):\n",
        "    x = self.linear1(x)\n",
        "    x = self.act_fn(x)\n",
        "    x = self.linear2(x)\n",
        "    return x"
      ],
      "metadata": {
        "id": "T5ZRo_3O0tDm"
      },
      "execution_count": 19,
      "outputs": []
    },
    {
      "cell_type": "code",
      "source": [
        "model = SimpleClassifier(2, 4, 1)\n",
        "print(model)"
      ],
      "metadata": {
        "colab": {
          "base_uri": "https://localhost:8080/"
        },
        "id": "I5LppwZX1LdU",
        "outputId": "8f13516d-a994-45dd-e9ef-7fb9974ec321"
      },
      "execution_count": 20,
      "outputs": [
        {
          "output_type": "stream",
          "name": "stdout",
          "text": [
            "SimpleClassifier(\n",
            "  (linear1): Linear(in_features=2, out_features=4, bias=True)\n",
            "  (act_fn): Tanh()\n",
            "  (linear2): Linear(in_features=4, out_features=1, bias=True)\n",
            ")\n"
          ]
        }
      ]
    },
    {
      "cell_type": "code",
      "source": [
        "for name, param in model.named_parameters():\n",
        "    print(f\"Parameter {name}, shape {param.shape}\")"
      ],
      "metadata": {
        "colab": {
          "base_uri": "https://localhost:8080/"
        },
        "id": "ByhIqipy1R0v",
        "outputId": "df97e3aa-e68e-4bbc-eccf-fbc4b862219c"
      },
      "execution_count": 21,
      "outputs": [
        {
          "output_type": "stream",
          "name": "stdout",
          "text": [
            "Parameter linear1.weight, shape torch.Size([4, 2])\n",
            "Parameter linear1.bias, shape torch.Size([4])\n",
            "Parameter linear2.weight, shape torch.Size([1, 4])\n",
            "Parameter linear2.bias, shape torch.Size([1])\n"
          ]
        }
      ]
    },
    {
      "cell_type": "code",
      "source": [
        "class XORDataset(TUD.Dataset):\n",
        "  def __init__(self, size, std=0.1):\n",
        "    \"\"\"\n",
        "    Inputs:\n",
        "      size - Number of data points we want to generate\n",
        "      std - Standard deviation of the noise (see generate_continuous_xor function)\n",
        "    \"\"\"\n",
        "    super().__init__()\n",
        "    self.size = size\n",
        "    self.std = std\n",
        "    self.generate_continuous_xor()\n",
        "  \n",
        "\n",
        "  def generate_continuous_xor(self):\n",
        "    # Each data point in the XOR dataset has two variables, x and y, that can be either 0 or 1\n",
        "    # The label is their XOR combination, i.e. 1 if only x or only y is 1 while the other is 0.\n",
        "    # If x=y, the label is 0.\n",
        "\n",
        "    data = torch.randint(low=0, high=2, size=(self.size, 2), dtype=torch.float32)\n",
        "    label = (data.sum(dim=1) == 1).to(torch.long)\n",
        "    # To make it slightly more challenging, we add a bit of gaussian noise to the data points.\n",
        "\n",
        "    data += self.std * torch.randn(data.shape)\n",
        "\n",
        "    self.data = data\n",
        "    self.label = label\n",
        "  \n",
        "\n",
        "  def __len__(self):\n",
        "    return self.size\n",
        "  \n",
        "\n",
        "  def __getitem__(self, index):\n",
        "      data_point = self.data[index]\n",
        "      data_label = self.label[index]\n",
        "      return data_point, data_label"
      ],
      "metadata": {
        "id": "VmsvQrF61UCi"
      },
      "execution_count": 22,
      "outputs": []
    },
    {
      "cell_type": "code",
      "source": [
        "dataset = XORDataset(size=200)\n",
        "print(\"Size of dataset:\", len(dataset))\n",
        "print(\"Data point 0:\", dataset[0])"
      ],
      "metadata": {
        "colab": {
          "base_uri": "https://localhost:8080/"
        },
        "id": "9fbeAPNS26tf",
        "outputId": "977f9727-9597-44f7-f53a-f63edb339084"
      },
      "execution_count": 23,
      "outputs": [
        {
          "output_type": "stream",
          "name": "stdout",
          "text": [
            "Size of dataset: 200\n",
            "Data point 0: (tensor([1.0275, 0.0544]), tensor(1))\n"
          ]
        }
      ]
    },
    {
      "cell_type": "code",
      "source": [
        "import seaborn as sns"
      ],
      "metadata": {
        "id": "IZQFAsgG3JYu"
      },
      "execution_count": 24,
      "outputs": []
    },
    {
      "cell_type": "code",
      "source": [
        "def visualize_samples(data, label):\n",
        "  if isinstance(data, torch.Tensor):\n",
        "    data = data.cpu().numpy()\n",
        "  if isinstance(label, torch.Tensor):\n",
        "    label = label.cpu().numpy()\n",
        "\n",
        "  sns.scatterplot(x=data[:, 0], y=data[:, 1], hue=label)\n",
        "    "
      ],
      "metadata": {
        "id": "vMBeE1gs2_T_"
      },
      "execution_count": 25,
      "outputs": []
    },
    {
      "cell_type": "code",
      "source": [
        "visualize_samples(dataset.data, dataset.label)"
      ],
      "metadata": {
        "colab": {
          "base_uri": "https://localhost:8080/",
          "height": 353
        },
        "id": "Jj07ZaIR30KW",
        "outputId": "144b63d7-ef98-4e31-c350-3209dff9e4fc"
      },
      "execution_count": 26,
      "outputs": [
        {
          "output_type": "display_data",
          "data": {
            "text/plain": [
              "<Figure size 432x288 with 1 Axes>"
            ],
            "image/svg+xml": "<?xml version=\"1.0\" encoding=\"utf-8\" standalone=\"no\"?>\n<!DOCTYPE svg PUBLIC \"-//W3C//DTD SVG 1.1//EN\"\n  \"http://www.w3.org/Graphics/SVG/1.1/DTD/svg11.dtd\">\n<!-- Created with matplotlib (https://matplotlib.org/) -->\n<svg height=\"248.518125pt\" version=\"1.1\" viewBox=\"0 0 380.482812 248.518125\" width=\"380.482812pt\" xmlns=\"http://www.w3.org/2000/svg\" xmlns:xlink=\"http://www.w3.org/1999/xlink\">\n <defs>\n  <style type=\"text/css\">\n*{stroke-linecap:butt;stroke-linejoin:round;}\n  </style>\n </defs>\n <g id=\"figure_1\">\n  <g id=\"patch_1\">\n   <path d=\"M -0 248.518125 \nL 380.482812 248.518125 \nL 380.482812 0 \nL -0 0 \nz\n\" style=\"fill:none;\"/>\n  </g>\n  <g id=\"axes_1\">\n   <g id=\"patch_2\">\n    <path d=\"M 38.482813 224.64 \nL 373.282813 224.64 \nL 373.282813 7.2 \nL 38.482813 7.2 \nz\n\" style=\"fill:#ffffff;\"/>\n   </g>\n   <g id=\"PathCollection_1\">\n    <defs>\n     <path d=\"M 0 3 \nC 0.795609 3 1.55874 2.683901 2.12132 2.12132 \nC 2.683901 1.55874 3 0.795609 3 0 \nC 3 -0.795609 2.683901 -1.55874 2.12132 -2.12132 \nC 1.55874 -2.683901 0.795609 -3 0 -3 \nC -0.795609 -3 -1.55874 -2.683901 -2.12132 -2.12132 \nC -2.683901 -1.55874 -3 -0.795609 -3 0 \nC -3 0.795609 -2.683901 1.55874 -2.12132 2.12132 \nC -1.55874 2.683901 -0.795609 3 0 3 \nz\n\" id=\"C0_0_7fe230bb6d\"/>\n    </defs>\n    <g clip-path=\"url(#p10006e6adc)\">\n     <use style=\"fill:#ff7f0e;stroke:#ffffff;stroke-width:0.48;\" x=\"319.935297\" xlink:href=\"#C0_0_7fe230bb6d\" y=\"173.703993\"/>\n    </g>\n    <g clip-path=\"url(#p10006e6adc)\">\n     <use style=\"fill:#1f77b4;stroke:#ffffff;stroke-width:0.48;\" x=\"320.090634\" xlink:href=\"#C0_0_7fe230bb6d\" y=\"37.276709\"/>\n    </g>\n    <g clip-path=\"url(#p10006e6adc)\">\n     <use style=\"fill:#1f77b4;stroke:#ffffff;stroke-width:0.48;\" x=\"301.67963\" xlink:href=\"#C0_0_7fe230bb6d\" y=\"30.684193\"/>\n    </g>\n    <g clip-path=\"url(#p10006e6adc)\">\n     <use style=\"fill:#ff7f0e;stroke:#ffffff;stroke-width:0.48;\" x=\"117.717233\" xlink:href=\"#C0_0_7fe230bb6d\" y=\"54.390805\"/>\n    </g>\n    <g clip-path=\"url(#p10006e6adc)\">\n     <use style=\"fill:#ff7f0e;stroke:#ffffff;stroke-width:0.48;\" x=\"320.223623\" xlink:href=\"#C0_0_7fe230bb6d\" y=\"192.640319\"/>\n    </g>\n    <g clip-path=\"url(#p10006e6adc)\">\n     <use style=\"fill:#ff7f0e;stroke:#ffffff;stroke-width:0.48;\" x=\"278.77027\" xlink:href=\"#C0_0_7fe230bb6d\" y=\"179.03781\"/>\n    </g>\n    <g clip-path=\"url(#p10006e6adc)\">\n     <use style=\"fill:#ff7f0e;stroke:#ffffff;stroke-width:0.48;\" x=\"136.879374\" xlink:href=\"#C0_0_7fe230bb6d\" y=\"40.608206\"/>\n    </g>\n    <g clip-path=\"url(#p10006e6adc)\">\n     <use style=\"fill:#1f77b4;stroke:#ffffff;stroke-width:0.48;\" x=\"345.858313\" xlink:href=\"#C0_0_7fe230bb6d\" y=\"54.676235\"/>\n    </g>\n    <g clip-path=\"url(#p10006e6adc)\">\n     <use style=\"fill:#ff7f0e;stroke:#ffffff;stroke-width:0.48;\" x=\"107.39645\" xlink:href=\"#C0_0_7fe230bb6d\" y=\"34.14269\"/>\n    </g>\n    <g clip-path=\"url(#p10006e6adc)\">\n     <use style=\"fill:#ff7f0e;stroke:#ffffff;stroke-width:0.48;\" x=\"289.049814\" xlink:href=\"#C0_0_7fe230bb6d\" y=\"176.386241\"/>\n    </g>\n    <g clip-path=\"url(#p10006e6adc)\">\n     <use style=\"fill:#ff7f0e;stroke:#ffffff;stroke-width:0.48;\" x=\"313.648292\" xlink:href=\"#C0_0_7fe230bb6d\" y=\"183.886573\"/>\n    </g>\n    <g clip-path=\"url(#p10006e6adc)\">\n     <use style=\"fill:#ff7f0e;stroke:#ffffff;stroke-width:0.48;\" x=\"109.12204\" xlink:href=\"#C0_0_7fe230bb6d\" y=\"43.080451\"/>\n    </g>\n    <g clip-path=\"url(#p10006e6adc)\">\n     <use style=\"fill:#ff7f0e;stroke:#ffffff;stroke-width:0.48;\" x=\"325.905218\" xlink:href=\"#C0_0_7fe230bb6d\" y=\"174.566094\"/>\n    </g>\n    <g clip-path=\"url(#p10006e6adc)\">\n     <use style=\"fill:#1f77b4;stroke:#ffffff;stroke-width:0.48;\" x=\"113.438106\" xlink:href=\"#C0_0_7fe230bb6d\" y=\"179.165935\"/>\n    </g>\n    <g clip-path=\"url(#p10006e6adc)\">\n     <use style=\"fill:#ff7f0e;stroke:#ffffff;stroke-width:0.48;\" x=\"336.563678\" xlink:href=\"#C0_0_7fe230bb6d\" y=\"179.093972\"/>\n    </g>\n    <g clip-path=\"url(#p10006e6adc)\">\n     <use style=\"fill:#ff7f0e;stroke:#ffffff;stroke-width:0.48;\" x=\"325.513021\" xlink:href=\"#C0_0_7fe230bb6d\" y=\"189.406565\"/>\n    </g>\n    <g clip-path=\"url(#p10006e6adc)\">\n     <use style=\"fill:#ff7f0e;stroke:#ffffff;stroke-width:0.48;\" x=\"62.657125\" xlink:href=\"#C0_0_7fe230bb6d\" y=\"41.285876\"/>\n    </g>\n    <g clip-path=\"url(#p10006e6adc)\">\n     <use style=\"fill:#1f77b4;stroke:#ffffff;stroke-width:0.48;\" x=\"326.454092\" xlink:href=\"#C0_0_7fe230bb6d\" y=\"50.428165\"/>\n    </g>\n    <g clip-path=\"url(#p10006e6adc)\">\n     <use style=\"fill:#ff7f0e;stroke:#ffffff;stroke-width:0.48;\" x=\"73.886954\" xlink:href=\"#C0_0_7fe230bb6d\" y=\"46.218057\"/>\n    </g>\n    <g clip-path=\"url(#p10006e6adc)\">\n     <use style=\"fill:#ff7f0e;stroke:#ffffff;stroke-width:0.48;\" x=\"324.387347\" xlink:href=\"#C0_0_7fe230bb6d\" y=\"198.928601\"/>\n    </g>\n    <g clip-path=\"url(#p10006e6adc)\">\n     <use style=\"fill:#1f77b4;stroke:#ffffff;stroke-width:0.48;\" x=\"309.991526\" xlink:href=\"#C0_0_7fe230bb6d\" y=\"44.163607\"/>\n    </g>\n    <g clip-path=\"url(#p10006e6adc)\">\n     <use style=\"fill:#1f77b4;stroke:#ffffff;stroke-width:0.48;\" x=\"299.818942\" xlink:href=\"#C0_0_7fe230bb6d\" y=\"57.589089\"/>\n    </g>\n    <g clip-path=\"url(#p10006e6adc)\">\n     <use style=\"fill:#1f77b4;stroke:#ffffff;stroke-width:0.48;\" x=\"327.728381\" xlink:href=\"#C0_0_7fe230bb6d\" y=\"49.985515\"/>\n    </g>\n    <g clip-path=\"url(#p10006e6adc)\">\n     <use style=\"fill:#1f77b4;stroke:#ffffff;stroke-width:0.48;\" x=\"297.139768\" xlink:href=\"#C0_0_7fe230bb6d\" y=\"38.80927\"/>\n    </g>\n    <g clip-path=\"url(#p10006e6adc)\">\n     <use style=\"fill:#ff7f0e;stroke:#ffffff;stroke-width:0.48;\" x=\"306.557\" xlink:href=\"#C0_0_7fe230bb6d\" y=\"165.795432\"/>\n    </g>\n    <g clip-path=\"url(#p10006e6adc)\">\n     <use style=\"fill:#ff7f0e;stroke:#ffffff;stroke-width:0.48;\" x=\"326.005047\" xlink:href=\"#C0_0_7fe230bb6d\" y=\"166.065861\"/>\n    </g>\n    <g clip-path=\"url(#p10006e6adc)\">\n     <use style=\"fill:#ff7f0e;stroke:#ffffff;stroke-width:0.48;\" x=\"308.267052\" xlink:href=\"#C0_0_7fe230bb6d\" y=\"183.814199\"/>\n    </g>\n    <g clip-path=\"url(#p10006e6adc)\">\n     <use style=\"fill:#ff7f0e;stroke:#ffffff;stroke-width:0.48;\" x=\"94.86097\" xlink:href=\"#C0_0_7fe230bb6d\" y=\"30.274873\"/>\n    </g>\n    <g clip-path=\"url(#p10006e6adc)\">\n     <use style=\"fill:#ff7f0e;stroke:#ffffff;stroke-width:0.48;\" x=\"336.271062\" xlink:href=\"#C0_0_7fe230bb6d\" y=\"186.481603\"/>\n    </g>\n    <g clip-path=\"url(#p10006e6adc)\">\n     <use style=\"fill:#1f77b4;stroke:#ffffff;stroke-width:0.48;\" x=\"104.708927\" xlink:href=\"#C0_0_7fe230bb6d\" y=\"178.207219\"/>\n    </g>\n    <g clip-path=\"url(#p10006e6adc)\">\n     <use style=\"fill:#1f77b4;stroke:#ffffff;stroke-width:0.48;\" x=\"308.327892\" xlink:href=\"#C0_0_7fe230bb6d\" y=\"47.026924\"/>\n    </g>\n    <g clip-path=\"url(#p10006e6adc)\">\n     <use style=\"fill:#ff7f0e;stroke:#ffffff;stroke-width:0.48;\" x=\"110.842014\" xlink:href=\"#C0_0_7fe230bb6d\" y=\"48.435364\"/>\n    </g>\n    <g clip-path=\"url(#p10006e6adc)\">\n     <use style=\"fill:#1f77b4;stroke:#ffffff;stroke-width:0.48;\" x=\"348.71057\" xlink:href=\"#C0_0_7fe230bb6d\" y=\"48.662337\"/>\n    </g>\n    <g clip-path=\"url(#p10006e6adc)\">\n     <use style=\"fill:#ff7f0e;stroke:#ffffff;stroke-width:0.48;\" x=\"290.034463\" xlink:href=\"#C0_0_7fe230bb6d\" y=\"196.231889\"/>\n    </g>\n    <g clip-path=\"url(#p10006e6adc)\">\n     <use style=\"fill:#ff7f0e;stroke:#ffffff;stroke-width:0.48;\" x=\"156.139396\" xlink:href=\"#C0_0_7fe230bb6d\" y=\"44.480902\"/>\n    </g>\n    <g clip-path=\"url(#p10006e6adc)\">\n     <use style=\"fill:#ff7f0e;stroke:#ffffff;stroke-width:0.48;\" x=\"331.545493\" xlink:href=\"#C0_0_7fe230bb6d\" y=\"202.078841\"/>\n    </g>\n    <g clip-path=\"url(#p10006e6adc)\">\n     <use style=\"fill:#1f77b4;stroke:#ffffff;stroke-width:0.48;\" x=\"123.611458\" xlink:href=\"#C0_0_7fe230bb6d\" y=\"189.291453\"/>\n    </g>\n    <g clip-path=\"url(#p10006e6adc)\">\n     <use style=\"fill:#1f77b4;stroke:#ffffff;stroke-width:0.48;\" x=\"112.230118\" xlink:href=\"#C0_0_7fe230bb6d\" y=\"189.92489\"/>\n    </g>\n    <g clip-path=\"url(#p10006e6adc)\">\n     <use style=\"fill:#1f77b4;stroke:#ffffff;stroke-width:0.48;\" x=\"66.716587\" xlink:href=\"#C0_0_7fe230bb6d\" y=\"174.442304\"/>\n    </g>\n    <g clip-path=\"url(#p10006e6adc)\">\n     <use style=\"fill:#1f77b4;stroke:#ffffff;stroke-width:0.48;\" x=\"324.569718\" xlink:href=\"#C0_0_7fe230bb6d\" y=\"43.448008\"/>\n    </g>\n    <g clip-path=\"url(#p10006e6adc)\">\n     <use style=\"fill:#ff7f0e;stroke:#ffffff;stroke-width:0.48;\" x=\"282.437156\" xlink:href=\"#C0_0_7fe230bb6d\" y=\"170.439784\"/>\n    </g>\n    <g clip-path=\"url(#p10006e6adc)\">\n     <use style=\"fill:#ff7f0e;stroke:#ffffff;stroke-width:0.48;\" x=\"305.101767\" xlink:href=\"#C0_0_7fe230bb6d\" y=\"157.899763\"/>\n    </g>\n    <g clip-path=\"url(#p10006e6adc)\">\n     <use style=\"fill:#1f77b4;stroke:#ffffff;stroke-width:0.48;\" x=\"308.266469\" xlink:href=\"#C0_0_7fe230bb6d\" y=\"36.322396\"/>\n    </g>\n    <g clip-path=\"url(#p10006e6adc)\">\n     <use style=\"fill:#1f77b4;stroke:#ffffff;stroke-width:0.48;\" x=\"101.209821\" xlink:href=\"#C0_0_7fe230bb6d\" y=\"189.432562\"/>\n    </g>\n    <g clip-path=\"url(#p10006e6adc)\">\n     <use style=\"fill:#ff7f0e;stroke:#ffffff;stroke-width:0.48;\" x=\"58.838119\" xlink:href=\"#C0_0_7fe230bb6d\" y=\"29.448679\"/>\n    </g>\n    <g clip-path=\"url(#p10006e6adc)\">\n     <use style=\"fill:#ff7f0e;stroke:#ffffff;stroke-width:0.48;\" x=\"135.119768\" xlink:href=\"#C0_0_7fe230bb6d\" y=\"30.414889\"/>\n    </g>\n    <g clip-path=\"url(#p10006e6adc)\">\n     <use style=\"fill:#ff7f0e;stroke:#ffffff;stroke-width:0.48;\" x=\"104.957656\" xlink:href=\"#C0_0_7fe230bb6d\" y=\"61.3777\"/>\n    </g>\n    <g clip-path=\"url(#p10006e6adc)\">\n     <use style=\"fill:#1f77b4;stroke:#ffffff;stroke-width:0.48;\" x=\"316.549868\" xlink:href=\"#C0_0_7fe230bb6d\" y=\"38.453922\"/>\n    </g>\n    <g clip-path=\"url(#p10006e6adc)\">\n     <use style=\"fill:#ff7f0e;stroke:#ffffff;stroke-width:0.48;\" x=\"105.423986\" xlink:href=\"#C0_0_7fe230bb6d\" y=\"26.973341\"/>\n    </g>\n    <g clip-path=\"url(#p10006e6adc)\">\n     <use style=\"fill:#ff7f0e;stroke:#ffffff;stroke-width:0.48;\" x=\"73.804226\" xlink:href=\"#C0_0_7fe230bb6d\" y=\"23.912448\"/>\n    </g>\n    <g clip-path=\"url(#p10006e6adc)\">\n     <use style=\"fill:#ff7f0e;stroke:#ffffff;stroke-width:0.48;\" x=\"311.124492\" xlink:href=\"#C0_0_7fe230bb6d\" y=\"186.639093\"/>\n    </g>\n    <g clip-path=\"url(#p10006e6adc)\">\n     <use style=\"fill:#1f77b4;stroke:#ffffff;stroke-width:0.48;\" x=\"115.55607\" xlink:href=\"#C0_0_7fe230bb6d\" y=\"185.19171\"/>\n    </g>\n    <g clip-path=\"url(#p10006e6adc)\">\n     <use style=\"fill:#1f77b4;stroke:#ffffff;stroke-width:0.48;\" x=\"343.574053\" xlink:href=\"#C0_0_7fe230bb6d\" y=\"17.083636\"/>\n    </g>\n    <g clip-path=\"url(#p10006e6adc)\">\n     <use style=\"fill:#ff7f0e;stroke:#ffffff;stroke-width:0.48;\" x=\"284.665562\" xlink:href=\"#C0_0_7fe230bb6d\" y=\"165.648606\"/>\n    </g>\n    <g clip-path=\"url(#p10006e6adc)\">\n     <use style=\"fill:#ff7f0e;stroke:#ffffff;stroke-width:0.48;\" x=\"299.159736\" xlink:href=\"#C0_0_7fe230bb6d\" y=\"167.714607\"/>\n    </g>\n    <g clip-path=\"url(#p10006e6adc)\">\n     <use style=\"fill:#1f77b4;stroke:#ffffff;stroke-width:0.48;\" x=\"317.32841\" xlink:href=\"#C0_0_7fe230bb6d\" y=\"47.471598\"/>\n    </g>\n    <g clip-path=\"url(#p10006e6adc)\">\n     <use style=\"fill:#ff7f0e;stroke:#ffffff;stroke-width:0.48;\" x=\"122.074672\" xlink:href=\"#C0_0_7fe230bb6d\" y=\"44.140915\"/>\n    </g>\n    <g clip-path=\"url(#p10006e6adc)\">\n     <use style=\"fill:#1f77b4;stroke:#ffffff;stroke-width:0.48;\" x=\"308.496497\" xlink:href=\"#C0_0_7fe230bb6d\" y=\"42.636328\"/>\n    </g>\n    <g clip-path=\"url(#p10006e6adc)\">\n     <use style=\"fill:#1f77b4;stroke:#ffffff;stroke-width:0.48;\" x=\"101.637671\" xlink:href=\"#C0_0_7fe230bb6d\" y=\"197.508043\"/>\n    </g>\n    <g clip-path=\"url(#p10006e6adc)\">\n     <use style=\"fill:#ff7f0e;stroke:#ffffff;stroke-width:0.48;\" x=\"278.640877\" xlink:href=\"#C0_0_7fe230bb6d\" y=\"177.029284\"/>\n    </g>\n    <g clip-path=\"url(#p10006e6adc)\">\n     <use style=\"fill:#ff7f0e;stroke:#ffffff;stroke-width:0.48;\" x=\"345.875526\" xlink:href=\"#C0_0_7fe230bb6d\" y=\"185.424412\"/>\n    </g>\n    <g clip-path=\"url(#p10006e6adc)\">\n     <use style=\"fill:#1f77b4;stroke:#ffffff;stroke-width:0.48;\" x=\"94.089158\" xlink:href=\"#C0_0_7fe230bb6d\" y=\"169.919546\"/>\n    </g>\n    <g clip-path=\"url(#p10006e6adc)\">\n     <use style=\"fill:#1f77b4;stroke:#ffffff;stroke-width:0.48;\" x=\"337.142538\" xlink:href=\"#C0_0_7fe230bb6d\" y=\"75.695567\"/>\n    </g>\n    <g clip-path=\"url(#p10006e6adc)\">\n     <use style=\"fill:#1f77b4;stroke:#ffffff;stroke-width:0.48;\" x=\"342.464624\" xlink:href=\"#C0_0_7fe230bb6d\" y=\"68.634977\"/>\n    </g>\n    <g clip-path=\"url(#p10006e6adc)\">\n     <use style=\"fill:#ff7f0e;stroke:#ffffff;stroke-width:0.48;\" x=\"333.033552\" xlink:href=\"#C0_0_7fe230bb6d\" y=\"182.989788\"/>\n    </g>\n    <g clip-path=\"url(#p10006e6adc)\">\n     <use style=\"fill:#ff7f0e;stroke:#ffffff;stroke-width:0.48;\" x=\"295.154895\" xlink:href=\"#C0_0_7fe230bb6d\" y=\"186.997635\"/>\n    </g>\n    <g clip-path=\"url(#p10006e6adc)\">\n     <use style=\"fill:#1f77b4;stroke:#ffffff;stroke-width:0.48;\" x=\"299.399412\" xlink:href=\"#C0_0_7fe230bb6d\" y=\"44.02011\"/>\n    </g>\n    <g clip-path=\"url(#p10006e6adc)\">\n     <use style=\"fill:#ff7f0e;stroke:#ffffff;stroke-width:0.48;\" x=\"342.178382\" xlink:href=\"#C0_0_7fe230bb6d\" y=\"161.338029\"/>\n    </g>\n    <g clip-path=\"url(#p10006e6adc)\">\n     <use style=\"fill:#1f77b4;stroke:#ffffff;stroke-width:0.48;\" x=\"83.275745\" xlink:href=\"#C0_0_7fe230bb6d\" y=\"194.084118\"/>\n    </g>\n    <g clip-path=\"url(#p10006e6adc)\">\n     <use style=\"fill:#ff7f0e;stroke:#ffffff;stroke-width:0.48;\" x=\"85.042505\" xlink:href=\"#C0_0_7fe230bb6d\" y=\"55.057252\"/>\n    </g>\n    <g clip-path=\"url(#p10006e6adc)\">\n     <use style=\"fill:#1f77b4;stroke:#ffffff;stroke-width:0.48;\" x=\"341.2011\" xlink:href=\"#C0_0_7fe230bb6d\" y=\"17.506795\"/>\n    </g>\n    <g clip-path=\"url(#p10006e6adc)\">\n     <use style=\"fill:#ff7f0e;stroke:#ffffff;stroke-width:0.48;\" x=\"337.82755\" xlink:href=\"#C0_0_7fe230bb6d\" y=\"164.271939\"/>\n    </g>\n    <g clip-path=\"url(#p10006e6adc)\">\n     <use style=\"fill:#1f77b4;stroke:#ffffff;stroke-width:0.48;\" x=\"327.967772\" xlink:href=\"#C0_0_7fe230bb6d\" y=\"44.837673\"/>\n    </g>\n    <g clip-path=\"url(#p10006e6adc)\">\n     <use style=\"fill:#ff7f0e;stroke:#ffffff;stroke-width:0.48;\" x=\"126.470336\" xlink:href=\"#C0_0_7fe230bb6d\" y=\"40.005078\"/>\n    </g>\n    <g clip-path=\"url(#p10006e6adc)\">\n     <use style=\"fill:#1f77b4;stroke:#ffffff;stroke-width:0.48;\" x=\"131.874387\" xlink:href=\"#C0_0_7fe230bb6d\" y=\"160.719305\"/>\n    </g>\n    <g clip-path=\"url(#p10006e6adc)\">\n     <use style=\"fill:#1f77b4;stroke:#ffffff;stroke-width:0.48;\" x=\"303.228082\" xlink:href=\"#C0_0_7fe230bb6d\" y=\"17.218124\"/>\n    </g>\n    <g clip-path=\"url(#p10006e6adc)\">\n     <use style=\"fill:#ff7f0e;stroke:#ffffff;stroke-width:0.48;\" x=\"308.430933\" xlink:href=\"#C0_0_7fe230bb6d\" y=\"163.550939\"/>\n    </g>\n    <g clip-path=\"url(#p10006e6adc)\">\n     <use style=\"fill:#ff7f0e;stroke:#ffffff;stroke-width:0.48;\" x=\"62.98826\" xlink:href=\"#C0_0_7fe230bb6d\" y=\"41.855501\"/>\n    </g>\n    <g clip-path=\"url(#p10006e6adc)\">\n     <use style=\"fill:#1f77b4;stroke:#ffffff;stroke-width:0.48;\" x=\"109.912928\" xlink:href=\"#C0_0_7fe230bb6d\" y=\"179.65909\"/>\n    </g>\n    <g clip-path=\"url(#p10006e6adc)\">\n     <use style=\"fill:#1f77b4;stroke:#ffffff;stroke-width:0.48;\" x=\"301.952169\" xlink:href=\"#C0_0_7fe230bb6d\" y=\"36.386785\"/>\n    </g>\n    <g clip-path=\"url(#p10006e6adc)\">\n     <use style=\"fill:#ff7f0e;stroke:#ffffff;stroke-width:0.48;\" x=\"103.081405\" xlink:href=\"#C0_0_7fe230bb6d\" y=\"51.002119\"/>\n    </g>\n    <g clip-path=\"url(#p10006e6adc)\">\n     <use style=\"fill:#ff7f0e;stroke:#ffffff;stroke-width:0.48;\" x=\"295.330867\" xlink:href=\"#C0_0_7fe230bb6d\" y=\"193.554509\"/>\n    </g>\n    <g clip-path=\"url(#p10006e6adc)\">\n     <use style=\"fill:#ff7f0e;stroke:#ffffff;stroke-width:0.48;\" x=\"282.659297\" xlink:href=\"#C0_0_7fe230bb6d\" y=\"168.015597\"/>\n    </g>\n    <g clip-path=\"url(#p10006e6adc)\">\n     <use style=\"fill:#ff7f0e;stroke:#ffffff;stroke-width:0.48;\" x=\"110.549833\" xlink:href=\"#C0_0_7fe230bb6d\" y=\"45.543506\"/>\n    </g>\n    <g clip-path=\"url(#p10006e6adc)\">\n     <use style=\"fill:#ff7f0e;stroke:#ffffff;stroke-width:0.48;\" x=\"326.432167\" xlink:href=\"#C0_0_7fe230bb6d\" y=\"168.741465\"/>\n    </g>\n    <g clip-path=\"url(#p10006e6adc)\">\n     <use style=\"fill:#1f77b4;stroke:#ffffff;stroke-width:0.48;\" x=\"90.563438\" xlink:href=\"#C0_0_7fe230bb6d\" y=\"164.374623\"/>\n    </g>\n    <g clip-path=\"url(#p10006e6adc)\">\n     <use style=\"fill:#ff7f0e;stroke:#ffffff;stroke-width:0.48;\" x=\"111.414555\" xlink:href=\"#C0_0_7fe230bb6d\" y=\"53.415882\"/>\n    </g>\n    <g clip-path=\"url(#p10006e6adc)\">\n     <use style=\"fill:#1f77b4;stroke:#ffffff;stroke-width:0.48;\" x=\"336.332001\" xlink:href=\"#C0_0_7fe230bb6d\" y=\"33.655965\"/>\n    </g>\n    <g clip-path=\"url(#p10006e6adc)\">\n     <use style=\"fill:#1f77b4;stroke:#ffffff;stroke-width:0.48;\" x=\"329.835826\" xlink:href=\"#C0_0_7fe230bb6d\" y=\"46.39462\"/>\n    </g>\n    <g clip-path=\"url(#p10006e6adc)\">\n     <use style=\"fill:#1f77b4;stroke:#ffffff;stroke-width:0.48;\" x=\"320.510684\" xlink:href=\"#C0_0_7fe230bb6d\" y=\"28.575885\"/>\n    </g>\n    <g clip-path=\"url(#p10006e6adc)\">\n     <use style=\"fill:#1f77b4;stroke:#ffffff;stroke-width:0.48;\" x=\"98.752877\" xlink:href=\"#C0_0_7fe230bb6d\" y=\"169.255127\"/>\n    </g>\n    <g clip-path=\"url(#p10006e6adc)\">\n     <use style=\"fill:#1f77b4;stroke:#ffffff;stroke-width:0.48;\" x=\"117.000579\" xlink:href=\"#C0_0_7fe230bb6d\" y=\"194.591594\"/>\n    </g>\n    <g clip-path=\"url(#p10006e6adc)\">\n     <use style=\"fill:#1f77b4;stroke:#ffffff;stroke-width:0.48;\" x=\"91.282065\" xlink:href=\"#C0_0_7fe230bb6d\" y=\"154.507477\"/>\n    </g>\n    <g clip-path=\"url(#p10006e6adc)\">\n     <use style=\"fill:#ff7f0e;stroke:#ffffff;stroke-width:0.48;\" x=\"106.770365\" xlink:href=\"#C0_0_7fe230bb6d\" y=\"56.166268\"/>\n    </g>\n    <g clip-path=\"url(#p10006e6adc)\">\n     <use style=\"fill:#1f77b4;stroke:#ffffff;stroke-width:0.48;\" x=\"106.859635\" xlink:href=\"#C0_0_7fe230bb6d\" y=\"186.200704\"/>\n    </g>\n    <g clip-path=\"url(#p10006e6adc)\">\n     <use style=\"fill:#1f77b4;stroke:#ffffff;stroke-width:0.48;\" x=\"128.545092\" xlink:href=\"#C0_0_7fe230bb6d\" y=\"185.749497\"/>\n    </g>\n    <g clip-path=\"url(#p10006e6adc)\">\n     <use style=\"fill:#1f77b4;stroke:#ffffff;stroke-width:0.48;\" x=\"100.321509\" xlink:href=\"#C0_0_7fe230bb6d\" y=\"180.583727\"/>\n    </g>\n    <g clip-path=\"url(#p10006e6adc)\">\n     <use style=\"fill:#1f77b4;stroke:#ffffff;stroke-width:0.48;\" x=\"129.685018\" xlink:href=\"#C0_0_7fe230bb6d\" y=\"197.093628\"/>\n    </g>\n    <g clip-path=\"url(#p10006e6adc)\">\n     <use style=\"fill:#ff7f0e;stroke:#ffffff;stroke-width:0.48;\" x=\"352.103192\" xlink:href=\"#C0_0_7fe230bb6d\" y=\"194.239461\"/>\n    </g>\n    <g clip-path=\"url(#p10006e6adc)\">\n     <use style=\"fill:#1f77b4;stroke:#ffffff;stroke-width:0.48;\" x=\"281.126693\" xlink:href=\"#C0_0_7fe230bb6d\" y=\"24.502198\"/>\n    </g>\n    <g clip-path=\"url(#p10006e6adc)\">\n     <use style=\"fill:#ff7f0e;stroke:#ffffff;stroke-width:0.48;\" x=\"307.545828\" xlink:href=\"#C0_0_7fe230bb6d\" y=\"164.956444\"/>\n    </g>\n    <g clip-path=\"url(#p10006e6adc)\">\n     <use style=\"fill:#ff7f0e;stroke:#ffffff;stroke-width:0.48;\" x=\"86.88947\" xlink:href=\"#C0_0_7fe230bb6d\" y=\"40.707973\"/>\n    </g>\n    <g clip-path=\"url(#p10006e6adc)\">\n     <use style=\"fill:#1f77b4;stroke:#ffffff;stroke-width:0.48;\" x=\"340.354823\" xlink:href=\"#C0_0_7fe230bb6d\" y=\"49.486704\"/>\n    </g>\n    <g clip-path=\"url(#p10006e6adc)\">\n     <use style=\"fill:#ff7f0e;stroke:#ffffff;stroke-width:0.48;\" x=\"132.298046\" xlink:href=\"#C0_0_7fe230bb6d\" y=\"42.763246\"/>\n    </g>\n    <g clip-path=\"url(#p10006e6adc)\">\n     <use style=\"fill:#1f77b4;stroke:#ffffff;stroke-width:0.48;\" x=\"317.545305\" xlink:href=\"#C0_0_7fe230bb6d\" y=\"48.641661\"/>\n    </g>\n    <g clip-path=\"url(#p10006e6adc)\">\n     <use style=\"fill:#ff7f0e;stroke:#ffffff;stroke-width:0.48;\" x=\"137.45078\" xlink:href=\"#C0_0_7fe230bb6d\" y=\"25.1644\"/>\n    </g>\n    <g clip-path=\"url(#p10006e6adc)\">\n     <use style=\"fill:#ff7f0e;stroke:#ffffff;stroke-width:0.48;\" x=\"326.738375\" xlink:href=\"#C0_0_7fe230bb6d\" y=\"191.2102\"/>\n    </g>\n    <g clip-path=\"url(#p10006e6adc)\">\n     <use style=\"fill:#ff7f0e;stroke:#ffffff;stroke-width:0.48;\" x=\"87.647588\" xlink:href=\"#C0_0_7fe230bb6d\" y=\"44.866914\"/>\n    </g>\n    <g clip-path=\"url(#p10006e6adc)\">\n     <use style=\"fill:#1f77b4;stroke:#ffffff;stroke-width:0.48;\" x=\"100.243545\" xlink:href=\"#C0_0_7fe230bb6d\" y=\"190.29248\"/>\n    </g>\n    <g clip-path=\"url(#p10006e6adc)\">\n     <use style=\"fill:#1f77b4;stroke:#ffffff;stroke-width:0.48;\" x=\"294.286929\" xlink:href=\"#C0_0_7fe230bb6d\" y=\"73.974521\"/>\n    </g>\n    <g clip-path=\"url(#p10006e6adc)\">\n     <use style=\"fill:#1f77b4;stroke:#ffffff;stroke-width:0.48;\" x=\"329.342683\" xlink:href=\"#C0_0_7fe230bb6d\" y=\"41.66324\"/>\n    </g>\n    <g clip-path=\"url(#p10006e6adc)\">\n     <use style=\"fill:#1f77b4;stroke:#ffffff;stroke-width:0.48;\" x=\"107.103941\" xlink:href=\"#C0_0_7fe230bb6d\" y=\"197.008956\"/>\n    </g>\n    <g clip-path=\"url(#p10006e6adc)\">\n     <use style=\"fill:#ff7f0e;stroke:#ffffff;stroke-width:0.48;\" x=\"303.907949\" xlink:href=\"#C0_0_7fe230bb6d\" y=\"170.136514\"/>\n    </g>\n    <g clip-path=\"url(#p10006e6adc)\">\n     <use style=\"fill:#1f77b4;stroke:#ffffff;stroke-width:0.48;\" x=\"126.154774\" xlink:href=\"#C0_0_7fe230bb6d\" y=\"202.559667\"/>\n    </g>\n    <g clip-path=\"url(#p10006e6adc)\">\n     <use style=\"fill:#1f77b4;stroke:#ffffff;stroke-width:0.48;\" x=\"139.159316\" xlink:href=\"#C0_0_7fe230bb6d\" y=\"161.909845\"/>\n    </g>\n    <g clip-path=\"url(#p10006e6adc)\">\n     <use style=\"fill:#ff7f0e;stroke:#ffffff;stroke-width:0.48;\" x=\"110.040175\" xlink:href=\"#C0_0_7fe230bb6d\" y=\"58.386305\"/>\n    </g>\n    <g clip-path=\"url(#p10006e6adc)\">\n     <use style=\"fill:#1f77b4;stroke:#ffffff;stroke-width:0.48;\" x=\"304.388318\" xlink:href=\"#C0_0_7fe230bb6d\" y=\"56.749954\"/>\n    </g>\n    <g clip-path=\"url(#p10006e6adc)\">\n     <use style=\"fill:#1f77b4;stroke:#ffffff;stroke-width:0.48;\" x=\"285.903441\" xlink:href=\"#C0_0_7fe230bb6d\" y=\"29.240588\"/>\n    </g>\n    <g clip-path=\"url(#p10006e6adc)\">\n     <use style=\"fill:#1f77b4;stroke:#ffffff;stroke-width:0.48;\" x=\"95.872908\" xlink:href=\"#C0_0_7fe230bb6d\" y=\"190.695431\"/>\n    </g>\n    <g clip-path=\"url(#p10006e6adc)\">\n     <use style=\"fill:#1f77b4;stroke:#ffffff;stroke-width:0.48;\" x=\"306.197827\" xlink:href=\"#C0_0_7fe230bb6d\" y=\"53.367562\"/>\n    </g>\n    <g clip-path=\"url(#p10006e6adc)\">\n     <use style=\"fill:#ff7f0e;stroke:#ffffff;stroke-width:0.48;\" x=\"121.903189\" xlink:href=\"#C0_0_7fe230bb6d\" y=\"35.01007\"/>\n    </g>\n    <g clip-path=\"url(#p10006e6adc)\">\n     <use style=\"fill:#ff7f0e;stroke:#ffffff;stroke-width:0.48;\" x=\"120.263706\" xlink:href=\"#C0_0_7fe230bb6d\" y=\"38.458135\"/>\n    </g>\n    <g clip-path=\"url(#p10006e6adc)\">\n     <use style=\"fill:#ff7f0e;stroke:#ffffff;stroke-width:0.48;\" x=\"290.691548\" xlink:href=\"#C0_0_7fe230bb6d\" y=\"171.036017\"/>\n    </g>\n    <g clip-path=\"url(#p10006e6adc)\">\n     <use style=\"fill:#1f77b4;stroke:#ffffff;stroke-width:0.48;\" x=\"108.205187\" xlink:href=\"#C0_0_7fe230bb6d\" y=\"185.915219\"/>\n    </g>\n    <g clip-path=\"url(#p10006e6adc)\">\n     <use style=\"fill:#1f77b4;stroke:#ffffff;stroke-width:0.48;\" x=\"323.686237\" xlink:href=\"#C0_0_7fe230bb6d\" y=\"18.491139\"/>\n    </g>\n    <g clip-path=\"url(#p10006e6adc)\">\n     <use style=\"fill:#1f77b4;stroke:#ffffff;stroke-width:0.48;\" x=\"102.991973\" xlink:href=\"#C0_0_7fe230bb6d\" y=\"173.641909\"/>\n    </g>\n    <g clip-path=\"url(#p10006e6adc)\">\n     <use style=\"fill:#1f77b4;stroke:#ffffff;stroke-width:0.48;\" x=\"301.731305\" xlink:href=\"#C0_0_7fe230bb6d\" y=\"61.457828\"/>\n    </g>\n    <g clip-path=\"url(#p10006e6adc)\">\n     <use style=\"fill:#ff7f0e;stroke:#ffffff;stroke-width:0.48;\" x=\"87.638116\" xlink:href=\"#C0_0_7fe230bb6d\" y=\"62.389984\"/>\n    </g>\n    <g clip-path=\"url(#p10006e6adc)\">\n     <use style=\"fill:#ff7f0e;stroke:#ffffff;stroke-width:0.48;\" x=\"118.478654\" xlink:href=\"#C0_0_7fe230bb6d\" y=\"33.043474\"/>\n    </g>\n    <g clip-path=\"url(#p10006e6adc)\">\n     <use style=\"fill:#ff7f0e;stroke:#ffffff;stroke-width:0.48;\" x=\"278.268224\" xlink:href=\"#C0_0_7fe230bb6d\" y=\"167.086298\"/>\n    </g>\n    <g clip-path=\"url(#p10006e6adc)\">\n     <use style=\"fill:#1f77b4;stroke:#ffffff;stroke-width:0.48;\" x=\"318.985298\" xlink:href=\"#C0_0_7fe230bb6d\" y=\"32.31838\"/>\n    </g>\n    <g clip-path=\"url(#p10006e6adc)\">\n     <use style=\"fill:#1f77b4;stroke:#ffffff;stroke-width:0.48;\" x=\"66.719709\" xlink:href=\"#C0_0_7fe230bb6d\" y=\"175.490878\"/>\n    </g>\n    <g clip-path=\"url(#p10006e6adc)\">\n     <use style=\"fill:#ff7f0e;stroke:#ffffff;stroke-width:0.48;\" x=\"318.412192\" xlink:href=\"#C0_0_7fe230bb6d\" y=\"195.473909\"/>\n    </g>\n    <g clip-path=\"url(#p10006e6adc)\">\n     <use style=\"fill:#1f77b4;stroke:#ffffff;stroke-width:0.48;\" x=\"285.718429\" xlink:href=\"#C0_0_7fe230bb6d\" y=\"32.078942\"/>\n    </g>\n    <g clip-path=\"url(#p10006e6adc)\">\n     <use style=\"fill:#ff7f0e;stroke:#ffffff;stroke-width:0.48;\" x=\"114.622823\" xlink:href=\"#C0_0_7fe230bb6d\" y=\"33.553154\"/>\n    </g>\n    <g clip-path=\"url(#p10006e6adc)\">\n     <use style=\"fill:#1f77b4;stroke:#ffffff;stroke-width:0.48;\" x=\"331.255059\" xlink:href=\"#C0_0_7fe230bb6d\" y=\"50.496775\"/>\n    </g>\n    <g clip-path=\"url(#p10006e6adc)\">\n     <use style=\"fill:#ff7f0e;stroke:#ffffff;stroke-width:0.48;\" x=\"124.082083\" xlink:href=\"#C0_0_7fe230bb6d\" y=\"52.673116\"/>\n    </g>\n    <g clip-path=\"url(#p10006e6adc)\">\n     <use style=\"fill:#ff7f0e;stroke:#ffffff;stroke-width:0.48;\" x=\"288.616172\" xlink:href=\"#C0_0_7fe230bb6d\" y=\"179.99261\"/>\n    </g>\n    <g clip-path=\"url(#p10006e6adc)\">\n     <use style=\"fill:#ff7f0e;stroke:#ffffff;stroke-width:0.48;\" x=\"275.860113\" xlink:href=\"#C0_0_7fe230bb6d\" y=\"182.689421\"/>\n    </g>\n    <g clip-path=\"url(#p10006e6adc)\">\n     <use style=\"fill:#1f77b4;stroke:#ffffff;stroke-width:0.48;\" x=\"84.655175\" xlink:href=\"#C0_0_7fe230bb6d\" y=\"181.704964\"/>\n    </g>\n    <g clip-path=\"url(#p10006e6adc)\">\n     <use style=\"fill:#ff7f0e;stroke:#ffffff;stroke-width:0.48;\" x=\"119.855257\" xlink:href=\"#C0_0_7fe230bb6d\" y=\"47.251914\"/>\n    </g>\n    <g clip-path=\"url(#p10006e6adc)\">\n     <use style=\"fill:#ff7f0e;stroke:#ffffff;stroke-width:0.48;\" x=\"53.700994\" xlink:href=\"#C0_0_7fe230bb6d\" y=\"54.421206\"/>\n    </g>\n    <g clip-path=\"url(#p10006e6adc)\">\n     <use style=\"fill:#ff7f0e;stroke:#ffffff;stroke-width:0.48;\" x=\"97.993086\" xlink:href=\"#C0_0_7fe230bb6d\" y=\"62.351052\"/>\n    </g>\n    <g clip-path=\"url(#p10006e6adc)\">\n     <use style=\"fill:#1f77b4;stroke:#ffffff;stroke-width:0.48;\" x=\"102.156717\" xlink:href=\"#C0_0_7fe230bb6d\" y=\"214.756364\"/>\n    </g>\n    <g clip-path=\"url(#p10006e6adc)\">\n     <use style=\"fill:#1f77b4;stroke:#ffffff;stroke-width:0.48;\" x=\"101.339123\" xlink:href=\"#C0_0_7fe230bb6d\" y=\"184.75412\"/>\n    </g>\n    <g clip-path=\"url(#p10006e6adc)\">\n     <use style=\"fill:#1f77b4;stroke:#ffffff;stroke-width:0.48;\" x=\"74.131157\" xlink:href=\"#C0_0_7fe230bb6d\" y=\"184.889412\"/>\n    </g>\n    <g clip-path=\"url(#p10006e6adc)\">\n     <use style=\"fill:#ff7f0e;stroke:#ffffff;stroke-width:0.48;\" x=\"124.466295\" xlink:href=\"#C0_0_7fe230bb6d\" y=\"36.99824\"/>\n    </g>\n    <g clip-path=\"url(#p10006e6adc)\">\n     <use style=\"fill:#ff7f0e;stroke:#ffffff;stroke-width:0.48;\" x=\"91.532447\" xlink:href=\"#C0_0_7fe230bb6d\" y=\"48.105118\"/>\n    </g>\n    <g clip-path=\"url(#p10006e6adc)\">\n     <use style=\"fill:#1f77b4;stroke:#ffffff;stroke-width:0.48;\" x=\"352.584603\" xlink:href=\"#C0_0_7fe230bb6d\" y=\"50.634487\"/>\n    </g>\n    <g clip-path=\"url(#p10006e6adc)\">\n     <use style=\"fill:#ff7f0e;stroke:#ffffff;stroke-width:0.48;\" x=\"101.293305\" xlink:href=\"#C0_0_7fe230bb6d\" y=\"40.65066\"/>\n    </g>\n    <g clip-path=\"url(#p10006e6adc)\">\n     <use style=\"fill:#1f77b4;stroke:#ffffff;stroke-width:0.48;\" x=\"301.718594\" xlink:href=\"#C0_0_7fe230bb6d\" y=\"58.64145\"/>\n    </g>\n    <g clip-path=\"url(#p10006e6adc)\">\n     <use style=\"fill:#ff7f0e;stroke:#ffffff;stroke-width:0.48;\" x=\"125.411456\" xlink:href=\"#C0_0_7fe230bb6d\" y=\"53.142958\"/>\n    </g>\n    <g clip-path=\"url(#p10006e6adc)\">\n     <use style=\"fill:#1f77b4;stroke:#ffffff;stroke-width:0.48;\" x=\"340.590444\" xlink:href=\"#C0_0_7fe230bb6d\" y=\"24.561732\"/>\n    </g>\n    <g clip-path=\"url(#p10006e6adc)\">\n     <use style=\"fill:#ff7f0e;stroke:#ffffff;stroke-width:0.48;\" x=\"346.218863\" xlink:href=\"#C0_0_7fe230bb6d\" y=\"187.199596\"/>\n    </g>\n    <g clip-path=\"url(#p10006e6adc)\">\n     <use style=\"fill:#ff7f0e;stroke:#ffffff;stroke-width:0.48;\" x=\"79.884579\" xlink:href=\"#C0_0_7fe230bb6d\" y=\"24.729854\"/>\n    </g>\n    <g clip-path=\"url(#p10006e6adc)\">\n     <use style=\"fill:#1f77b4;stroke:#ffffff;stroke-width:0.48;\" x=\"74.977493\" xlink:href=\"#C0_0_7fe230bb6d\" y=\"170.202932\"/>\n    </g>\n    <g clip-path=\"url(#p10006e6adc)\">\n     <use style=\"fill:#ff7f0e;stroke:#ffffff;stroke-width:0.48;\" x=\"347.314155\" xlink:href=\"#C0_0_7fe230bb6d\" y=\"169.894641\"/>\n    </g>\n    <g clip-path=\"url(#p10006e6adc)\">\n     <use style=\"fill:#ff7f0e;stroke:#ffffff;stroke-width:0.48;\" x=\"327.425149\" xlink:href=\"#C0_0_7fe230bb6d\" y=\"156.747177\"/>\n    </g>\n    <g clip-path=\"url(#p10006e6adc)\">\n     <use style=\"fill:#ff7f0e;stroke:#ffffff;stroke-width:0.48;\" x=\"281.952992\" xlink:href=\"#C0_0_7fe230bb6d\" y=\"196.181226\"/>\n    </g>\n    <g clip-path=\"url(#p10006e6adc)\">\n     <use style=\"fill:#1f77b4;stroke:#ffffff;stroke-width:0.48;\" x=\"318.587693\" xlink:href=\"#C0_0_7fe230bb6d\" y=\"67.311462\"/>\n    </g>\n    <g clip-path=\"url(#p10006e6adc)\">\n     <use style=\"fill:#ff7f0e;stroke:#ffffff;stroke-width:0.48;\" x=\"287.823158\" xlink:href=\"#C0_0_7fe230bb6d\" y=\"212.135539\"/>\n    </g>\n    <g clip-path=\"url(#p10006e6adc)\">\n     <use style=\"fill:#ff7f0e;stroke:#ffffff;stroke-width:0.48;\" x=\"107.611954\" xlink:href=\"#C0_0_7fe230bb6d\" y=\"26.229242\"/>\n    </g>\n    <g clip-path=\"url(#p10006e6adc)\">\n     <use style=\"fill:#1f77b4;stroke:#ffffff;stroke-width:0.48;\" x=\"334.07604\" xlink:href=\"#C0_0_7fe230bb6d\" y=\"74.543464\"/>\n    </g>\n    <g clip-path=\"url(#p10006e6adc)\">\n     <use style=\"fill:#1f77b4;stroke:#ffffff;stroke-width:0.48;\" x=\"137.82331\" xlink:href=\"#C0_0_7fe230bb6d\" y=\"203.185443\"/>\n    </g>\n    <g clip-path=\"url(#p10006e6adc)\">\n     <use style=\"fill:#1f77b4;stroke:#ffffff;stroke-width:0.48;\" x=\"123.307466\" xlink:href=\"#C0_0_7fe230bb6d\" y=\"191.952422\"/>\n    </g>\n    <g clip-path=\"url(#p10006e6adc)\">\n     <use style=\"fill:#ff7f0e;stroke:#ffffff;stroke-width:0.48;\" x=\"291.878236\" xlink:href=\"#C0_0_7fe230bb6d\" y=\"163.841701\"/>\n    </g>\n    <g clip-path=\"url(#p10006e6adc)\">\n     <use style=\"fill:#ff7f0e;stroke:#ffffff;stroke-width:0.48;\" x=\"271.916262\" xlink:href=\"#C0_0_7fe230bb6d\" y=\"149.906715\"/>\n    </g>\n    <g clip-path=\"url(#p10006e6adc)\">\n     <use style=\"fill:#1f77b4;stroke:#ffffff;stroke-width:0.48;\" x=\"102.681945\" xlink:href=\"#C0_0_7fe230bb6d\" y=\"174.905721\"/>\n    </g>\n    <g clip-path=\"url(#p10006e6adc)\">\n     <use style=\"fill:#1f77b4;stroke:#ffffff;stroke-width:0.48;\" x=\"103.947863\" xlink:href=\"#C0_0_7fe230bb6d\" y=\"172.593431\"/>\n    </g>\n    <g clip-path=\"url(#p10006e6adc)\">\n     <use style=\"fill:#ff7f0e;stroke:#ffffff;stroke-width:0.48;\" x=\"86.97099\" xlink:href=\"#C0_0_7fe230bb6d\" y=\"32.002179\"/>\n    </g>\n    <g clip-path=\"url(#p10006e6adc)\">\n     <use style=\"fill:#ff7f0e;stroke:#ffffff;stroke-width:0.48;\" x=\"122.722151\" xlink:href=\"#C0_0_7fe230bb6d\" y=\"44.728979\"/>\n    </g>\n    <g clip-path=\"url(#p10006e6adc)\">\n     <use style=\"fill:#ff7f0e;stroke:#ffffff;stroke-width:0.48;\" x=\"330.778831\" xlink:href=\"#C0_0_7fe230bb6d\" y=\"169.175816\"/>\n    </g>\n    <g clip-path=\"url(#p10006e6adc)\">\n     <use style=\"fill:#1f77b4;stroke:#ffffff;stroke-width:0.48;\" x=\"319.505425\" xlink:href=\"#C0_0_7fe230bb6d\" y=\"38.751299\"/>\n    </g>\n    <g clip-path=\"url(#p10006e6adc)\">\n     <use style=\"fill:#1f77b4;stroke:#ffffff;stroke-width:0.48;\" x=\"300.697933\" xlink:href=\"#C0_0_7fe230bb6d\" y=\"73.035981\"/>\n    </g>\n    <g clip-path=\"url(#p10006e6adc)\">\n     <use style=\"fill:#ff7f0e;stroke:#ffffff;stroke-width:0.48;\" x=\"98.27759\" xlink:href=\"#C0_0_7fe230bb6d\" y=\"36.281868\"/>\n    </g>\n    <g clip-path=\"url(#p10006e6adc)\">\n     <use style=\"fill:#ff7f0e;stroke:#ffffff;stroke-width:0.48;\" x=\"116.205455\" xlink:href=\"#C0_0_7fe230bb6d\" y=\"46.460416\"/>\n    </g>\n    <g clip-path=\"url(#p10006e6adc)\">\n     <use style=\"fill:#1f77b4;stroke:#ffffff;stroke-width:0.48;\" x=\"102.616695\" xlink:href=\"#C0_0_7fe230bb6d\" y=\"180.403433\"/>\n    </g>\n    <g clip-path=\"url(#p10006e6adc)\">\n     <use style=\"fill:#ff7f0e;stroke:#ffffff;stroke-width:0.48;\" x=\"113.804586\" xlink:href=\"#C0_0_7fe230bb6d\" y=\"49.698662\"/>\n    </g>\n    <g clip-path=\"url(#p10006e6adc)\">\n     <use style=\"fill:#1f77b4;stroke:#ffffff;stroke-width:0.48;\" x=\"120.72831\" xlink:href=\"#C0_0_7fe230bb6d\" y=\"171.732346\"/>\n    </g>\n    <g clip-path=\"url(#p10006e6adc)\">\n     <use style=\"fill:#ff7f0e;stroke:#ffffff;stroke-width:0.48;\" x=\"306.031937\" xlink:href=\"#C0_0_7fe230bb6d\" y=\"162.053202\"/>\n    </g>\n    <g clip-path=\"url(#p10006e6adc)\">\n     <use style=\"fill:#1f77b4;stroke:#ffffff;stroke-width:0.48;\" x=\"123.093342\" xlink:href=\"#C0_0_7fe230bb6d\" y=\"178.999678\"/>\n    </g>\n    <g clip-path=\"url(#p10006e6adc)\">\n     <use style=\"fill:#1f77b4;stroke:#ffffff;stroke-width:0.48;\" x=\"319.082522\" xlink:href=\"#C0_0_7fe230bb6d\" y=\"22.472348\"/>\n    </g>\n    <g clip-path=\"url(#p10006e6adc)\">\n     <use style=\"fill:#1f77b4;stroke:#ffffff;stroke-width:0.48;\" x=\"317.717482\" xlink:href=\"#C0_0_7fe230bb6d\" y=\"20.636158\"/>\n    </g>\n    <g clip-path=\"url(#p10006e6adc)\">\n     <use style=\"fill:#ff7f0e;stroke:#ffffff;stroke-width:0.48;\" x=\"317.968605\" xlink:href=\"#C0_0_7fe230bb6d\" y=\"152.832051\"/>\n    </g>\n    <g clip-path=\"url(#p10006e6adc)\">\n     <use style=\"fill:#ff7f0e;stroke:#ffffff;stroke-width:0.48;\" x=\"331.251413\" xlink:href=\"#C0_0_7fe230bb6d\" y=\"170.061839\"/>\n    </g>\n    <g clip-path=\"url(#p10006e6adc)\">\n     <use style=\"fill:#1f77b4;stroke:#ffffff;stroke-width:0.48;\" x=\"105.733154\" xlink:href=\"#C0_0_7fe230bb6d\" y=\"192.990219\"/>\n    </g>\n    <g clip-path=\"url(#p10006e6adc)\">\n     <use style=\"fill:#ff7f0e;stroke:#ffffff;stroke-width:0.48;\" x=\"162.454306\" xlink:href=\"#C0_0_7fe230bb6d\" y=\"44.186586\"/>\n    </g>\n    <g clip-path=\"url(#p10006e6adc)\">\n     <use style=\"fill:#1f77b4;stroke:#ffffff;stroke-width:0.48;\" x=\"335.289464\" xlink:href=\"#C0_0_7fe230bb6d\" y=\"22.583469\"/>\n    </g>\n    <g clip-path=\"url(#p10006e6adc)\">\n     <use style=\"fill:#ff7f0e;stroke:#ffffff;stroke-width:0.48;\" x=\"280.831385\" xlink:href=\"#C0_0_7fe230bb6d\" y=\"198.460036\"/>\n    </g>\n    <g clip-path=\"url(#p10006e6adc)\">\n     <use style=\"fill:#ff7f0e;stroke:#ffffff;stroke-width:0.48;\" x=\"358.064631\" xlink:href=\"#C0_0_7fe230bb6d\" y=\"197.508323\"/>\n    </g>\n    <g clip-path=\"url(#p10006e6adc)\">\n     <use style=\"fill:#1f77b4;stroke:#ffffff;stroke-width:0.48;\" x=\"308.780508\" xlink:href=\"#C0_0_7fe230bb6d\" y=\"57.256573\"/>\n    </g>\n    <g clip-path=\"url(#p10006e6adc)\">\n     <use style=\"fill:#1f77b4;stroke:#ffffff;stroke-width:0.48;\" x=\"332.54098\" xlink:href=\"#C0_0_7fe230bb6d\" y=\"18.455744\"/>\n    </g>\n    <g clip-path=\"url(#p10006e6adc)\">\n     <use style=\"fill:#1f77b4;stroke:#ffffff;stroke-width:0.48;\" x=\"92.884977\" xlink:href=\"#C0_0_7fe230bb6d\" y=\"177.834915\"/>\n    </g>\n    <g clip-path=\"url(#p10006e6adc)\">\n     <use style=\"fill:#ff7f0e;stroke:#ffffff;stroke-width:0.48;\" x=\"300.500569\" xlink:href=\"#C0_0_7fe230bb6d\" y=\"194.475077\"/>\n    </g>\n    <g clip-path=\"url(#p10006e6adc)\">\n     <use style=\"fill:#ff7f0e;stroke:#ffffff;stroke-width:0.48;\" x=\"92.923884\" xlink:href=\"#C0_0_7fe230bb6d\" y=\"54.684158\"/>\n    </g>\n    <g clip-path=\"url(#p10006e6adc)\">\n     <use style=\"fill:#1f77b4;stroke:#ffffff;stroke-width:0.48;\" x=\"311.647261\" xlink:href=\"#C0_0_7fe230bb6d\" y=\"32.87731\"/>\n    </g>\n    <g clip-path=\"url(#p10006e6adc)\">\n     <use style=\"fill:#1f77b4;stroke:#ffffff;stroke-width:0.48;\" x=\"108.045412\" xlink:href=\"#C0_0_7fe230bb6d\" y=\"197.3973\"/>\n    </g>\n    <g clip-path=\"url(#p10006e6adc)\">\n     <use style=\"fill:#ff7f0e;stroke:#ffffff;stroke-width:0.48;\" x=\"89.542367\" xlink:href=\"#C0_0_7fe230bb6d\" y=\"44.183345\"/>\n    </g>\n    <g clip-path=\"url(#p10006e6adc)\">\n     <use style=\"fill:#1f77b4;stroke:#ffffff;stroke-width:0.48;\" x=\"121.941567\" xlink:href=\"#C0_0_7fe230bb6d\" y=\"189.192581\"/>\n    </g>\n    <g clip-path=\"url(#p10006e6adc)\">\n     <use style=\"fill:#1f77b4;stroke:#ffffff;stroke-width:0.48;\" x=\"91.8316\" xlink:href=\"#C0_0_7fe230bb6d\" y=\"176.098464\"/>\n    </g>\n   </g>\n   <g id=\"PathCollection_2\"/>\n   <g id=\"PathCollection_3\"/>\n   <g id=\"matplotlib.axis_1\">\n    <g id=\"xtick_1\">\n     <g id=\"line2d_1\">\n      <defs>\n       <path d=\"M 0 0 \nL 0 3.5 \n\" id=\"m644903c57d\" style=\"stroke:#000000;stroke-width:0.8;\"/>\n      </defs>\n      <g>\n       <use style=\"stroke:#000000;stroke-width:0.8;\" x=\"64.538629\" xlink:href=\"#m644903c57d\" y=\"224.64\"/>\n      </g>\n     </g>\n     <g id=\"text_1\">\n      <!-- −0.2 -->\n      <defs>\n       <path d=\"M 10.59375 35.5 \nL 73.1875 35.5 \nL 73.1875 27.203125 \nL 10.59375 27.203125 \nz\n\" id=\"DejaVuSans-8722\"/>\n       <path d=\"M 31.78125 66.40625 \nQ 24.171875 66.40625 20.328125 58.90625 \nQ 16.5 51.421875 16.5 36.375 \nQ 16.5 21.390625 20.328125 13.890625 \nQ 24.171875 6.390625 31.78125 6.390625 \nQ 39.453125 6.390625 43.28125 13.890625 \nQ 47.125 21.390625 47.125 36.375 \nQ 47.125 51.421875 43.28125 58.90625 \nQ 39.453125 66.40625 31.78125 66.40625 \nz\nM 31.78125 74.21875 \nQ 44.046875 74.21875 50.515625 64.515625 \nQ 56.984375 54.828125 56.984375 36.375 \nQ 56.984375 17.96875 50.515625 8.265625 \nQ 44.046875 -1.421875 31.78125 -1.421875 \nQ 19.53125 -1.421875 13.0625 8.265625 \nQ 6.59375 17.96875 6.59375 36.375 \nQ 6.59375 54.828125 13.0625 64.515625 \nQ 19.53125 74.21875 31.78125 74.21875 \nz\n\" id=\"DejaVuSans-48\"/>\n       <path d=\"M 10.6875 12.40625 \nL 21 12.40625 \nL 21 0 \nL 10.6875 0 \nz\n\" id=\"DejaVuSans-46\"/>\n       <path d=\"M 19.1875 8.296875 \nL 53.609375 8.296875 \nL 53.609375 0 \nL 7.328125 0 \nL 7.328125 8.296875 \nQ 12.9375 14.109375 22.625 23.890625 \nQ 32.328125 33.6875 34.8125 36.53125 \nQ 39.546875 41.84375 41.421875 45.53125 \nQ 43.3125 49.21875 43.3125 52.78125 \nQ 43.3125 58.59375 39.234375 62.25 \nQ 35.15625 65.921875 28.609375 65.921875 \nQ 23.96875 65.921875 18.8125 64.3125 \nQ 13.671875 62.703125 7.8125 59.421875 \nL 7.8125 69.390625 \nQ 13.765625 71.78125 18.9375 73 \nQ 24.125 74.21875 28.421875 74.21875 \nQ 39.75 74.21875 46.484375 68.546875 \nQ 53.21875 62.890625 53.21875 53.421875 \nQ 53.21875 48.921875 51.53125 44.890625 \nQ 49.859375 40.875 45.40625 35.40625 \nQ 44.1875 33.984375 37.640625 27.21875 \nQ 31.109375 20.453125 19.1875 8.296875 \nz\n\" id=\"DejaVuSans-50\"/>\n      </defs>\n      <g transform=\"translate(52.397223 239.238437)scale(0.1 -0.1)\">\n       <use xlink:href=\"#DejaVuSans-8722\"/>\n       <use x=\"83.789062\" xlink:href=\"#DejaVuSans-48\"/>\n       <use x=\"147.412109\" xlink:href=\"#DejaVuSans-46\"/>\n       <use x=\"179.199219\" xlink:href=\"#DejaVuSans-50\"/>\n      </g>\n     </g>\n    </g>\n    <g id=\"xtick_2\">\n     <g id=\"line2d_2\">\n      <g>\n       <use style=\"stroke:#000000;stroke-width:0.8;\" x=\"106.149863\" xlink:href=\"#m644903c57d\" y=\"224.64\"/>\n      </g>\n     </g>\n     <g id=\"text_2\">\n      <!-- 0.0 -->\n      <g transform=\"translate(98.198301 239.238437)scale(0.1 -0.1)\">\n       <use xlink:href=\"#DejaVuSans-48\"/>\n       <use x=\"63.623047\" xlink:href=\"#DejaVuSans-46\"/>\n       <use x=\"95.410156\" xlink:href=\"#DejaVuSans-48\"/>\n      </g>\n     </g>\n    </g>\n    <g id=\"xtick_3\">\n     <g id=\"line2d_3\">\n      <g>\n       <use style=\"stroke:#000000;stroke-width:0.8;\" x=\"147.761097\" xlink:href=\"#m644903c57d\" y=\"224.64\"/>\n      </g>\n     </g>\n     <g id=\"text_3\">\n      <!-- 0.2 -->\n      <g transform=\"translate(139.809534 239.238437)scale(0.1 -0.1)\">\n       <use xlink:href=\"#DejaVuSans-48\"/>\n       <use x=\"63.623047\" xlink:href=\"#DejaVuSans-46\"/>\n       <use x=\"95.410156\" xlink:href=\"#DejaVuSans-50\"/>\n      </g>\n     </g>\n    </g>\n    <g id=\"xtick_4\">\n     <g id=\"line2d_4\">\n      <g>\n       <use style=\"stroke:#000000;stroke-width:0.8;\" x=\"189.372331\" xlink:href=\"#m644903c57d\" y=\"224.64\"/>\n      </g>\n     </g>\n     <g id=\"text_4\">\n      <!-- 0.4 -->\n      <defs>\n       <path d=\"M 37.796875 64.3125 \nL 12.890625 25.390625 \nL 37.796875 25.390625 \nz\nM 35.203125 72.90625 \nL 47.609375 72.90625 \nL 47.609375 25.390625 \nL 58.015625 25.390625 \nL 58.015625 17.1875 \nL 47.609375 17.1875 \nL 47.609375 0 \nL 37.796875 0 \nL 37.796875 17.1875 \nL 4.890625 17.1875 \nL 4.890625 26.703125 \nz\n\" id=\"DejaVuSans-52\"/>\n      </defs>\n      <g transform=\"translate(181.420768 239.238437)scale(0.1 -0.1)\">\n       <use xlink:href=\"#DejaVuSans-48\"/>\n       <use x=\"63.623047\" xlink:href=\"#DejaVuSans-46\"/>\n       <use x=\"95.410156\" xlink:href=\"#DejaVuSans-52\"/>\n      </g>\n     </g>\n    </g>\n    <g id=\"xtick_5\">\n     <g id=\"line2d_5\">\n      <g>\n       <use style=\"stroke:#000000;stroke-width:0.8;\" x=\"230.983565\" xlink:href=\"#m644903c57d\" y=\"224.64\"/>\n      </g>\n     </g>\n     <g id=\"text_5\">\n      <!-- 0.6 -->\n      <defs>\n       <path d=\"M 33.015625 40.375 \nQ 26.375 40.375 22.484375 35.828125 \nQ 18.609375 31.296875 18.609375 23.390625 \nQ 18.609375 15.53125 22.484375 10.953125 \nQ 26.375 6.390625 33.015625 6.390625 \nQ 39.65625 6.390625 43.53125 10.953125 \nQ 47.40625 15.53125 47.40625 23.390625 \nQ 47.40625 31.296875 43.53125 35.828125 \nQ 39.65625 40.375 33.015625 40.375 \nz\nM 52.59375 71.296875 \nL 52.59375 62.3125 \nQ 48.875 64.0625 45.09375 64.984375 \nQ 41.3125 65.921875 37.59375 65.921875 \nQ 27.828125 65.921875 22.671875 59.328125 \nQ 17.53125 52.734375 16.796875 39.40625 \nQ 19.671875 43.65625 24.015625 45.921875 \nQ 28.375 48.1875 33.59375 48.1875 \nQ 44.578125 48.1875 50.953125 41.515625 \nQ 57.328125 34.859375 57.328125 23.390625 \nQ 57.328125 12.15625 50.6875 5.359375 \nQ 44.046875 -1.421875 33.015625 -1.421875 \nQ 20.359375 -1.421875 13.671875 8.265625 \nQ 6.984375 17.96875 6.984375 36.375 \nQ 6.984375 53.65625 15.1875 63.9375 \nQ 23.390625 74.21875 37.203125 74.21875 \nQ 40.921875 74.21875 44.703125 73.484375 \nQ 48.484375 72.75 52.59375 71.296875 \nz\n\" id=\"DejaVuSans-54\"/>\n      </defs>\n      <g transform=\"translate(223.032002 239.238437)scale(0.1 -0.1)\">\n       <use xlink:href=\"#DejaVuSans-48\"/>\n       <use x=\"63.623047\" xlink:href=\"#DejaVuSans-46\"/>\n       <use x=\"95.410156\" xlink:href=\"#DejaVuSans-54\"/>\n      </g>\n     </g>\n    </g>\n    <g id=\"xtick_6\">\n     <g id=\"line2d_6\">\n      <g>\n       <use style=\"stroke:#000000;stroke-width:0.8;\" x=\"272.594798\" xlink:href=\"#m644903c57d\" y=\"224.64\"/>\n      </g>\n     </g>\n     <g id=\"text_6\">\n      <!-- 0.8 -->\n      <defs>\n       <path d=\"M 31.78125 34.625 \nQ 24.75 34.625 20.71875 30.859375 \nQ 16.703125 27.09375 16.703125 20.515625 \nQ 16.703125 13.921875 20.71875 10.15625 \nQ 24.75 6.390625 31.78125 6.390625 \nQ 38.8125 6.390625 42.859375 10.171875 \nQ 46.921875 13.96875 46.921875 20.515625 \nQ 46.921875 27.09375 42.890625 30.859375 \nQ 38.875 34.625 31.78125 34.625 \nz\nM 21.921875 38.8125 \nQ 15.578125 40.375 12.03125 44.71875 \nQ 8.5 49.078125 8.5 55.328125 \nQ 8.5 64.0625 14.71875 69.140625 \nQ 20.953125 74.21875 31.78125 74.21875 \nQ 42.671875 74.21875 48.875 69.140625 \nQ 55.078125 64.0625 55.078125 55.328125 \nQ 55.078125 49.078125 51.53125 44.71875 \nQ 48 40.375 41.703125 38.8125 \nQ 48.828125 37.15625 52.796875 32.3125 \nQ 56.78125 27.484375 56.78125 20.515625 \nQ 56.78125 9.90625 50.3125 4.234375 \nQ 43.84375 -1.421875 31.78125 -1.421875 \nQ 19.734375 -1.421875 13.25 4.234375 \nQ 6.78125 9.90625 6.78125 20.515625 \nQ 6.78125 27.484375 10.78125 32.3125 \nQ 14.796875 37.15625 21.921875 38.8125 \nz\nM 18.3125 54.390625 \nQ 18.3125 48.734375 21.84375 45.5625 \nQ 25.390625 42.390625 31.78125 42.390625 \nQ 38.140625 42.390625 41.71875 45.5625 \nQ 45.3125 48.734375 45.3125 54.390625 \nQ 45.3125 60.0625 41.71875 63.234375 \nQ 38.140625 66.40625 31.78125 66.40625 \nQ 25.390625 66.40625 21.84375 63.234375 \nQ 18.3125 60.0625 18.3125 54.390625 \nz\n\" id=\"DejaVuSans-56\"/>\n      </defs>\n      <g transform=\"translate(264.643236 239.238437)scale(0.1 -0.1)\">\n       <use xlink:href=\"#DejaVuSans-48\"/>\n       <use x=\"63.623047\" xlink:href=\"#DejaVuSans-46\"/>\n       <use x=\"95.410156\" xlink:href=\"#DejaVuSans-56\"/>\n      </g>\n     </g>\n    </g>\n    <g id=\"xtick_7\">\n     <g id=\"line2d_7\">\n      <g>\n       <use style=\"stroke:#000000;stroke-width:0.8;\" x=\"314.206032\" xlink:href=\"#m644903c57d\" y=\"224.64\"/>\n      </g>\n     </g>\n     <g id=\"text_7\">\n      <!-- 1.0 -->\n      <defs>\n       <path d=\"M 12.40625 8.296875 \nL 28.515625 8.296875 \nL 28.515625 63.921875 \nL 10.984375 60.40625 \nL 10.984375 69.390625 \nL 28.421875 72.90625 \nL 38.28125 72.90625 \nL 38.28125 8.296875 \nL 54.390625 8.296875 \nL 54.390625 0 \nL 12.40625 0 \nz\n\" id=\"DejaVuSans-49\"/>\n      </defs>\n      <g transform=\"translate(306.25447 239.238437)scale(0.1 -0.1)\">\n       <use xlink:href=\"#DejaVuSans-49\"/>\n       <use x=\"63.623047\" xlink:href=\"#DejaVuSans-46\"/>\n       <use x=\"95.410156\" xlink:href=\"#DejaVuSans-48\"/>\n      </g>\n     </g>\n    </g>\n    <g id=\"xtick_8\">\n     <g id=\"line2d_8\">\n      <g>\n       <use style=\"stroke:#000000;stroke-width:0.8;\" x=\"355.817266\" xlink:href=\"#m644903c57d\" y=\"224.64\"/>\n      </g>\n     </g>\n     <g id=\"text_8\">\n      <!-- 1.2 -->\n      <g transform=\"translate(347.865704 239.238437)scale(0.1 -0.1)\">\n       <use xlink:href=\"#DejaVuSans-49\"/>\n       <use x=\"63.623047\" xlink:href=\"#DejaVuSans-46\"/>\n       <use x=\"95.410156\" xlink:href=\"#DejaVuSans-50\"/>\n      </g>\n     </g>\n    </g>\n   </g>\n   <g id=\"matplotlib.axis_2\">\n    <g id=\"ytick_1\">\n     <g id=\"line2d_9\">\n      <defs>\n       <path d=\"M 0 0 \nL -3.5 0 \n\" id=\"m9e9f1a547a\" style=\"stroke:#000000;stroke-width:0.8;\"/>\n      </defs>\n      <g>\n       <use style=\"stroke:#000000;stroke-width:0.8;\" x=\"38.482813\" xlink:href=\"#m9e9f1a547a\" y=\"208.824545\"/>\n      </g>\n     </g>\n     <g id=\"text_9\">\n      <!-- −0.2 -->\n      <g transform=\"translate(7.2 212.623764)scale(0.1 -0.1)\">\n       <use xlink:href=\"#DejaVuSans-8722\"/>\n       <use x=\"83.789062\" xlink:href=\"#DejaVuSans-48\"/>\n       <use x=\"147.412109\" xlink:href=\"#DejaVuSans-46\"/>\n       <use x=\"179.199219\" xlink:href=\"#DejaVuSans-50\"/>\n      </g>\n     </g>\n    </g>\n    <g id=\"ytick_2\">\n     <g id=\"line2d_10\">\n      <g>\n       <use style=\"stroke:#000000;stroke-width:0.8;\" x=\"38.482813\" xlink:href=\"#m9e9f1a547a\" y=\"181.217492\"/>\n      </g>\n     </g>\n     <g id=\"text_10\">\n      <!-- 0.0 -->\n      <g transform=\"translate(15.579688 185.016711)scale(0.1 -0.1)\">\n       <use xlink:href=\"#DejaVuSans-48\"/>\n       <use x=\"63.623047\" xlink:href=\"#DejaVuSans-46\"/>\n       <use x=\"95.410156\" xlink:href=\"#DejaVuSans-48\"/>\n      </g>\n     </g>\n    </g>\n    <g id=\"ytick_3\">\n     <g id=\"line2d_11\">\n      <g>\n       <use style=\"stroke:#000000;stroke-width:0.8;\" x=\"38.482813\" xlink:href=\"#m9e9f1a547a\" y=\"153.610439\"/>\n      </g>\n     </g>\n     <g id=\"text_11\">\n      <!-- 0.2 -->\n      <g transform=\"translate(15.579688 157.409658)scale(0.1 -0.1)\">\n       <use xlink:href=\"#DejaVuSans-48\"/>\n       <use x=\"63.623047\" xlink:href=\"#DejaVuSans-46\"/>\n       <use x=\"95.410156\" xlink:href=\"#DejaVuSans-50\"/>\n      </g>\n     </g>\n    </g>\n    <g id=\"ytick_4\">\n     <g id=\"line2d_12\">\n      <g>\n       <use style=\"stroke:#000000;stroke-width:0.8;\" x=\"38.482813\" xlink:href=\"#m9e9f1a547a\" y=\"126.003385\"/>\n      </g>\n     </g>\n     <g id=\"text_12\">\n      <!-- 0.4 -->\n      <g transform=\"translate(15.579688 129.802604)scale(0.1 -0.1)\">\n       <use xlink:href=\"#DejaVuSans-48\"/>\n       <use x=\"63.623047\" xlink:href=\"#DejaVuSans-46\"/>\n       <use x=\"95.410156\" xlink:href=\"#DejaVuSans-52\"/>\n      </g>\n     </g>\n    </g>\n    <g id=\"ytick_5\">\n     <g id=\"line2d_13\">\n      <g>\n       <use style=\"stroke:#000000;stroke-width:0.8;\" x=\"38.482813\" xlink:href=\"#m9e9f1a547a\" y=\"98.396332\"/>\n      </g>\n     </g>\n     <g id=\"text_13\">\n      <!-- 0.6 -->\n      <g transform=\"translate(15.579688 102.195551)scale(0.1 -0.1)\">\n       <use xlink:href=\"#DejaVuSans-48\"/>\n       <use x=\"63.623047\" xlink:href=\"#DejaVuSans-46\"/>\n       <use x=\"95.410156\" xlink:href=\"#DejaVuSans-54\"/>\n      </g>\n     </g>\n    </g>\n    <g id=\"ytick_6\">\n     <g id=\"line2d_14\">\n      <g>\n       <use style=\"stroke:#000000;stroke-width:0.8;\" x=\"38.482813\" xlink:href=\"#m9e9f1a547a\" y=\"70.789279\"/>\n      </g>\n     </g>\n     <g id=\"text_14\">\n      <!-- 0.8 -->\n      <g transform=\"translate(15.579688 74.588498)scale(0.1 -0.1)\">\n       <use xlink:href=\"#DejaVuSans-48\"/>\n       <use x=\"63.623047\" xlink:href=\"#DejaVuSans-46\"/>\n       <use x=\"95.410156\" xlink:href=\"#DejaVuSans-56\"/>\n      </g>\n     </g>\n    </g>\n    <g id=\"ytick_7\">\n     <g id=\"line2d_15\">\n      <g>\n       <use style=\"stroke:#000000;stroke-width:0.8;\" x=\"38.482813\" xlink:href=\"#m9e9f1a547a\" y=\"43.182226\"/>\n      </g>\n     </g>\n     <g id=\"text_15\">\n      <!-- 1.0 -->\n      <g transform=\"translate(15.579688 46.981444)scale(0.1 -0.1)\">\n       <use xlink:href=\"#DejaVuSans-49\"/>\n       <use x=\"63.623047\" xlink:href=\"#DejaVuSans-46\"/>\n       <use x=\"95.410156\" xlink:href=\"#DejaVuSans-48\"/>\n      </g>\n     </g>\n    </g>\n    <g id=\"ytick_8\">\n     <g id=\"line2d_16\">\n      <g>\n       <use style=\"stroke:#000000;stroke-width:0.8;\" x=\"38.482813\" xlink:href=\"#m9e9f1a547a\" y=\"15.575172\"/>\n      </g>\n     </g>\n     <g id=\"text_16\">\n      <!-- 1.2 -->\n      <g transform=\"translate(15.579688 19.374391)scale(0.1 -0.1)\">\n       <use xlink:href=\"#DejaVuSans-49\"/>\n       <use x=\"63.623047\" xlink:href=\"#DejaVuSans-46\"/>\n       <use x=\"95.410156\" xlink:href=\"#DejaVuSans-50\"/>\n      </g>\n     </g>\n    </g>\n   </g>\n   <g id=\"patch_3\">\n    <path d=\"M 38.482813 224.64 \nL 38.482813 7.2 \n\" style=\"fill:none;stroke:#000000;stroke-linecap:square;stroke-linejoin:miter;stroke-width:0.8;\"/>\n   </g>\n   <g id=\"patch_4\">\n    <path d=\"M 373.282813 224.64 \nL 373.282813 7.2 \n\" style=\"fill:none;stroke:#000000;stroke-linecap:square;stroke-linejoin:miter;stroke-width:0.8;\"/>\n   </g>\n   <g id=\"patch_5\">\n    <path d=\"M 38.482812 224.64 \nL 373.282812 224.64 \n\" style=\"fill:none;stroke:#000000;stroke-linecap:square;stroke-linejoin:miter;stroke-width:0.8;\"/>\n   </g>\n   <g id=\"patch_6\">\n    <path d=\"M 38.482812 7.2 \nL 373.282812 7.2 \n\" style=\"fill:none;stroke:#000000;stroke-linecap:square;stroke-linejoin:miter;stroke-width:0.8;\"/>\n   </g>\n   <g id=\"legend_1\">\n    <g id=\"patch_7\">\n     <path d=\"M 327.920313 132.098125 \nL 366.282813 132.098125 \nQ 368.282813 132.098125 368.282813 130.098125 \nL 368.282813 101.741875 \nQ 368.282813 99.741875 366.282813 99.741875 \nL 327.920313 99.741875 \nQ 325.920313 99.741875 325.920313 101.741875 \nL 325.920313 130.098125 \nQ 325.920313 132.098125 327.920313 132.098125 \nz\n\" style=\"fill:#ffffff;opacity:0.8;stroke:#cccccc;stroke-linejoin:miter;\"/>\n    </g>\n    <g id=\"PathCollection_4\">\n     <defs>\n      <path d=\"M 0 3 \nC 0.795609 3 1.55874 2.683901 2.12132 2.12132 \nC 2.683901 1.55874 3 0.795609 3 0 \nC 3 -0.795609 2.683901 -1.55874 2.12132 -2.12132 \nC 1.55874 -2.683901 0.795609 -3 0 -3 \nC -0.795609 -3 -1.55874 -2.683901 -2.12132 -2.12132 \nC -2.683901 -1.55874 -3 -0.795609 -3 0 \nC -3 0.795609 -2.683901 1.55874 -2.12132 2.12132 \nC -1.55874 2.683901 -0.795609 3 0 3 \nz\n\" id=\"m6675feeced\" style=\"stroke:#1f77b4;\"/>\n     </defs>\n     <g>\n      <use style=\"fill:#1f77b4;stroke:#1f77b4;\" x=\"339.920313\" xlink:href=\"#m6675feeced\" y=\"108.715312\"/>\n     </g>\n    </g>\n    <g id=\"text_17\">\n     <!-- 0 -->\n     <g transform=\"translate(357.920313 111.340312)scale(0.1 -0.1)\">\n      <use xlink:href=\"#DejaVuSans-48\"/>\n     </g>\n    </g>\n    <g id=\"PathCollection_5\">\n     <defs>\n      <path d=\"M 0 3 \nC 0.795609 3 1.55874 2.683901 2.12132 2.12132 \nC 2.683901 1.55874 3 0.795609 3 0 \nC 3 -0.795609 2.683901 -1.55874 2.12132 -2.12132 \nC 1.55874 -2.683901 0.795609 -3 0 -3 \nC -0.795609 -3 -1.55874 -2.683901 -2.12132 -2.12132 \nC -2.683901 -1.55874 -3 -0.795609 -3 0 \nC -3 0.795609 -2.683901 1.55874 -2.12132 2.12132 \nC -1.55874 2.683901 -0.795609 3 0 3 \nz\n\" id=\"m332482969e\" style=\"stroke:#ff7f0e;\"/>\n     </defs>\n     <g>\n      <use style=\"fill:#ff7f0e;stroke:#ff7f0e;\" x=\"339.920313\" xlink:href=\"#m332482969e\" y=\"123.393437\"/>\n     </g>\n    </g>\n    <g id=\"text_18\">\n     <!-- 1 -->\n     <g transform=\"translate(357.920313 126.018437)scale(0.1 -0.1)\">\n      <use xlink:href=\"#DejaVuSans-49\"/>\n     </g>\n    </g>\n   </g>\n  </g>\n </g>\n <defs>\n  <clipPath id=\"p10006e6adc\">\n   <rect height=\"217.44\" width=\"334.8\" x=\"38.482813\" y=\"7.2\"/>\n  </clipPath>\n </defs>\n</svg>\n",
            "application/pdf": "[encoded data removed]"
          },
          "metadata": {
            "needs_background": "light"
          }
        }
      ]
    },
    {
      "cell_type": "code",
      "source": [
        "data_loader = TUD.DataLoader(dataset, batch_size=8, shuffle=True) "
      ],
      "metadata": {
        "id": "MPMfkzlB33qj"
      },
      "execution_count": 27,
      "outputs": []
    },
    {
      "cell_type": "markdown",
      "source": [
        "The class torch.utils.data.DataLoader represents a Python iterable over a dataset with support for automatic batching, multi-process data loading and many more features. The data loader communicates with the dataset using the function __getitem__, and stacks its outputs as tensors over the first dimension to form a batch. In contrast to the dataset class, we usually don’t have to define our own data loader class, but can just create an object of it with the dataset as input. "
      ],
      "metadata": {
        "id": "cFKfQBJz4Q9G"
      }
    },
    {
      "cell_type": "code",
      "source": [
        "# next(iter(...)) catches the first batch of the data loader\n",
        "# If shuffle is True, this will return a different batch every time we run this cell\n",
        "# For iterating over the whole dataset, we can simple use \"for batch in data_loader: ...\"\n",
        "data_inputs, data_labels = next(iter(data_loader))\n",
        "\n",
        "# The shape of the outputs are [batch_size, d_1,...,d_N] where d_1,...,d_N are the\n",
        "# dimensions of the data point returned from the dataset class\n",
        "print(\"Data inputs\", data_inputs.shape, \"\\n\", data_inputs)\n",
        "print(\"Data labels\", data_labels.shape, \"\\n\", data_labels)"
      ],
      "metadata": {
        "colab": {
          "base_uri": "https://localhost:8080/"
        },
        "id": "1Fi1tJh34FaI",
        "outputId": "6d8e9f5e-4dff-44eb-c67e-cad3df06fd4d"
      },
      "execution_count": 28,
      "outputs": [
        {
          "output_type": "stream",
          "name": "stdout",
          "text": [
            "Data inputs torch.Size([8, 2]) \n",
            " tensor([[ 1.0211,  0.8252],\n",
            "        [ 0.1587,  0.1399],\n",
            "        [ 1.1297,  1.1860],\n",
            "        [ 0.0593,  1.0735],\n",
            "        [ 0.9739,  0.8980],\n",
            "        [ 0.0226,  0.9619],\n",
            "        [ 0.2403,  0.9906],\n",
            "        [ 0.9341, -0.0960]])\n",
            "Data labels torch.Size([8]) \n",
            " tensor([0, 0, 0, 1, 0, 1, 1, 1])\n"
          ]
        }
      ]
    },
    {
      "cell_type": "code",
      "source": [
        "loss_module = nn.BCEWithLogitsLoss()\n",
        "optimizer = torch.optim.SGD(model.parameters(), lr=0.1)"
      ],
      "metadata": {
        "id": "7asdnqtY5N3S"
      },
      "execution_count": 29,
      "outputs": []
    },
    {
      "cell_type": "code",
      "source": [
        "train_dataset = XORDataset(size=1000)\n",
        "train_data_loader = TUD.DataLoader(train_dataset, batch_size=128, shuffle=True)"
      ],
      "metadata": {
        "id": "ZQrsTCWs5cai"
      },
      "execution_count": 30,
      "outputs": []
    },
    {
      "cell_type": "code",
      "source": [
        "model.to(device)"
      ],
      "metadata": {
        "colab": {
          "base_uri": "https://localhost:8080/"
        },
        "id": "CoyWkjg45f8S",
        "outputId": "c1805b1b-caa3-4f5d-d9cd-74a547c27a6b"
      },
      "execution_count": 31,
      "outputs": [
        {
          "output_type": "execute_result",
          "data": {
            "text/plain": [
              "SimpleClassifier(\n",
              "  (linear1): Linear(in_features=2, out_features=4, bias=True)\n",
              "  (act_fn): Tanh()\n",
              "  (linear2): Linear(in_features=4, out_features=1, bias=True)\n",
              ")"
            ]
          },
          "metadata": {},
          "execution_count": 31
        }
      ]
    },
    {
      "cell_type": "code",
      "source": [
        "def train_model(model, optimizer, data_loader, loss_module, num_epochs=100):\n",
        "    # Set model to train mode\n",
        "    model.train()\n",
        "\n",
        "    # Training loop\n",
        "    for epoch in tqdm(range(num_epochs)):\n",
        "        for data_inputs, data_labels in data_loader:\n",
        "\n",
        "            # Step 1: Move input data to device (only strictly necessary if we use GPU)\n",
        "            data_inputs = data_inputs.to(device)\n",
        "            data_labels = data_labels.to(device)\n",
        "\n",
        "            # Step 2: Run the model on the input data\n",
        "            preds = model(data_inputs)\n",
        "            preds = preds.squeeze(dim=1)  # Output is [Batch size, 1], but we want [Batch size]\n",
        "\n",
        "            # Step 3: Calculate the loss\n",
        "            loss = loss_module(preds, data_labels.float())\n",
        "\n",
        "            # Step 4: Perform backpropagation\n",
        "            # Before calculating the gradients, we need to ensure that they are all zero.\n",
        "            # The gradients would not be overwritten, but actually added to the existing ones.\n",
        "            optimizer.zero_grad()\n",
        "            # Perform backpropagation\n",
        "            loss.backward()\n",
        "\n",
        "            # Step 5: Update the parameters\n",
        "            optimizer.step()"
      ],
      "metadata": {
        "id": "fJVPfFHC5iVI"
      },
      "execution_count": 32,
      "outputs": []
    },
    {
      "cell_type": "code",
      "source": [
        "train_model(model, optimizer, train_data_loader, loss_module)"
      ],
      "metadata": {
        "colab": {
          "base_uri": "https://localhost:8080/",
          "height": 49,
          "referenced_widgets": [
            "279796793db7413bb8faa9a6f712da00",
            "5acaa1b93d634cabb527f5a6cef25526",
            "b41eba8701c8416b947dd82af724d8b2",
            "6618e8aa3e434ab7b633857447c575fa",
            "65e086af70df4114bf6ad7749ce0c9eb",
            "1224d83ff0c44d79943a5e621d1f5f5e",
            "811a28ceee2f4b9fa7de8e1745709c3b",
            "64c1fbf231d24ba8bbe9c67305143d8b",
            "d324bb3bc10d4ca7af7b1bb05d8997b3",
            "54a4fc3a2c3e4f3d9e59f571c6ce212f",
            "b808c7ac4c6c47ae9b49fcfc8ed87725"
          ]
        },
        "id": "9FbH-a4j5mbr",
        "outputId": "1bdd0a17-95a4-4b13-80f6-3ac49fc69da3"
      },
      "execution_count": 33,
      "outputs": [
        {
          "output_type": "display_data",
          "data": {
            "text/plain": [
              "  0%|          | 0/100 [00:00<?, ?it/s]"
            ],
            "application/vnd.jupyter.widget-view+json": {
              "version_major": 2,
              "version_minor": 0,
              "model_id": "279796793db7413bb8faa9a6f712da00"
            }
          },
          "metadata": {}
        }
      ]
    },
    {
      "cell_type": "code",
      "source": [
        "state_dict = model.state_dict()\n",
        "print(state_dict)"
      ],
      "metadata": {
        "colab": {
          "base_uri": "https://localhost:8080/"
        },
        "id": "wZfOjljV5sAQ",
        "outputId": "6b445c4f-5528-43ba-de3b-94b36bc6f0a6"
      },
      "execution_count": 34,
      "outputs": [
        {
          "output_type": "stream",
          "name": "stdout",
          "text": [
            "OrderedDict([('linear1.weight', tensor([[-0.3586, -0.4029],\n",
            "        [-2.6447, -2.6702],\n",
            "        [-1.4792, -1.3036],\n",
            "        [ 0.1347, -0.6538]], device='cuda:0')), ('linear1.bias', tensor([-0.0310,  1.0750,  2.0364, -0.7691], device='cuda:0')), ('linear2.weight', tensor([[ 0.7838, -3.2562,  2.6642,  1.3423]], device='cuda:0')), ('linear2.bias', tensor([-1.3138], device='cuda:0'))])\n"
          ]
        }
      ]
    },
    {
      "cell_type": "code",
      "source": [
        "# torch.save(object, filename). For the filename, any extension can be used\n",
        "torch.save(state_dict, \"our_model.tar\")"
      ],
      "metadata": {
        "id": "hIVV39lg5wTx"
      },
      "execution_count": 35,
      "outputs": []
    },
    {
      "cell_type": "code",
      "source": [
        "# Load state dict from the disk (make sure it is the same name as above)\n",
        "state_dict = torch.load(\"our_model.tar\")\n",
        "\n",
        "# Create a new model and load the state\n",
        "new_model = SimpleClassifier(num_inputs=2, num_hidden=4, num_outputs=1)\n",
        "new_model.load_state_dict(state_dict)\n",
        "\n",
        "# Verify that the parameters are the same\n",
        "print(\"Original model\\n\", model.state_dict())\n",
        "print(\"\\nLoaded model\\n\", new_model.state_dict())"
      ],
      "metadata": {
        "colab": {
          "base_uri": "https://localhost:8080/"
        },
        "id": "mO74SHQM5zMw",
        "outputId": "afdef78e-7f00-4eee-9412-2b7937975851"
      },
      "execution_count": 36,
      "outputs": [
        {
          "output_type": "stream",
          "name": "stdout",
          "text": [
            "Original model\n",
            " OrderedDict([('linear1.weight', tensor([[-0.3586, -0.4029],\n",
            "        [-2.6447, -2.6702],\n",
            "        [-1.4792, -1.3036],\n",
            "        [ 0.1347, -0.6538]], device='cuda:0')), ('linear1.bias', tensor([-0.0310,  1.0750,  2.0364, -0.7691], device='cuda:0')), ('linear2.weight', tensor([[ 0.7838, -3.2562,  2.6642,  1.3423]], device='cuda:0')), ('linear2.bias', tensor([-1.3138], device='cuda:0'))])\n",
            "\n",
            "Loaded model\n",
            " OrderedDict([('linear1.weight', tensor([[-0.3586, -0.4029],\n",
            "        [-2.6447, -2.6702],\n",
            "        [-1.4792, -1.3036],\n",
            "        [ 0.1347, -0.6538]])), ('linear1.bias', tensor([-0.0310,  1.0750,  2.0364, -0.7691])), ('linear2.weight', tensor([[ 0.7838, -3.2562,  2.6642,  1.3423]])), ('linear2.bias', tensor([-1.3138]))])\n"
          ]
        }
      ]
    },
    {
      "cell_type": "code",
      "source": [
        "test_dataset = XORDataset(size=500)\n",
        "# drop_last -> Don't drop the last batch although it is smaller than 128\n",
        "test_data_loader = TUD.DataLoader(test_dataset, batch_size=128, shuffle=False, drop_last=False)"
      ],
      "metadata": {
        "id": "VPTIAifO51EU"
      },
      "execution_count": 38,
      "outputs": []
    },
    {
      "cell_type": "code",
      "source": [
        "def eval_model(model, data_loader):\n",
        "    model.eval()  # Set model to eval mode\n",
        "    true_preds, num_preds = 0.0, 0.0\n",
        "\n",
        "    with torch.no_grad():  # Deactivate gradients for the following code\n",
        "        for data_inputs, data_labels in data_loader:\n",
        "\n",
        "            # Determine prediction of model on dev set\n",
        "            data_inputs, data_labels = data_inputs.to(device), data_labels.to(device)\n",
        "            preds = model(data_inputs)\n",
        "            preds = preds.squeeze(dim=1)\n",
        "            preds = torch.sigmoid(preds)  # Sigmoid to map predictions between 0 and 1\n",
        "            pred_labels = (preds >= 0.5).long()  # Binarize predictions to 0 and 1\n",
        "\n",
        "            # Keep records of predictions for the accuracy metric (true_preds=TP+TN, num_preds=TP+TN+FP+FN)\n",
        "            true_preds += (pred_labels == data_labels).sum()\n",
        "            num_preds += data_labels.shape[0]\n",
        "\n",
        "    acc = true_preds / num_preds\n",
        "    print(f\"Accuracy of the model: {100.0*acc:4.2f}%\")"
      ],
      "metadata": {
        "id": "ndjCDx8p57EL"
      },
      "execution_count": 39,
      "outputs": []
    },
    {
      "cell_type": "code",
      "source": [
        "eval_model(model, test_data_loader)"
      ],
      "metadata": {
        "colab": {
          "base_uri": "https://localhost:8080/"
        },
        "id": "RU8TR5c56Bhq",
        "outputId": "2cfb4d9c-2e22-40e2-e2be-efe54ece4102"
      },
      "execution_count": 40,
      "outputs": [
        {
          "output_type": "stream",
          "name": "stdout",
          "text": [
            "Accuracy of the model: 99.80%\n"
          ]
        }
      ]
    },
    {
      "cell_type": "code",
      "source": [
        "@torch.no_grad()  # Decorator, same effect as \"with torch.no_grad(): ...\" over the whole function.\n",
        "def visualize_classification(model, data, label):\n",
        "    if isinstance(data, torch.Tensor):\n",
        "        data = data.cpu().numpy()\n",
        "    if isinstance(label, torch.Tensor):\n",
        "        label = label.cpu().numpy()\n",
        "    data_0 = data[label == 0]\n",
        "    data_1 = data[label == 1]\n",
        "\n",
        "    plt.figure(figsize=(4, 4))\n",
        "    plt.scatter(data_0[:, 0], data_0[:, 1], edgecolor=\"#333\", label=\"Class 0\")\n",
        "    plt.scatter(data_1[:, 0], data_1[:, 1], edgecolor=\"#333\", label=\"Class 1\")\n",
        "    plt.title(\"Dataset samples\")\n",
        "    plt.ylabel(r\"$x_2$\")\n",
        "    plt.xlabel(r\"$x_1$\")\n",
        "    plt.legend()\n",
        "\n",
        "    # Let's make use of a lot of operations we have learned above\n",
        "    model.to(device)\n",
        "    c0 = torch.Tensor(to_rgba(\"C0\")).to(device)\n",
        "    c1 = torch.Tensor(to_rgba(\"C1\")).to(device)\n",
        "    x1 = torch.arange(-0.5, 1.5, step=0.01, device=device)\n",
        "    x2 = torch.arange(-0.5, 1.5, step=0.01, device=device)\n",
        "    xx1, xx2 = torch.meshgrid(x1, x2)  # Meshgrid function as in numpy\n",
        "    model_inputs = torch.stack([xx1, xx2], dim=-1)\n",
        "    preds = model(model_inputs)\n",
        "    preds = torch.sigmoid(preds)\n",
        "    # Specifying \"None\" in a dimension creates a new one\n",
        "    output_image = (1 - preds) * c0[None, None] + preds * c1[None, None]\n",
        "    output_image = (\n",
        "        output_image.cpu().numpy()\n",
        "    )  # Convert to numpy array. This only works for tensors on CPU, hence first push to CPU\n",
        "    plt.imshow(output_image, origin=\"lower\", extent=(-0.5, 1.5, -0.5, 1.5))\n",
        "    plt.grid(False)\n",
        "\n",
        "\n",
        "visualize_classification(model, dataset.data, dataset.label)\n",
        "plt.show()"
      ],
      "metadata": {
        "colab": {
          "base_uri": "https://localhost:8080/",
          "height": 391
        },
        "id": "hZK6sgV56FmZ",
        "outputId": "81106ba8-16f1-44d5-ad7a-08bea23cd530"
      },
      "execution_count": 41,
      "outputs": [
        {
          "output_type": "display_data",
          "data": {
            "text/plain": [
              "<Figure size 288x288 with 1 Axes>"
            ],
            "image/svg+xml": "<?xml version=\"1.0\" encoding=\"utf-8\" standalone=\"no\"?>\n<!DOCTYPE svg PUBLIC \"-//W3C//DTD SVG 1.1//EN\"\n  \"http://www.w3.org/Graphics/SVG/1.1/DTD/svg11.dtd\">\n<!-- Created with matplotlib (https://matplotlib.org/) -->\n<svg height=\"277.314375pt\" version=\"1.1\" viewBox=\"0 0 291.115 277.314375\" width=\"291.115pt\" xmlns=\"http://www.w3.org/2000/svg\" xmlns:xlink=\"http://www.w3.org/1999/xlink\">\n <defs>\n  <style type=\"text/css\">\n*{stroke-linecap:butt;stroke-linejoin:round;}\n  </style>\n </defs>\n <g id=\"figure_1\">\n  <g id=\"patch_1\">\n   <path d=\"M 0 277.314375 \nL 291.115 277.314375 \nL 291.115 0 \nL 0 0 \nz\n\" style=\"fill:none;\"/>\n  </g>\n  <g id=\"axes_1\">\n   <g id=\"patch_2\">\n    <path d=\"M 58.523438 239.758125 \nL 275.963437 239.758125 \nL 275.963437 22.318125 \nL 58.523438 22.318125 \nz\n\" style=\"fill:#ffffff;\"/>\n   </g>\n   <g clip-path=\"url(#pfec3bbce63)\">\n    <image height=\"218\" id=\"imagea1e9ae38d6\" transform=\"scale(1 -1)translate(0 -218)\" width=\"218\" x=\"58.523438\" xlink:href=\"data:image/png;base64,\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\" y=\"-21.758125\"/>\n   </g>\n   <g id=\"PathCollection_1\">\n    <defs>\n     <path d=\"M 0 3 \nC 0.795609 3 1.55874 2.683901 2.12132 2.12132 \nC 2.683901 1.55874 3 0.795609 3 0 \nC 3 -0.795609 2.683901 -1.55874 2.12132 -2.12132 \nC 1.55874 -2.683901 0.795609 -3 0 -3 \nC -0.795609 -3 -1.55874 -2.683901 -2.12132 -2.12132 \nC -2.683901 -1.55874 -3 -0.795609 -3 0 \nC -3 0.795609 -2.683901 1.55874 -2.12132 2.12132 \nC -1.55874 2.683901 -0.795609 3 0 3 \nz\n\" id=\"mc526c338b0\" style=\"stroke:#333333;\"/>\n    </defs>\n    <g clip-path=\"url(#pfec3bbce63)\">\n     <use style=\"fill:#1f77b4;stroke:#333333;\" x=\"224.678443\" xlink:href=\"#mc526c338b0\" y=\"72.026794\"/>\n     <use style=\"fill:#1f77b4;stroke:#333333;\" x=\"215.057751\" xlink:href=\"#mc526c338b0\" y=\"66.834364\"/>\n     <use style=\"fill:#1f77b4;stroke:#333333;\" x=\"238.143375\" xlink:href=\"#mc526c338b0\" y=\"85.731092\"/>\n     <use style=\"fill:#1f77b4;stroke:#333333;\" x=\"116.691917\" xlink:href=\"#mc526c338b0\" y=\"183.782268\"/>\n     <use style=\"fill:#1f77b4;stroke:#333333;\" x=\"228.003676\" xlink:href=\"#mc526c338b0\" y=\"82.385207\"/>\n     <use style=\"fill:#1f77b4;stroke:#333333;\" x=\"219.401142\" xlink:href=\"#mc526c338b0\" y=\"77.451085\"/>\n     <use style=\"fill:#1f77b4;stroke:#333333;\" x=\"214.085446\" xlink:href=\"#mc526c338b0\" y=\"88.025328\"/>\n     <use style=\"fill:#1f77b4;stroke:#333333;\" x=\"228.669557\" xlink:href=\"#mc526c338b0\" y=\"82.036565\"/>\n     <use style=\"fill:#1f77b4;stroke:#333333;\" x=\"212.685441\" xlink:href=\"#mc526c338b0\" y=\"73.233877\"/>\n     <use style=\"fill:#1f77b4;stroke:#333333;\" x=\"112.130475\" xlink:href=\"#mc526c338b0\" y=\"183.02716\"/>\n     <use style=\"fill:#1f77b4;stroke:#333333;\" x=\"218.531808\" xlink:href=\"#mc526c338b0\" y=\"79.706304\"/>\n     <use style=\"fill:#1f77b4;stroke:#333333;\" x=\"239.633825\" xlink:href=\"#mc526c338b0\" y=\"80.994397\"/>\n     <use style=\"fill:#1f77b4;stroke:#333333;\" x=\"122.008015\" xlink:href=\"#mc526c338b0\" y=\"191.757377\"/>\n     <use style=\"fill:#1f77b4;stroke:#333333;\" x=\"116.060682\" xlink:href=\"#mc526c338b0\" y=\"192.256288\"/>\n     <use style=\"fill:#1f77b4;stroke:#333333;\" x=\"92.277532\" xlink:href=\"#mc526c338b0\" y=\"180.061819\"/>\n     <use style=\"fill:#1f77b4;stroke:#333333;\" x=\"227.018994\" xlink:href=\"#mc526c338b0\" y=\"76.887462\"/>\n     <use style=\"fill:#1f77b4;stroke:#333333;\" x=\"218.499712\" xlink:href=\"#mc526c338b0\" y=\"71.275153\"/>\n     <use style=\"fill:#1f77b4;stroke:#333333;\" x=\"110.302013\" xlink:href=\"#mc526c338b0\" y=\"191.868518\"/>\n     <use style=\"fill:#1f77b4;stroke:#333333;\" x=\"222.828211\" xlink:href=\"#mc526c338b0\" y=\"72.953996\"/>\n     <use style=\"fill:#1f77b4;stroke:#333333;\" x=\"117.798662\" xlink:href=\"#mc526c338b0\" y=\"188.528318\"/>\n     <use style=\"fill:#1f77b4;stroke:#333333;\" x=\"236.949732\" xlink:href=\"#mc526c338b0\" y=\"56.122229\"/>\n     <use style=\"fill:#1f77b4;stroke:#333333;\" x=\"223.235039\" xlink:href=\"#mc526c338b0\" y=\"80.056541\"/>\n     <use style=\"fill:#1f77b4;stroke:#333333;\" x=\"218.619913\" xlink:href=\"#mc526c338b0\" y=\"76.248163\"/>\n     <use style=\"fill:#1f77b4;stroke:#333333;\" x=\"110.525586\" xlink:href=\"#mc526c338b0\" y=\"198.228967\"/>\n     <use style=\"fill:#1f77b4;stroke:#333333;\" x=\"106.581102\" xlink:href=\"#mc526c338b0\" y=\"176.499583\"/>\n     <use style=\"fill:#1f77b4;stroke:#333333;\" x=\"233.588936\" xlink:href=\"#mc526c338b0\" y=\"102.286439\"/>\n     <use style=\"fill:#1f77b4;stroke:#333333;\" x=\"236.369999\" xlink:href=\"#mc526c338b0\" y=\"96.725344\"/>\n     <use style=\"fill:#1f77b4;stroke:#333333;\" x=\"213.86622\" xlink:href=\"#mc526c338b0\" y=\"77.338064\"/>\n     <use style=\"fill:#1f77b4;stroke:#333333;\" x=\"100.93054\" xlink:href=\"#mc526c338b0\" y=\"195.532199\"/>\n     <use style=\"fill:#1f77b4;stroke:#333333;\" x=\"235.709742\" xlink:href=\"#mc526c338b0\" y=\"56.455519\"/>\n     <use style=\"fill:#1f77b4;stroke:#333333;\" x=\"228.794651\" xlink:href=\"#mc526c338b0\" y=\"77.981996\"/>\n     <use style=\"fill:#1f77b4;stroke:#333333;\" x=\"126.325818\" xlink:href=\"#mc526c338b0\" y=\"169.253244\"/>\n     <use style=\"fill:#1f77b4;stroke:#333333;\" x=\"215.866897\" xlink:href=\"#mc526c338b0\" y=\"56.228154\"/>\n     <use style=\"fill:#1f77b4;stroke:#333333;\" x=\"114.849831\" xlink:href=\"#mc526c338b0\" y=\"184.170689\"/>\n     <use style=\"fill:#1f77b4;stroke:#333333;\" x=\"215.200167\" xlink:href=\"#mc526c338b0\" y=\"71.325868\"/>\n     <use style=\"fill:#1f77b4;stroke:#333333;\" x=\"104.738732\" xlink:href=\"#mc526c338b0\" y=\"172.132264\"/>\n     <use style=\"fill:#1f77b4;stroke:#333333;\" x=\"233.165389\" xlink:href=\"#mc526c338b0\" y=\"69.175006\"/>\n     <use style=\"fill:#1f77b4;stroke:#333333;\" x=\"229.770805\" xlink:href=\"#mc526c338b0\" y=\"79.208287\"/>\n     <use style=\"fill:#1f77b4;stroke:#333333;\" x=\"224.897941\" xlink:href=\"#mc526c338b0\" y=\"65.173809\"/>\n     <use style=\"fill:#1f77b4;stroke:#333333;\" x=\"109.018133\" xlink:href=\"#mc526c338b0\" y=\"175.976269\"/>\n     <use style=\"fill:#1f77b4;stroke:#333333;\" x=\"118.553492\" xlink:href=\"#mc526c338b0\" y=\"195.931899\"/>\n     <use style=\"fill:#1f77b4;stroke:#333333;\" x=\"105.114252\" xlink:href=\"#mc526c338b0\" y=\"164.360655\"/>\n     <use style=\"fill:#1f77b4;stroke:#333333;\" x=\"113.25433\" xlink:href=\"#mc526c338b0\" y=\"189.323026\"/>\n     <use style=\"fill:#1f77b4;stroke:#333333;\" x=\"124.586091\" xlink:href=\"#mc526c338b0\" y=\"188.967644\"/>\n     <use style=\"fill:#1f77b4;stroke:#333333;\" x=\"109.837824\" xlink:href=\"#mc526c338b0\" y=\"184.898956\"/>\n     <use style=\"fill:#1f77b4;stroke:#333333;\" x=\"125.181761\" xlink:href=\"#mc526c338b0\" y=\"197.902563\"/>\n     <use style=\"fill:#1f77b4;stroke:#333333;\" x=\"204.317789\" xlink:href=\"#mc526c338b0\" y=\"61.965272\"/>\n     <use style=\"fill:#1f77b4;stroke:#333333;\" x=\"235.267519\" xlink:href=\"#mc526c338b0\" y=\"81.643688\"/>\n     <use style=\"fill:#1f77b4;stroke:#333333;\" x=\"223.348378\" xlink:href=\"#mc526c338b0\" y=\"80.978112\"/>\n     <use style=\"fill:#1f77b4;stroke:#333333;\" x=\"109.797084\" xlink:href=\"#mc526c338b0\" y=\"192.545811\"/>\n     <use style=\"fill:#1f77b4;stroke:#333333;\" x=\"211.194686\" xlink:href=\"#mc526c338b0\" y=\"100.930901\"/>\n     <use style=\"fill:#1f77b4;stroke:#333333;\" x=\"229.513113\" xlink:href=\"#mc526c338b0\" y=\"75.481734\"/>\n     <use style=\"fill:#1f77b4;stroke:#333333;\" x=\"113.381992\" xlink:href=\"#mc526c338b0\" y=\"197.835874\"/>\n     <use style=\"fill:#1f77b4;stroke:#333333;\" x=\"123.337028\" xlink:href=\"#mc526c338b0\" y=\"202.207751\"/>\n     <use style=\"fill:#1f77b4;stroke:#333333;\" x=\"130.132567\" xlink:href=\"#mc526c338b0\" y=\"170.190943\"/>\n     <use style=\"fill:#1f77b4;stroke:#333333;\" x=\"216.473179\" xlink:href=\"#mc526c338b0\" y=\"87.364405\"/>\n     <use style=\"fill:#1f77b4;stroke:#333333;\" x=\"206.813885\" xlink:href=\"#mc526c338b0\" y=\"65.697345\"/>\n     <use style=\"fill:#1f77b4;stroke:#333333;\" x=\"107.513202\" xlink:href=\"#mc526c338b0\" y=\"192.863185\"/>\n     <use style=\"fill:#1f77b4;stroke:#333333;\" x=\"217.41874\" xlink:href=\"#mc526c338b0\" y=\"84.700348\"/>\n     <use style=\"fill:#1f77b4;stroke:#333333;\" x=\"113.95745\" xlink:href=\"#mc526c338b0\" y=\"189.098171\"/>\n     <use style=\"fill:#1f77b4;stroke:#333333;\" x=\"226.55733\" xlink:href=\"#mc526c338b0\" y=\"57.230812\"/>\n     <use style=\"fill:#1f77b4;stroke:#333333;\" x=\"111.233278\" xlink:href=\"#mc526c338b0\" y=\"179.431408\"/>\n     <use style=\"fill:#1f77b4;stroke:#333333;\" x=\"215.084754\" xlink:href=\"#mc526c338b0\" y=\"91.072443\"/>\n     <use style=\"fill:#1f77b4;stroke:#333333;\" x=\"224.100848\" xlink:href=\"#mc526c338b0\" y=\"68.121491\"/>\n     <use style=\"fill:#1f77b4;stroke:#333333;\" x=\"92.279163\" xlink:href=\"#mc526c338b0\" y=\"180.887702\"/>\n     <use style=\"fill:#1f77b4;stroke:#333333;\" x=\"206.717206\" xlink:href=\"#mc526c338b0\" y=\"67.932904\"/>\n     <use style=\"fill:#1f77b4;stroke:#333333;\" x=\"230.512427\" xlink:href=\"#mc526c338b0\" y=\"82.439245\"/>\n     <use style=\"fill:#1f77b4;stroke:#333333;\" x=\"101.651362\" xlink:href=\"#mc526c338b0\" y=\"185.78207\"/>\n     <use style=\"fill:#1f77b4;stroke:#333333;\" x=\"110.796814\" xlink:href=\"#mc526c338b0\" y=\"211.814172\"/>\n     <use style=\"fill:#1f77b4;stroke:#333333;\" x=\"110.369579\" xlink:href=\"#mc526c338b0\" y=\"188.183661\"/>\n     <use style=\"fill:#1f77b4;stroke:#333333;\" x=\"96.152024\" xlink:href=\"#mc526c338b0\" y=\"188.29022\"/>\n     <use style=\"fill:#1f77b4;stroke:#333333;\" x=\"241.658206\" xlink:href=\"#mc526c338b0\" y=\"82.547711\"/>\n     <use style=\"fill:#1f77b4;stroke:#333333;\" x=\"215.078112\" xlink:href=\"#mc526c338b0\" y=\"88.854193\"/>\n     <use style=\"fill:#1f77b4;stroke:#333333;\" x=\"235.390643\" xlink:href=\"#mc526c338b0\" y=\"62.012163\"/>\n     <use style=\"fill:#1f77b4;stroke:#333333;\" x=\"96.594278\" xlink:href=\"#mc526c338b0\" y=\"176.722784\"/>\n     <use style=\"fill:#1f77b4;stroke:#333333;\" x=\"223.89308\" xlink:href=\"#mc526c338b0\" y=\"95.68291\"/>\n     <use style=\"fill:#1f77b4;stroke:#333333;\" x=\"231.986534\" xlink:href=\"#mc526c338b0\" y=\"101.379014\"/>\n     <use style=\"fill:#1f77b4;stroke:#333333;\" x=\"129.434435\" xlink:href=\"#mc526c338b0\" y=\"202.700628\"/>\n     <use style=\"fill:#1f77b4;stroke:#333333;\" x=\"121.849164\" xlink:href=\"#mc526c338b0\" y=\"193.853222\"/>\n     <use style=\"fill:#1f77b4;stroke:#333333;\" x=\"111.071273\" xlink:href=\"#mc526c338b0\" y=\"180.426817\"/>\n     <use style=\"fill:#1f77b4;stroke:#333333;\" x=\"111.73278\" xlink:href=\"#mc526c338b0\" y=\"178.6056\"/>\n     <use style=\"fill:#1f77b4;stroke:#333333;\" x=\"224.372642\" xlink:href=\"#mc526c338b0\" y=\"73.188217\"/>\n     <use style=\"fill:#1f77b4;stroke:#333333;\" x=\"214.544764\" xlink:href=\"#mc526c338b0\" y=\"100.191683\"/>\n     <use style=\"fill:#1f77b4;stroke:#333333;\" x=\"111.037176\" xlink:href=\"#mc526c338b0\" y=\"184.756952\"/>\n     <use style=\"fill:#1f77b4;stroke:#333333;\" x=\"120.501423\" xlink:href=\"#mc526c338b0\" y=\"177.927389\"/>\n     <use style=\"fill:#1f77b4;stroke:#333333;\" x=\"121.737273\" xlink:href=\"#mc526c338b0\" y=\"183.651319\"/>\n     <use style=\"fill:#1f77b4;stroke:#333333;\" x=\"224.151653\" xlink:href=\"#mc526c338b0\" y=\"60.366512\"/>\n     <use style=\"fill:#1f77b4;stroke:#333333;\" x=\"223.43835\" xlink:href=\"#mc526c338b0\" y=\"58.920283\"/>\n     <use style=\"fill:#1f77b4;stroke:#333333;\" x=\"112.665686\" xlink:href=\"#mc526c338b0\" y=\"194.670616\"/>\n     <use style=\"fill:#1f77b4;stroke:#333333;\" x=\"232.62061\" xlink:href=\"#mc526c338b0\" y=\"60.454033\"/>\n     <use style=\"fill:#1f77b4;stroke:#333333;\" x=\"218.768323\" xlink:href=\"#mc526c338b0\" y=\"87.76343\"/>\n     <use style=\"fill:#1f77b4;stroke:#333333;\" x=\"231.184386\" xlink:href=\"#mc526c338b0\" y=\"57.202935\"/>\n     <use style=\"fill:#1f77b4;stroke:#333333;\" x=\"105.951856\" xlink:href=\"#mc526c338b0\" y=\"182.733923\"/>\n     <use style=\"fill:#1f77b4;stroke:#333333;\" x=\"220.266348\" xlink:href=\"#mc526c338b0\" y=\"68.561718\"/>\n     <use style=\"fill:#1f77b4;stroke:#333333;\" x=\"113.873959\" xlink:href=\"#mc526c338b0\" y=\"198.141743\"/>\n     <use style=\"fill:#1f77b4;stroke:#333333;\" x=\"121.135411\" xlink:href=\"#mc526c338b0\" y=\"191.679503\"/>\n     <use style=\"fill:#1f77b4;stroke:#333333;\" x=\"105.401412\" xlink:href=\"#mc526c338b0\" y=\"181.366251\"/>\n    </g>\n   </g>\n   <g id=\"PathCollection_2\">\n    <defs>\n     <path d=\"M 0 3 \nC 0.795609 3 1.55874 2.683901 2.12132 2.12132 \nC 2.683901 1.55874 3 0.795609 3 0 \nC 3 -0.795609 2.683901 -1.55874 2.12132 -2.12132 \nC 1.55874 -2.683901 0.795609 -3 0 -3 \nC -0.795609 -3 -1.55874 -2.683901 -2.12132 -2.12132 \nC -2.683901 -1.55874 -3 -0.795609 -3 0 \nC -3 0.795609 -2.683901 1.55874 -2.12132 2.12132 \nC -1.55874 2.683901 -0.795609 3 0 3 \nz\n\" id=\"m65741a6992\" style=\"stroke:#333333;\"/>\n    </defs>\n    <g clip-path=\"url(#pfec3bbce63)\">\n     <use style=\"fill:#ff7f0e;stroke:#333333;\" x=\"224.597272\" xlink:href=\"#m65741a6992\" y=\"179.480307\"/>\n     <use style=\"fill:#ff7f0e;stroke:#333333;\" x=\"118.927981\" xlink:href=\"#m65741a6992\" y=\"85.50628\"/>\n     <use style=\"fill:#ff7f0e;stroke:#333333;\" x=\"224.747937\" xlink:href=\"#m65741a6992\" y=\"194.395027\"/>\n     <use style=\"fill:#ff7f0e;stroke:#333333;\" x=\"203.086438\" xlink:href=\"#m65741a6992\" y=\"183.681353\"/>\n     <use style=\"fill:#ff7f0e;stroke:#333333;\" x=\"128.94118\" xlink:href=\"#m65741a6992\" y=\"74.650763\"/>\n     <use style=\"fill:#ff7f0e;stroke:#333333;\" x=\"113.534843\" xlink:href=\"#m65741a6992\" y=\"69.558362\"/>\n     <use style=\"fill:#ff7f0e;stroke:#333333;\" x=\"208.458026\" xlink:href=\"#m65741a6992\" y=\"181.592912\"/>\n     <use style=\"fill:#ff7f0e;stroke:#333333;\" x=\"221.31199\" xlink:href=\"#m65741a6992\" y=\"187.500359\"/>\n     <use style=\"fill:#ff7f0e;stroke:#333333;\" x=\"114.436552\" xlink:href=\"#m65741a6992\" y=\"76.597965\"/>\n     <use style=\"fill:#ff7f0e;stroke:#333333;\" x=\"227.716861\" xlink:href=\"#m65741a6992\" y=\"180.159319\"/>\n     <use style=\"fill:#ff7f0e;stroke:#333333;\" x=\"233.286452\" xlink:href=\"#m65741a6992\" y=\"183.725588\"/>\n     <use style=\"fill:#ff7f0e;stroke:#333333;\" x=\"227.511918\" xlink:href=\"#m65741a6992\" y=\"191.848042\"/>\n     <use style=\"fill:#ff7f0e;stroke:#333333;\" x=\"90.156255\" xlink:href=\"#m65741a6992\" y=\"75.184513\"/>\n     <use style=\"fill:#ff7f0e;stroke:#333333;\" x=\"96.024416\" xlink:href=\"#m65741a6992\" y=\"79.069221\"/>\n     <use style=\"fill:#ff7f0e;stroke:#333333;\" x=\"226.923696\" xlink:href=\"#m65741a6992\" y=\"199.347834\"/>\n     <use style=\"fill:#ff7f0e;stroke:#333333;\" x=\"217.606427\" xlink:href=\"#m65741a6992\" y=\"173.251328\"/>\n     <use style=\"fill:#ff7f0e;stroke:#333333;\" x=\"227.769027\" xlink:href=\"#m65741a6992\" y=\"173.464324\"/>\n     <use style=\"fill:#ff7f0e;stroke:#333333;\" x=\"218.500016\" xlink:href=\"#m65741a6992\" y=\"187.443356\"/>\n     <use style=\"fill:#ff7f0e;stroke:#333333;\" x=\"106.984413\" xlink:href=\"#m65741a6992\" y=\"66.511974\"/>\n     <use style=\"fill:#ff7f0e;stroke:#333333;\" x=\"233.133545\" xlink:href=\"#m65741a6992\" y=\"189.544269\"/>\n     <use style=\"fill:#ff7f0e;stroke:#333333;\" x=\"115.335326\" xlink:href=\"#m65741a6992\" y=\"80.815627\"/>\n     <use style=\"fill:#ff7f0e;stroke:#333333;\" x=\"208.972555\" xlink:href=\"#m65741a6992\" y=\"197.223837\"/>\n     <use style=\"fill:#ff7f0e;stroke:#333333;\" x=\"139.005527\" xlink:href=\"#m65741a6992\" y=\"77.700995\"/>\n     <use style=\"fill:#ff7f0e;stroke:#333333;\" x=\"230.664194\" xlink:href=\"#m65741a6992\" y=\"201.829041\"/>\n     <use style=\"fill:#ff7f0e;stroke:#333333;\" x=\"205.002573\" xlink:href=\"#m65741a6992\" y=\"176.909335\"/>\n     <use style=\"fill:#ff7f0e;stroke:#333333;\" x=\"216.845993\" xlink:href=\"#m65741a6992\" y=\"167.032503\"/>\n     <use style=\"fill:#ff7f0e;stroke:#333333;\" x=\"88.160629\" xlink:href=\"#m65741a6992\" y=\"65.861243\"/>\n     <use style=\"fill:#ff7f0e;stroke:#333333;\" x=\"128.021696\" xlink:href=\"#m65741a6992\" y=\"66.622254\"/>\n     <use style=\"fill:#ff7f0e;stroke:#333333;\" x=\"112.260448\" xlink:href=\"#m65741a6992\" y=\"91.009332\"/>\n     <use style=\"fill:#ff7f0e;stroke:#333333;\" x=\"112.50413\" xlink:href=\"#m65741a6992\" y=\"63.911605\"/>\n     <use style=\"fill:#ff7f0e;stroke:#333333;\" x=\"95.981186\" xlink:href=\"#m65741a6992\" y=\"61.50077\"/>\n     <use style=\"fill:#ff7f0e;stroke:#333333;\" x=\"219.993175\" xlink:href=\"#m65741a6992\" y=\"189.668312\"/>\n     <use style=\"fill:#ff7f0e;stroke:#333333;\" x=\"206.167029\" xlink:href=\"#m65741a6992\" y=\"173.135684\"/>\n     <use style=\"fill:#ff7f0e;stroke:#333333;\" x=\"213.740977\" xlink:href=\"#m65741a6992\" y=\"174.762918\"/>\n     <use style=\"fill:#ff7f0e;stroke:#333333;\" x=\"121.204965\" xlink:href=\"#m65741a6992\" y=\"77.433213\"/>\n     <use style=\"fill:#ff7f0e;stroke:#333333;\" x=\"203.018823\" xlink:href=\"#m65741a6992\" y=\"182.099388\"/>\n     <use style=\"fill:#ff7f0e;stroke:#333333;\" x=\"238.152369\" xlink:href=\"#m65741a6992\" y=\"188.7116\"/>\n     <use style=\"fill:#ff7f0e;stroke:#333333;\" x=\"231.441781\" xlink:href=\"#m65741a6992\" y=\"186.794029\"/>\n     <use style=\"fill:#ff7f0e;stroke:#333333;\" x=\"211.648243\" xlink:href=\"#m65741a6992\" y=\"189.950709\"/>\n     <use style=\"fill:#ff7f0e;stroke:#333333;\" x=\"236.220422\" xlink:href=\"#m65741a6992\" y=\"169.740566\"/>\n     <use style=\"fill:#ff7f0e;stroke:#333333;\" x=\"101.853762\" xlink:href=\"#m65741a6992\" y=\"86.031191\"/>\n     <use style=\"fill:#ff7f0e;stroke:#333333;\" x=\"233.94689\" xlink:href=\"#m65741a6992\" y=\"172.051387\"/>\n     <use style=\"fill:#ff7f0e;stroke:#333333;\" x=\"123.501925\" xlink:href=\"#m65741a6992\" y=\"74.175724\"/>\n     <use style=\"fill:#ff7f0e;stroke:#333333;\" x=\"218.585652\" xlink:href=\"#m65741a6992\" y=\"171.48351\"/>\n     <use style=\"fill:#ff7f0e;stroke:#333333;\" x=\"90.32929\" xlink:href=\"#m65741a6992\" y=\"75.633164\"/>\n     <use style=\"fill:#ff7f0e;stroke:#333333;\" x=\"111.280011\" xlink:href=\"#m65741a6992\" y=\"82.837267\"/>\n     <use style=\"fill:#ff7f0e;stroke:#333333;\" x=\"211.740197\" xlink:href=\"#m65741a6992\" y=\"195.115065\"/>\n     <use style=\"fill:#ff7f0e;stroke:#333333;\" x=\"205.118653\" xlink:href=\"#m65741a6992\" y=\"174.999985\"/>\n     <use style=\"fill:#ff7f0e;stroke:#333333;\" x=\"115.182647\" xlink:href=\"#m65741a6992\" y=\"78.537928\"/>\n     <use style=\"fill:#ff7f0e;stroke:#333333;\" x=\"227.992219\" xlink:href=\"#m65741a6992\" y=\"175.571697\"/>\n     <use style=\"fill:#ff7f0e;stroke:#333333;\" x=\"115.634509\" xlink:href=\"#m65741a6992\" y=\"84.738407\"/>\n     <use style=\"fill:#ff7f0e;stroke:#333333;\" x=\"113.207682\" xlink:href=\"#m65741a6992\" y=\"86.904679\"/>\n     <use style=\"fill:#ff7f0e;stroke:#333333;\" x=\"241.406644\" xlink:href=\"#m65741a6992\" y=\"195.654551\"/>\n     <use style=\"fill:#ff7f0e;stroke:#333333;\" x=\"218.12314\" xlink:href=\"#m65741a6992\" y=\"172.59052\"/>\n     <use style=\"fill:#ff7f0e;stroke:#333333;\" x=\"102.818896\" xlink:href=\"#m65741a6992\" y=\"74.729342\"/>\n     <use style=\"fill:#ff7f0e;stroke:#333333;\" x=\"126.547202\" xlink:href=\"#m65741a6992\" y=\"76.348126\"/>\n     <use style=\"fill:#ff7f0e;stroke:#333333;\" x=\"129.239769\" xlink:href=\"#m65741a6992\" y=\"62.486839\"/>\n     <use style=\"fill:#ff7f0e;stroke:#333333;\" x=\"228.152228\" xlink:href=\"#m65741a6992\" y=\"193.26863\"/>\n     <use style=\"fill:#ff7f0e;stroke:#333333;\" x=\"103.215052\" xlink:href=\"#m65741a6992\" y=\"78.005027\"/>\n     <use style=\"fill:#ff7f0e;stroke:#333333;\" x=\"216.222162\" xlink:href=\"#m65741a6992\" y=\"176.670472\"/>\n     <use style=\"fill:#ff7f0e;stroke:#333333;\" x=\"114.916325\" xlink:href=\"#m65741a6992\" y=\"88.653235\"/>\n     <use style=\"fill:#ff7f0e;stroke:#333333;\" x=\"121.115357\" xlink:href=\"#m65741a6992\" y=\"70.241533\"/>\n     <use style=\"fill:#ff7f0e;stroke:#333333;\" x=\"120.258643\" xlink:href=\"#m65741a6992\" y=\"72.957314\"/>\n     <use style=\"fill:#ff7f0e;stroke:#333333;\" x=\"209.315916\" xlink:href=\"#m65741a6992\" y=\"177.378942\"/>\n     <use style=\"fill:#ff7f0e;stroke:#333333;\" x=\"103.210102\" xlink:href=\"#m65741a6992\" y=\"91.806632\"/>\n     <use style=\"fill:#ff7f0e;stroke:#333333;\" x=\"119.325862\" xlink:href=\"#m65741a6992\" y=\"68.692592\"/>\n     <use style=\"fill:#ff7f0e;stroke:#333333;\" x=\"202.824093\" xlink:href=\"#m65741a6992\" y=\"174.268046\"/>\n     <use style=\"fill:#ff7f0e;stroke:#333333;\" x=\"223.801372\" xlink:href=\"#m65741a6992\" y=\"196.626833\"/>\n     <use style=\"fill:#ff7f0e;stroke:#333333;\" x=\"117.310993\" xlink:href=\"#m65741a6992\" y=\"69.094029\"/>\n     <use style=\"fill:#ff7f0e;stroke:#333333;\" x=\"122.253941\" xlink:href=\"#m65741a6992\" y=\"84.153386\"/>\n     <use style=\"fill:#ff7f0e;stroke:#333333;\" x=\"208.231426\" xlink:href=\"#m65741a6992\" y=\"184.433377\"/>\n     <use style=\"fill:#ff7f0e;stroke:#333333;\" x=\"201.565732\" xlink:href=\"#m65741a6992\" y=\"186.557453\"/>\n     <use style=\"fill:#ff7f0e;stroke:#333333;\" x=\"120.045207\" xlink:href=\"#m65741a6992\" y=\"79.883512\"/>\n     <use style=\"fill:#ff7f0e;stroke:#333333;\" x=\"85.476218\" xlink:href=\"#m65741a6992\" y=\"85.530225\"/>\n     <use style=\"fill:#ff7f0e;stroke:#333333;\" x=\"108.621104\" xlink:href=\"#m65741a6992\" y=\"91.775968\"/>\n     <use style=\"fill:#ff7f0e;stroke:#333333;\" x=\"122.454711\" xlink:href=\"#m65741a6992\" y=\"71.807464\"/>\n     <use style=\"fill:#ff7f0e;stroke:#333333;\" x=\"105.245089\" xlink:href=\"#m65741a6992\" y=\"80.555517\"/>\n     <use style=\"fill:#ff7f0e;stroke:#333333;\" x=\"110.345637\" xlink:href=\"#m65741a6992\" y=\"74.684201\"/>\n     <use style=\"fill:#ff7f0e;stroke:#333333;\" x=\"122.948606\" xlink:href=\"#m65741a6992\" y=\"84.523445\"/>\n     <use style=\"fill:#ff7f0e;stroke:#333333;\" x=\"238.331781\" xlink:href=\"#m65741a6992\" y=\"190.109778\"/>\n     <use style=\"fill:#ff7f0e;stroke:#333333;\" x=\"99.158482\" xlink:href=\"#m65741a6992\" y=\"62.144579\"/>\n     <use style=\"fill:#ff7f0e;stroke:#333333;\" x=\"238.904126\" xlink:href=\"#m65741a6992\" y=\"176.479967\"/>\n     <use style=\"fill:#ff7f0e;stroke:#333333;\" x=\"228.511103\" xlink:href=\"#m65741a6992\" y=\"166.124698\"/>\n     <use style=\"fill:#ff7f0e;stroke:#333333;\" x=\"204.749573\" xlink:href=\"#m65741a6992\" y=\"197.183933\"/>\n     <use style=\"fill:#ff7f0e;stroke:#333333;\" x=\"207.817035\" xlink:href=\"#m65741a6992\" y=\"209.749946\"/>\n     <use style=\"fill:#ff7f0e;stroke:#333333;\" x=\"113.647455\" xlink:href=\"#m65741a6992\" y=\"63.325534\"/>\n     <use style=\"fill:#ff7f0e;stroke:#333333;\" x=\"209.936021\" xlink:href=\"#m65741a6992\" y=\"171.712521\"/>\n     <use style=\"fill:#ff7f0e;stroke:#333333;\" x=\"199.504867\" xlink:href=\"#m65741a6992\" y=\"160.73698\"/>\n     <use style=\"fill:#ff7f0e;stroke:#333333;\" x=\"102.861494\" xlink:href=\"#m65741a6992\" y=\"67.872443\"/>\n     <use style=\"fill:#ff7f0e;stroke:#333333;\" x=\"121.543306\" xlink:href=\"#m65741a6992\" y=\"77.896386\"/>\n     <use style=\"fill:#ff7f0e;stroke:#333333;\" x=\"230.263574\" xlink:href=\"#m65741a6992\" y=\"175.913803\"/>\n     <use style=\"fill:#ff7f0e;stroke:#333333;\" x=\"108.769772\" xlink:href=\"#m65741a6992\" y=\"71.243232\"/>\n     <use style=\"fill:#ff7f0e;stroke:#333333;\" x=\"118.137999\" xlink:href=\"#m65741a6992\" y=\"79.260109\"/>\n     <use style=\"fill:#ff7f0e;stroke:#333333;\" x=\"116.883422\" xlink:href=\"#m65741a6992\" y=\"81.810632\"/>\n     <use style=\"fill:#ff7f0e;stroke:#333333;\" x=\"217.332054\" xlink:href=\"#m65741a6992\" y=\"170.303854\"/>\n     <use style=\"fill:#ff7f0e;stroke:#333333;\" x=\"223.569574\" xlink:href=\"#m65741a6992\" y=\"163.041048\"/>\n     <use style=\"fill:#ff7f0e;stroke:#333333;\" x=\"230.510522\" xlink:href=\"#m65741a6992\" y=\"176.611656\"/>\n     <use style=\"fill:#ff7f0e;stroke:#333333;\" x=\"142.305392\" xlink:href=\"#m65741a6992\" y=\"77.469185\"/>\n     <use style=\"fill:#ff7f0e;stroke:#333333;\" x=\"204.163476\" xlink:href=\"#m65741a6992\" y=\"198.978781\"/>\n     <use style=\"fill:#ff7f0e;stroke:#333333;\" x=\"244.521801\" xlink:href=\"#m65741a6992\" y=\"198.229188\"/>\n     <use style=\"fill:#ff7f0e;stroke:#333333;\" x=\"214.441631\" xlink:href=\"#m65741a6992\" y=\"195.840128\"/>\n     <use style=\"fill:#ff7f0e;stroke:#333333;\" x=\"105.972186\" xlink:href=\"#m65741a6992\" y=\"85.737332\"/>\n     <use style=\"fill:#ff7f0e;stroke:#333333;\" x=\"104.205171\" xlink:href=\"#m65741a6992\" y=\"77.466631\"/>\n    </g>\n   </g>\n   <g id=\"matplotlib.axis_1\">\n    <g id=\"xtick_1\">\n     <g id=\"line2d_1\">\n      <defs>\n       <path d=\"M 0 0 \nL 0 3.5 \n\" id=\"mb315252f1d\" style=\"stroke:#000000;stroke-width:0.8;\"/>\n      </defs>\n      <g>\n       <use style=\"stroke:#000000;stroke-width:0.8;\" x=\"58.523438\" xlink:href=\"#mb315252f1d\" y=\"239.758125\"/>\n      </g>\n     </g>\n     <g id=\"text_1\">\n      <!-- −0.5 -->\n      <defs>\n       <path d=\"M 10.59375 35.5 \nL 73.1875 35.5 \nL 73.1875 27.203125 \nL 10.59375 27.203125 \nz\n\" id=\"DejaVuSans-8722\"/>\n       <path d=\"M 31.78125 66.40625 \nQ 24.171875 66.40625 20.328125 58.90625 \nQ 16.5 51.421875 16.5 36.375 \nQ 16.5 21.390625 20.328125 13.890625 \nQ 24.171875 6.390625 31.78125 6.390625 \nQ 39.453125 6.390625 43.28125 13.890625 \nQ 47.125 21.390625 47.125 36.375 \nQ 47.125 51.421875 43.28125 58.90625 \nQ 39.453125 66.40625 31.78125 66.40625 \nz\nM 31.78125 74.21875 \nQ 44.046875 74.21875 50.515625 64.515625 \nQ 56.984375 54.828125 56.984375 36.375 \nQ 56.984375 17.96875 50.515625 8.265625 \nQ 44.046875 -1.421875 31.78125 -1.421875 \nQ 19.53125 -1.421875 13.0625 8.265625 \nQ 6.59375 17.96875 6.59375 36.375 \nQ 6.59375 54.828125 13.0625 64.515625 \nQ 19.53125 74.21875 31.78125 74.21875 \nz\n\" id=\"DejaVuSans-48\"/>\n       <path d=\"M 10.6875 12.40625 \nL 21 12.40625 \nL 21 0 \nL 10.6875 0 \nz\n\" id=\"DejaVuSans-46\"/>\n       <path d=\"M 10.796875 72.90625 \nL 49.515625 72.90625 \nL 49.515625 64.59375 \nL 19.828125 64.59375 \nL 19.828125 46.734375 \nQ 21.96875 47.46875 24.109375 47.828125 \nQ 26.265625 48.1875 28.421875 48.1875 \nQ 40.625 48.1875 47.75 41.5 \nQ 54.890625 34.8125 54.890625 23.390625 \nQ 54.890625 11.625 47.5625 5.09375 \nQ 40.234375 -1.421875 26.90625 -1.421875 \nQ 22.3125 -1.421875 17.546875 -0.640625 \nQ 12.796875 0.140625 7.71875 1.703125 \nL 7.71875 11.625 \nQ 12.109375 9.234375 16.796875 8.0625 \nQ 21.484375 6.890625 26.703125 6.890625 \nQ 35.15625 6.890625 40.078125 11.328125 \nQ 45.015625 15.765625 45.015625 23.390625 \nQ 45.015625 31 40.078125 35.4375 \nQ 35.15625 39.890625 26.703125 39.890625 \nQ 22.75 39.890625 18.8125 39.015625 \nQ 14.890625 38.140625 10.796875 36.28125 \nz\n\" id=\"DejaVuSans-53\"/>\n      </defs>\n      <g transform=\"translate(46.382031 254.356562)scale(0.1 -0.1)\">\n       <use xlink:href=\"#DejaVuSans-8722\"/>\n       <use x=\"83.789062\" xlink:href=\"#DejaVuSans-48\"/>\n       <use x=\"147.412109\" xlink:href=\"#DejaVuSans-46\"/>\n       <use x=\"179.199219\" xlink:href=\"#DejaVuSans-53\"/>\n      </g>\n     </g>\n    </g>\n    <g id=\"xtick_2\">\n     <g id=\"line2d_2\">\n      <g>\n       <use style=\"stroke:#000000;stroke-width:0.8;\" x=\"112.883437\" xlink:href=\"#mb315252f1d\" y=\"239.758125\"/>\n      </g>\n     </g>\n     <g id=\"text_2\">\n      <!-- 0.0 -->\n      <g transform=\"translate(104.931875 254.356562)scale(0.1 -0.1)\">\n       <use xlink:href=\"#DejaVuSans-48\"/>\n       <use x=\"63.623047\" xlink:href=\"#DejaVuSans-46\"/>\n       <use x=\"95.410156\" xlink:href=\"#DejaVuSans-48\"/>\n      </g>\n     </g>\n    </g>\n    <g id=\"xtick_3\">\n     <g id=\"line2d_3\">\n      <g>\n       <use style=\"stroke:#000000;stroke-width:0.8;\" x=\"167.243437\" xlink:href=\"#mb315252f1d\" y=\"239.758125\"/>\n      </g>\n     </g>\n     <g id=\"text_3\">\n      <!-- 0.5 -->\n      <g transform=\"translate(159.291875 254.356562)scale(0.1 -0.1)\">\n       <use xlink:href=\"#DejaVuSans-48\"/>\n       <use x=\"63.623047\" xlink:href=\"#DejaVuSans-46\"/>\n       <use x=\"95.410156\" xlink:href=\"#DejaVuSans-53\"/>\n      </g>\n     </g>\n    </g>\n    <g id=\"xtick_4\">\n     <g id=\"line2d_4\">\n      <g>\n       <use style=\"stroke:#000000;stroke-width:0.8;\" x=\"221.603437\" xlink:href=\"#mb315252f1d\" y=\"239.758125\"/>\n      </g>\n     </g>\n     <g id=\"text_4\">\n      <!-- 1.0 -->\n      <defs>\n       <path d=\"M 12.40625 8.296875 \nL 28.515625 8.296875 \nL 28.515625 63.921875 \nL 10.984375 60.40625 \nL 10.984375 69.390625 \nL 28.421875 72.90625 \nL 38.28125 72.90625 \nL 38.28125 8.296875 \nL 54.390625 8.296875 \nL 54.390625 0 \nL 12.40625 0 \nz\n\" id=\"DejaVuSans-49\"/>\n      </defs>\n      <g transform=\"translate(213.651875 254.356562)scale(0.1 -0.1)\">\n       <use xlink:href=\"#DejaVuSans-49\"/>\n       <use x=\"63.623047\" xlink:href=\"#DejaVuSans-46\"/>\n       <use x=\"95.410156\" xlink:href=\"#DejaVuSans-48\"/>\n      </g>\n     </g>\n    </g>\n    <g id=\"xtick_5\">\n     <g id=\"line2d_5\">\n      <g>\n       <use style=\"stroke:#000000;stroke-width:0.8;\" x=\"275.963437\" xlink:href=\"#mb315252f1d\" y=\"239.758125\"/>\n      </g>\n     </g>\n     <g id=\"text_5\">\n      <!-- 1.5 -->\n      <g transform=\"translate(268.011875 254.356562)scale(0.1 -0.1)\">\n       <use xlink:href=\"#DejaVuSans-49\"/>\n       <use x=\"63.623047\" xlink:href=\"#DejaVuSans-46\"/>\n       <use x=\"95.410156\" xlink:href=\"#DejaVuSans-53\"/>\n      </g>\n     </g>\n    </g>\n    <g id=\"text_6\">\n     <!-- $x_1$ -->\n     <defs>\n      <path d=\"M 60.015625 54.6875 \nL 34.90625 27.875 \nL 50.296875 0 \nL 39.984375 0 \nL 28.421875 21.6875 \nL 8.296875 0 \nL -2.59375 0 \nL 24.3125 28.8125 \nL 10.015625 54.6875 \nL 20.3125 54.6875 \nL 30.8125 34.90625 \nL 49.125 54.6875 \nz\n\" id=\"DejaVuSans-Oblique-120\"/>\n     </defs>\n     <g transform=\"translate(161.893438 268.034687)scale(0.1 -0.1)\">\n      <use transform=\"translate(0 0.3125)\" xlink:href=\"#DejaVuSans-Oblique-120\"/>\n      <use transform=\"translate(59.179688 -16.09375)scale(0.7)\" xlink:href=\"#DejaVuSans-49\"/>\n     </g>\n    </g>\n   </g>\n   <g id=\"matplotlib.axis_2\">\n    <g id=\"ytick_1\">\n     <g id=\"line2d_6\">\n      <defs>\n       <path d=\"M 0 0 \nL -3.5 0 \n\" id=\"mcf5214db9b\" style=\"stroke:#000000;stroke-width:0.8;\"/>\n      </defs>\n      <g>\n       <use style=\"stroke:#000000;stroke-width:0.8;\" x=\"58.523438\" xlink:href=\"#mcf5214db9b\" y=\"239.758125\"/>\n      </g>\n     </g>\n     <g id=\"text_7\">\n      <!-- −0.50 -->\n      <g transform=\"translate(20.878125 243.557344)scale(0.1 -0.1)\">\n       <use xlink:href=\"#DejaVuSans-8722\"/>\n       <use x=\"83.789062\" xlink:href=\"#DejaVuSans-48\"/>\n       <use x=\"147.412109\" xlink:href=\"#DejaVuSans-46\"/>\n       <use x=\"179.199219\" xlink:href=\"#DejaVuSans-53\"/>\n       <use x=\"242.822266\" xlink:href=\"#DejaVuSans-48\"/>\n      </g>\n     </g>\n    </g>\n    <g id=\"ytick_2\">\n     <g id=\"line2d_7\">\n      <g>\n       <use style=\"stroke:#000000;stroke-width:0.8;\" x=\"58.523438\" xlink:href=\"#mcf5214db9b\" y=\"212.578125\"/>\n      </g>\n     </g>\n     <g id=\"text_8\">\n      <!-- −0.25 -->\n      <defs>\n       <path d=\"M 19.1875 8.296875 \nL 53.609375 8.296875 \nL 53.609375 0 \nL 7.328125 0 \nL 7.328125 8.296875 \nQ 12.9375 14.109375 22.625 23.890625 \nQ 32.328125 33.6875 34.8125 36.53125 \nQ 39.546875 41.84375 41.421875 45.53125 \nQ 43.3125 49.21875 43.3125 52.78125 \nQ 43.3125 58.59375 39.234375 62.25 \nQ 35.15625 65.921875 28.609375 65.921875 \nQ 23.96875 65.921875 18.8125 64.3125 \nQ 13.671875 62.703125 7.8125 59.421875 \nL 7.8125 69.390625 \nQ 13.765625 71.78125 18.9375 73 \nQ 24.125 74.21875 28.421875 74.21875 \nQ 39.75 74.21875 46.484375 68.546875 \nQ 53.21875 62.890625 53.21875 53.421875 \nQ 53.21875 48.921875 51.53125 44.890625 \nQ 49.859375 40.875 45.40625 35.40625 \nQ 44.1875 33.984375 37.640625 27.21875 \nQ 31.109375 20.453125 19.1875 8.296875 \nz\n\" id=\"DejaVuSans-50\"/>\n      </defs>\n      <g transform=\"translate(20.878125 216.377344)scale(0.1 -0.1)\">\n       <use xlink:href=\"#DejaVuSans-8722\"/>\n       <use x=\"83.789062\" xlink:href=\"#DejaVuSans-48\"/>\n       <use x=\"147.412109\" xlink:href=\"#DejaVuSans-46\"/>\n       <use x=\"179.199219\" xlink:href=\"#DejaVuSans-50\"/>\n       <use x=\"242.822266\" xlink:href=\"#DejaVuSans-53\"/>\n      </g>\n     </g>\n    </g>\n    <g id=\"ytick_3\">\n     <g id=\"line2d_8\">\n      <g>\n       <use style=\"stroke:#000000;stroke-width:0.8;\" x=\"58.523438\" xlink:href=\"#mcf5214db9b\" y=\"185.398125\"/>\n      </g>\n     </g>\n     <g id=\"text_9\">\n      <!-- 0.00 -->\n      <g transform=\"translate(29.257812 189.197344)scale(0.1 -0.1)\">\n       <use xlink:href=\"#DejaVuSans-48\"/>\n       <use x=\"63.623047\" xlink:href=\"#DejaVuSans-46\"/>\n       <use x=\"95.410156\" xlink:href=\"#DejaVuSans-48\"/>\n       <use x=\"159.033203\" xlink:href=\"#DejaVuSans-48\"/>\n      </g>\n     </g>\n    </g>\n    <g id=\"ytick_4\">\n     <g id=\"line2d_9\">\n      <g>\n       <use style=\"stroke:#000000;stroke-width:0.8;\" x=\"58.523438\" xlink:href=\"#mcf5214db9b\" y=\"158.218125\"/>\n      </g>\n     </g>\n     <g id=\"text_10\">\n      <!-- 0.25 -->\n      <g transform=\"translate(29.257812 162.017344)scale(0.1 -0.1)\">\n       <use xlink:href=\"#DejaVuSans-48\"/>\n       <use x=\"63.623047\" xlink:href=\"#DejaVuSans-46\"/>\n       <use x=\"95.410156\" xlink:href=\"#DejaVuSans-50\"/>\n       <use x=\"159.033203\" xlink:href=\"#DejaVuSans-53\"/>\n      </g>\n     </g>\n    </g>\n    <g id=\"ytick_5\">\n     <g id=\"line2d_10\">\n      <g>\n       <use style=\"stroke:#000000;stroke-width:0.8;\" x=\"58.523438\" xlink:href=\"#mcf5214db9b\" y=\"131.038125\"/>\n      </g>\n     </g>\n     <g id=\"text_11\">\n      <!-- 0.50 -->\n      <g transform=\"translate(29.257812 134.837344)scale(0.1 -0.1)\">\n       <use xlink:href=\"#DejaVuSans-48\"/>\n       <use x=\"63.623047\" xlink:href=\"#DejaVuSans-46\"/>\n       <use x=\"95.410156\" xlink:href=\"#DejaVuSans-53\"/>\n       <use x=\"159.033203\" xlink:href=\"#DejaVuSans-48\"/>\n      </g>\n     </g>\n    </g>\n    <g id=\"ytick_6\">\n     <g id=\"line2d_11\">\n      <g>\n       <use style=\"stroke:#000000;stroke-width:0.8;\" x=\"58.523438\" xlink:href=\"#mcf5214db9b\" y=\"103.858125\"/>\n      </g>\n     </g>\n     <g id=\"text_12\">\n      <!-- 0.75 -->\n      <defs>\n       <path d=\"M 8.203125 72.90625 \nL 55.078125 72.90625 \nL 55.078125 68.703125 \nL 28.609375 0 \nL 18.3125 0 \nL 43.21875 64.59375 \nL 8.203125 64.59375 \nz\n\" id=\"DejaVuSans-55\"/>\n      </defs>\n      <g transform=\"translate(29.257812 107.657344)scale(0.1 -0.1)\">\n       <use xlink:href=\"#DejaVuSans-48\"/>\n       <use x=\"63.623047\" xlink:href=\"#DejaVuSans-46\"/>\n       <use x=\"95.410156\" xlink:href=\"#DejaVuSans-55\"/>\n       <use x=\"159.033203\" xlink:href=\"#DejaVuSans-53\"/>\n      </g>\n     </g>\n    </g>\n    <g id=\"ytick_7\">\n     <g id=\"line2d_12\">\n      <g>\n       <use style=\"stroke:#000000;stroke-width:0.8;\" x=\"58.523438\" xlink:href=\"#mcf5214db9b\" y=\"76.678125\"/>\n      </g>\n     </g>\n     <g id=\"text_13\">\n      <!-- 1.00 -->\n      <g transform=\"translate(29.257812 80.477344)scale(0.1 -0.1)\">\n       <use xlink:href=\"#DejaVuSans-49\"/>\n       <use x=\"63.623047\" xlink:href=\"#DejaVuSans-46\"/>\n       <use x=\"95.410156\" xlink:href=\"#DejaVuSans-48\"/>\n       <use x=\"159.033203\" xlink:href=\"#DejaVuSans-48\"/>\n      </g>\n     </g>\n    </g>\n    <g id=\"ytick_8\">\n     <g id=\"line2d_13\">\n      <g>\n       <use style=\"stroke:#000000;stroke-width:0.8;\" x=\"58.523438\" xlink:href=\"#mcf5214db9b\" y=\"49.498125\"/>\n      </g>\n     </g>\n     <g id=\"text_14\">\n      <!-- 1.25 -->\n      <g transform=\"translate(29.257812 53.297344)scale(0.1 -0.1)\">\n       <use xlink:href=\"#DejaVuSans-49\"/>\n       <use x=\"63.623047\" xlink:href=\"#DejaVuSans-46\"/>\n       <use x=\"95.410156\" xlink:href=\"#DejaVuSans-50\"/>\n       <use x=\"159.033203\" xlink:href=\"#DejaVuSans-53\"/>\n      </g>\n     </g>\n    </g>\n    <g id=\"ytick_9\">\n     <g id=\"line2d_14\">\n      <g>\n       <use style=\"stroke:#000000;stroke-width:0.8;\" x=\"58.523438\" xlink:href=\"#mcf5214db9b\" y=\"22.318125\"/>\n      </g>\n     </g>\n     <g id=\"text_15\">\n      <!-- 1.50 -->\n      <g transform=\"translate(29.257812 26.117344)scale(0.1 -0.1)\">\n       <use xlink:href=\"#DejaVuSans-49\"/>\n       <use x=\"63.623047\" xlink:href=\"#DejaVuSans-46\"/>\n       <use x=\"95.410156\" xlink:href=\"#DejaVuSans-53\"/>\n       <use x=\"159.033203\" xlink:href=\"#DejaVuSans-48\"/>\n      </g>\n     </g>\n    </g>\n    <g id=\"text_16\">\n     <!-- $x_2$ -->\n     <g transform=\"translate(14.798437 136.388125)rotate(-90)scale(0.1 -0.1)\">\n      <use transform=\"translate(0 0.3125)\" xlink:href=\"#DejaVuSans-Oblique-120\"/>\n      <use transform=\"translate(59.179688 -16.09375)scale(0.7)\" xlink:href=\"#DejaVuSans-50\"/>\n     </g>\n    </g>\n   </g>\n   <g id=\"patch_3\">\n    <path d=\"M 58.523438 239.758125 \nL 58.523438 22.318125 \n\" style=\"fill:none;stroke:#000000;stroke-linecap:square;stroke-linejoin:miter;stroke-width:0.8;\"/>\n   </g>\n   <g id=\"patch_4\">\n    <path d=\"M 275.963437 239.758125 \nL 275.963437 22.318125 \n\" style=\"fill:none;stroke:#000000;stroke-linecap:square;stroke-linejoin:miter;stroke-width:0.8;\"/>\n   </g>\n   <g id=\"patch_5\">\n    <path d=\"M 58.523438 239.758125 \nL 275.963437 239.758125 \n\" style=\"fill:none;stroke:#000000;stroke-linecap:square;stroke-linejoin:miter;stroke-width:0.8;\"/>\n   </g>\n   <g id=\"patch_6\">\n    <path d=\"M 58.523438 22.318125 \nL 275.963437 22.318125 \n\" style=\"fill:none;stroke:#000000;stroke-linecap:square;stroke-linejoin:miter;stroke-width:0.8;\"/>\n   </g>\n   <g id=\"text_17\">\n    <!-- Dataset samples -->\n    <defs>\n     <path d=\"M 19.671875 64.796875 \nL 19.671875 8.109375 \nL 31.59375 8.109375 \nQ 46.6875 8.109375 53.6875 14.9375 \nQ 60.6875 21.78125 60.6875 36.53125 \nQ 60.6875 51.171875 53.6875 57.984375 \nQ 46.6875 64.796875 31.59375 64.796875 \nz\nM 9.8125 72.90625 \nL 30.078125 72.90625 \nQ 51.265625 72.90625 61.171875 64.09375 \nQ 71.09375 55.28125 71.09375 36.53125 \nQ 71.09375 17.671875 61.125 8.828125 \nQ 51.171875 0 30.078125 0 \nL 9.8125 0 \nz\n\" id=\"DejaVuSans-68\"/>\n     <path d=\"M 34.28125 27.484375 \nQ 23.390625 27.484375 19.1875 25 \nQ 14.984375 22.515625 14.984375 16.5 \nQ 14.984375 11.71875 18.140625 8.90625 \nQ 21.296875 6.109375 26.703125 6.109375 \nQ 34.1875 6.109375 38.703125 11.40625 \nQ 43.21875 16.703125 43.21875 25.484375 \nL 43.21875 27.484375 \nz\nM 52.203125 31.203125 \nL 52.203125 0 \nL 43.21875 0 \nL 43.21875 8.296875 \nQ 40.140625 3.328125 35.546875 0.953125 \nQ 30.953125 -1.421875 24.3125 -1.421875 \nQ 15.921875 -1.421875 10.953125 3.296875 \nQ 6 8.015625 6 15.921875 \nQ 6 25.140625 12.171875 29.828125 \nQ 18.359375 34.515625 30.609375 34.515625 \nL 43.21875 34.515625 \nL 43.21875 35.40625 \nQ 43.21875 41.609375 39.140625 45 \nQ 35.0625 48.390625 27.6875 48.390625 \nQ 23 48.390625 18.546875 47.265625 \nQ 14.109375 46.140625 10.015625 43.890625 \nL 10.015625 52.203125 \nQ 14.9375 54.109375 19.578125 55.046875 \nQ 24.21875 56 28.609375 56 \nQ 40.484375 56 46.34375 49.84375 \nQ 52.203125 43.703125 52.203125 31.203125 \nz\n\" id=\"DejaVuSans-97\"/>\n     <path d=\"M 18.3125 70.21875 \nL 18.3125 54.6875 \nL 36.8125 54.6875 \nL 36.8125 47.703125 \nL 18.3125 47.703125 \nL 18.3125 18.015625 \nQ 18.3125 11.328125 20.140625 9.421875 \nQ 21.96875 7.515625 27.59375 7.515625 \nL 36.8125 7.515625 \nL 36.8125 0 \nL 27.59375 0 \nQ 17.1875 0 13.234375 3.875 \nQ 9.28125 7.765625 9.28125 18.015625 \nL 9.28125 47.703125 \nL 2.6875 47.703125 \nL 2.6875 54.6875 \nL 9.28125 54.6875 \nL 9.28125 70.21875 \nz\n\" id=\"DejaVuSans-116\"/>\n     <path d=\"M 44.28125 53.078125 \nL 44.28125 44.578125 \nQ 40.484375 46.53125 36.375 47.5 \nQ 32.28125 48.484375 27.875 48.484375 \nQ 21.1875 48.484375 17.84375 46.4375 \nQ 14.5 44.390625 14.5 40.28125 \nQ 14.5 37.15625 16.890625 35.375 \nQ 19.28125 33.59375 26.515625 31.984375 \nL 29.59375 31.296875 \nQ 39.15625 29.25 43.1875 25.515625 \nQ 47.21875 21.78125 47.21875 15.09375 \nQ 47.21875 7.46875 41.1875 3.015625 \nQ 35.15625 -1.421875 24.609375 -1.421875 \nQ 20.21875 -1.421875 15.453125 -0.5625 \nQ 10.6875 0.296875 5.421875 2 \nL 5.421875 11.28125 \nQ 10.40625 8.6875 15.234375 7.390625 \nQ 20.0625 6.109375 24.8125 6.109375 \nQ 31.15625 6.109375 34.5625 8.28125 \nQ 37.984375 10.453125 37.984375 14.40625 \nQ 37.984375 18.0625 35.515625 20.015625 \nQ 33.0625 21.96875 24.703125 23.78125 \nL 21.578125 24.515625 \nQ 13.234375 26.265625 9.515625 29.90625 \nQ 5.8125 33.546875 5.8125 39.890625 \nQ 5.8125 47.609375 11.28125 51.796875 \nQ 16.75 56 26.8125 56 \nQ 31.78125 56 36.171875 55.265625 \nQ 40.578125 54.546875 44.28125 53.078125 \nz\n\" id=\"DejaVuSans-115\"/>\n     <path d=\"M 56.203125 29.59375 \nL 56.203125 25.203125 \nL 14.890625 25.203125 \nQ 15.484375 15.921875 20.484375 11.0625 \nQ 25.484375 6.203125 34.421875 6.203125 \nQ 39.59375 6.203125 44.453125 7.46875 \nQ 49.3125 8.734375 54.109375 11.28125 \nL 54.109375 2.78125 \nQ 49.265625 0.734375 44.1875 -0.34375 \nQ 39.109375 -1.421875 33.890625 -1.421875 \nQ 20.796875 -1.421875 13.15625 6.1875 \nQ 5.515625 13.8125 5.515625 26.8125 \nQ 5.515625 40.234375 12.765625 48.109375 \nQ 20.015625 56 32.328125 56 \nQ 43.359375 56 49.78125 48.890625 \nQ 56.203125 41.796875 56.203125 29.59375 \nz\nM 47.21875 32.234375 \nQ 47.125 39.59375 43.09375 43.984375 \nQ 39.0625 48.390625 32.421875 48.390625 \nQ 24.90625 48.390625 20.390625 44.140625 \nQ 15.875 39.890625 15.1875 32.171875 \nz\n\" id=\"DejaVuSans-101\"/>\n     <path id=\"DejaVuSans-32\"/>\n     <path d=\"M 52 44.1875 \nQ 55.375 50.25 60.0625 53.125 \nQ 64.75 56 71.09375 56 \nQ 79.640625 56 84.28125 50.015625 \nQ 88.921875 44.046875 88.921875 33.015625 \nL 88.921875 0 \nL 79.890625 0 \nL 79.890625 32.71875 \nQ 79.890625 40.578125 77.09375 44.375 \nQ 74.3125 48.1875 68.609375 48.1875 \nQ 61.625 48.1875 57.5625 43.546875 \nQ 53.515625 38.921875 53.515625 30.90625 \nL 53.515625 0 \nL 44.484375 0 \nL 44.484375 32.71875 \nQ 44.484375 40.625 41.703125 44.40625 \nQ 38.921875 48.1875 33.109375 48.1875 \nQ 26.21875 48.1875 22.15625 43.53125 \nQ 18.109375 38.875 18.109375 30.90625 \nL 18.109375 0 \nL 9.078125 0 \nL 9.078125 54.6875 \nL 18.109375 54.6875 \nL 18.109375 46.1875 \nQ 21.1875 51.21875 25.484375 53.609375 \nQ 29.78125 56 35.6875 56 \nQ 41.65625 56 45.828125 52.96875 \nQ 50 49.953125 52 44.1875 \nz\n\" id=\"DejaVuSans-109\"/>\n     <path d=\"M 18.109375 8.203125 \nL 18.109375 -20.796875 \nL 9.078125 -20.796875 \nL 9.078125 54.6875 \nL 18.109375 54.6875 \nL 18.109375 46.390625 \nQ 20.953125 51.265625 25.265625 53.625 \nQ 29.59375 56 35.59375 56 \nQ 45.5625 56 51.78125 48.09375 \nQ 58.015625 40.1875 58.015625 27.296875 \nQ 58.015625 14.40625 51.78125 6.484375 \nQ 45.5625 -1.421875 35.59375 -1.421875 \nQ 29.59375 -1.421875 25.265625 0.953125 \nQ 20.953125 3.328125 18.109375 8.203125 \nz\nM 48.6875 27.296875 \nQ 48.6875 37.203125 44.609375 42.84375 \nQ 40.53125 48.484375 33.40625 48.484375 \nQ 26.265625 48.484375 22.1875 42.84375 \nQ 18.109375 37.203125 18.109375 27.296875 \nQ 18.109375 17.390625 22.1875 11.75 \nQ 26.265625 6.109375 33.40625 6.109375 \nQ 40.53125 6.109375 44.609375 11.75 \nQ 48.6875 17.390625 48.6875 27.296875 \nz\n\" id=\"DejaVuSans-112\"/>\n     <path d=\"M 9.421875 75.984375 \nL 18.40625 75.984375 \nL 18.40625 0 \nL 9.421875 0 \nz\n\" id=\"DejaVuSans-108\"/>\n    </defs>\n    <g transform=\"translate(116.900625 16.318125)scale(0.12 -0.12)\">\n     <use xlink:href=\"#DejaVuSans-68\"/>\n     <use x=\"77.001953\" xlink:href=\"#DejaVuSans-97\"/>\n     <use x=\"138.28125\" xlink:href=\"#DejaVuSans-116\"/>\n     <use x=\"177.490234\" xlink:href=\"#DejaVuSans-97\"/>\n     <use x=\"238.769531\" xlink:href=\"#DejaVuSans-115\"/>\n     <use x=\"290.869141\" xlink:href=\"#DejaVuSans-101\"/>\n     <use x=\"352.392578\" xlink:href=\"#DejaVuSans-116\"/>\n     <use x=\"391.601562\" xlink:href=\"#DejaVuSans-32\"/>\n     <use x=\"423.388672\" xlink:href=\"#DejaVuSans-115\"/>\n     <use x=\"475.488281\" xlink:href=\"#DejaVuSans-97\"/>\n     <use x=\"536.767578\" xlink:href=\"#DejaVuSans-109\"/>\n     <use x=\"634.179688\" xlink:href=\"#DejaVuSans-112\"/>\n     <use x=\"697.65625\" xlink:href=\"#DejaVuSans-108\"/>\n     <use x=\"725.439453\" xlink:href=\"#DejaVuSans-101\"/>\n     <use x=\"786.962891\" xlink:href=\"#DejaVuSans-115\"/>\n    </g>\n   </g>\n   <g id=\"legend_1\">\n    <g id=\"patch_7\">\n     <path d=\"M 65.523438 59.674375 \nL 133.371875 59.674375 \nQ 135.371875 59.674375 135.371875 57.674375 \nL 135.371875 29.318125 \nQ 135.371875 27.318125 133.371875 27.318125 \nL 65.523438 27.318125 \nQ 63.523438 27.318125 63.523438 29.318125 \nL 63.523438 57.674375 \nQ 63.523438 59.674375 65.523438 59.674375 \nz\n\" style=\"fill:#ffffff;opacity:0.8;stroke:#cccccc;stroke-linejoin:miter;\"/>\n    </g>\n    <g id=\"PathCollection_3\">\n     <g>\n      <use style=\"fill:#1f77b4;stroke:#333333;\" x=\"77.523438\" xlink:href=\"#mc526c338b0\" y=\"36.291562\"/>\n     </g>\n    </g>\n    <g id=\"text_18\">\n     <!-- Class 0 -->\n     <defs>\n      <path d=\"M 64.40625 67.28125 \nL 64.40625 56.890625 \nQ 59.421875 61.53125 53.78125 63.8125 \nQ 48.140625 66.109375 41.796875 66.109375 \nQ 29.296875 66.109375 22.65625 58.46875 \nQ 16.015625 50.828125 16.015625 36.375 \nQ 16.015625 21.96875 22.65625 14.328125 \nQ 29.296875 6.6875 41.796875 6.6875 \nQ 48.140625 6.6875 53.78125 8.984375 \nQ 59.421875 11.28125 64.40625 15.921875 \nL 64.40625 5.609375 \nQ 59.234375 2.09375 53.4375 0.328125 \nQ 47.65625 -1.421875 41.21875 -1.421875 \nQ 24.65625 -1.421875 15.125 8.703125 \nQ 5.609375 18.84375 5.609375 36.375 \nQ 5.609375 53.953125 15.125 64.078125 \nQ 24.65625 74.21875 41.21875 74.21875 \nQ 47.75 74.21875 53.53125 72.484375 \nQ 59.328125 70.75 64.40625 67.28125 \nz\n\" id=\"DejaVuSans-67\"/>\n     </defs>\n     <g transform=\"translate(95.523438 38.916562)scale(0.1 -0.1)\">\n      <use xlink:href=\"#DejaVuSans-67\"/>\n      <use x=\"69.824219\" xlink:href=\"#DejaVuSans-108\"/>\n      <use x=\"97.607422\" xlink:href=\"#DejaVuSans-97\"/>\n      <use x=\"158.886719\" xlink:href=\"#DejaVuSans-115\"/>\n      <use x=\"210.986328\" xlink:href=\"#DejaVuSans-115\"/>\n      <use x=\"263.085938\" xlink:href=\"#DejaVuSans-32\"/>\n      <use x=\"294.873047\" xlink:href=\"#DejaVuSans-48\"/>\n     </g>\n    </g>\n    <g id=\"PathCollection_4\">\n     <g>\n      <use style=\"fill:#ff7f0e;stroke:#333333;\" x=\"77.523438\" xlink:href=\"#m65741a6992\" y=\"50.969687\"/>\n     </g>\n    </g>\n    <g id=\"text_19\">\n     <!-- Class 1 -->\n     <g transform=\"translate(95.523438 53.594687)scale(0.1 -0.1)\">\n      <use xlink:href=\"#DejaVuSans-67\"/>\n      <use x=\"69.824219\" xlink:href=\"#DejaVuSans-108\"/>\n      <use x=\"97.607422\" xlink:href=\"#DejaVuSans-97\"/>\n      <use x=\"158.886719\" xlink:href=\"#DejaVuSans-115\"/>\n      <use x=\"210.986328\" xlink:href=\"#DejaVuSans-115\"/>\n      <use x=\"263.085938\" xlink:href=\"#DejaVuSans-32\"/>\n      <use x=\"294.873047\" xlink:href=\"#DejaVuSans-49\"/>\n     </g>\n    </g>\n   </g>\n  </g>\n </g>\n <defs>\n  <clipPath id=\"pfec3bbce63\">\n   <rect height=\"217.44\" width=\"217.44\" x=\"58.523438\" y=\"22.318125\"/>\n  </clipPath>\n </defs>\n</svg>\n",
            "application/pdf": "[encoded data removed]"
          },
          "metadata": {
            "needs_background": "light"
          }
        }
      ]
    },
    {
      "cell_type": "code",
      "source": [
        ""
      ],
      "metadata": {
        "id": "uGnpljHv6KoJ"
      },
      "execution_count": null,
      "outputs": []
    }
  ]
}