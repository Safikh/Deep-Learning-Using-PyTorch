{
 "cells": [
  {
   "cell_type": "code",
   "execution_count": 1,
   "metadata": {},
   "outputs": [],
   "source": [
    "import os\n",
    "import pandas as pd\n",
    "import numpy as np\n",
    "from sklearn.model_selection import train_test_split\n",
    "from sklearn.metrics import accuracy_score, precision_score, recall_score, f1_score\n",
    "\n",
    "import torch\n",
    "import torch.nn as nn\n",
    "import torch.nn.functional as F\n",
    "import torch.optim as optim"
   ]
  },
  {
   "cell_type": "code",
   "execution_count": 2,
   "metadata": {},
   "outputs": [],
   "source": [
    "df = pd.read_csv('data/wine_data.csv')\n",
    "features = df.drop('Class', axis=1)\n",
    "labels = df[['Class']]"
   ]
  },
  {
   "cell_type": "code",
   "execution_count": 3,
   "metadata": {},
   "outputs": [],
   "source": [
    "from sklearn.model_selection import train_test_split\n",
    "X_train, X_test, y_train, y_test = train_test_split(features, labels, test_size=0.2, random_state=0)\n",
    "\n",
    "Xtrain_ = torch.from_numpy(X_train.values).float()\n",
    "Xtest_ = torch.from_numpy(X_test.values).float()\n",
    "ytrain_ = torch.from_numpy(y_train.values).long().view(1, -1)[0]\n",
    "ytest_ = torch.from_numpy(y_test.values).long().view(1, -1)[0]\n",
    "\n",
    "input_size = 13\n",
    "output_size = 3\n",
    "hidden_size = 100\n",
    "\n",
    "class Net(nn.Module):\n",
    "\n",
    "    def __init__(self):\n",
    "        super(Net, self).__init__()\n",
    "        self.fc1 = nn.Linear(input_size, hidden_size)\n",
    "        self.fc2 = nn.Linear(hidden_size, hidden_size)\n",
    "        self.fc3 = nn.Linear(hidden_size, output_size)\n",
    "    \n",
    "\n",
    "    def forward(self, X):\n",
    "        X = torch.sigmoid(self.fc1(X))\n",
    "        X = torch.sigmoid(self.fc2(X))\n",
    "        X = self.fc3(X)\n",
    "\n",
    "        return F.log_softmax(X, dim=-1)"
   ]
  },
  {
   "cell_type": "code",
   "execution_count": 4,
   "metadata": {},
   "outputs": [],
   "source": [
    "# The train function will be run in parallel across the workers and will use data placed in the shared memory\n",
    "def train(model, Xtrain_, ytrain_, optimizer):\n",
    "    model.train()\n",
    "    for epoch in range(1, 1001):\n",
    "\n",
    "        pid = os.getpid() # get the process id\n",
    "\n",
    "        optimizer.zero_grad()\n",
    "        ypred = model(Xtrain_)\n",
    "\n",
    "        loss = nn.NLLLoss()(ypred, ytrain_)\n",
    "        loss.backward()\n",
    "\n",
    "        optimizer.step()\n",
    "\n",
    "        if epoch % 100 == 0:\n",
    "            print('Process: {} | Epoch: {} | Loss: {}'.format(pid, epoch, loss.item()))"
   ]
  },
  {
   "cell_type": "code",
   "execution_count": 5,
   "metadata": {},
   "outputs": [
    {
     "data": {
      "text/plain": [
       "{'file_system'}"
      ]
     },
     "execution_count": 5,
     "metadata": {},
     "output_type": "execute_result"
    }
   ],
   "source": [
    "import torch.multiprocessing as mp\n",
    "mp.get_all_sharing_strategies()\n",
    "# If we're using GPU, sharing GPU tensors use the CUDA API"
   ]
  },
  {
   "cell_type": "code",
   "execution_count": 6,
   "metadata": {},
   "outputs": [
    {
     "data": {
      "text/plain": [
       "'file_system'"
      ]
     },
     "execution_count": 6,
     "metadata": {},
     "output_type": "execute_result"
    }
   ],
   "source": [
    "mp.get_sharing_strategy() # default is 'file_system'"
   ]
  },
  {
   "cell_type": "code",
   "execution_count": 7,
   "metadata": {},
   "outputs": [
    {
     "name": "stdout",
     "output_type": "stream",
     "text": [
      "\n",
      "\n",
      "Accuracy: 0.44\n",
      "Precision: 0.44\n",
      "Recall: 0.44\n",
      "F1 Score: 0.44\n"
     ]
    }
   ],
   "source": [
    "if __name__ == '__main__':\n",
    "    mp.set_start_method('spawn')\n",
    "    # 'spawn' starts a fresh python interpreter.Child process inherits only some resources \n",
    "    # 'fork' strategy =  Forks the Python interpreter. Child process is identical to the parent process, shares resources of the parent process\n",
    "    \n",
    "    Xtrain_.share_memory_()\n",
    "    ytrain_.share_memory_()\n",
    "    Xtest_.share_memory_()\n",
    "    ytest_.share_memory_()\n",
    "\n",
    "    model = Net()\n",
    "    model.share_memory()\n",
    "\n",
    "    optimizer = optim.Adam(model.parameters(), lr=0.001)\n",
    "\n",
    "    processes = []\n",
    "\n",
    "    for rank in range(4):\n",
    "\n",
    "        p = mp.Process(target=train, args=(model, Xtrain_, ytrain_, optimizer))\n",
    "        p.start()\n",
    "        processes.append(p)\n",
    "\n",
    "    for p in processes:\n",
    "        p.join()\n",
    "    \n",
    "    if (processes[0].is_alive() == False):\n",
    "        model.eval()\n",
    "\n",
    "        with torch.no_grad():\n",
    "            predict_out = model(Xtest_)\n",
    "            _, predict_y = torch.max(predict_out, 1)\n",
    "\n",
    "            print('\\n')\n",
    "            print(f'Accuracy: {accuracy_score(ytest_.data, predict_y.data):.2f}')\n",
    "            print(f'Precision: {precision_score(ytest_.data, predict_y.data, average=\"micro\"):.2f}')\n",
    "            print(f'Recall: {recall_score(ytest_.data, predict_y.data, average=\"micro\"):.2f}')\n",
    "            print(f'F1 Score: {f1_score(ytest_.data, predict_y.data, average=\"micro\"):.2f}')"
   ]
  },
  {
   "cell_type": "code",
   "execution_count": null,
   "metadata": {},
   "outputs": [],
   "source": []
  }
 ],
 "metadata": {
  "interpreter": {
   "hash": "a5a8803176ba603454a120d2af569b11c3f41e6e81f2a81589e795246afd0d6d"
  },
  "kernelspec": {
   "display_name": "Python 3.7.6 64-bit ('base': conda)",
   "language": "python",
   "name": "python3"
  },
  "language_info": {
   "codemirror_mode": {
    "name": "ipython",
    "version": 3
   },
   "file_extension": ".py",
   "mimetype": "text/x-python",
   "name": "python",
   "nbconvert_exporter": "python",
   "pygments_lexer": "ipython3",
   "version": "3.7.6"
  },
  "orig_nbformat": 4
 },
 "nbformat": 4,
 "nbformat_minor": 2
}
