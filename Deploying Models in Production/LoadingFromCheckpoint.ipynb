{
 "cells": [
  {
   "cell_type": "code",
   "execution_count": 1,
   "metadata": {},
   "outputs": [],
   "source": [
    "import pandas as pd\n",
    "import numpy as np\n",
    "\n",
    "import torch\n",
    "import torch.nn as nn\n",
    "import torch.nn.functional as F"
   ]
  },
  {
   "cell_type": "code",
   "execution_count": 2,
   "metadata": {},
   "outputs": [],
   "source": [
    "df = pd.read_csv('data/wine_data.csv')\n",
    "features = df.drop('Class', axis=1)\n",
    "labels = df[['Class']]"
   ]
  },
  {
   "cell_type": "code",
   "execution_count": 3,
   "metadata": {},
   "outputs": [],
   "source": [
    "from sklearn.model_selection import train_test_split\n",
    "X_train, X_test, y_train, y_test = train_test_split(features, labels, test_size=0.2, random_state=0)\n",
    "\n",
    "Xtrain_ = torch.from_numpy(X_train.values).float()\n",
    "Xtest_ = torch.from_numpy(X_test.values).float()\n",
    "ytrain_ = torch.from_numpy(y_train.values).long().view(1, -1)[0]\n",
    "ytest_ = torch.from_numpy(y_test.values).long().view(1, -1)[0]\n",
    "\n",
    "input_size = 13\n",
    "output_size = 3\n",
    "hidden_size = 100\n",
    "\n",
    "class Net(nn.Module):\n",
    "\n",
    "    def __init__(self):\n",
    "        super(Net, self).__init__()\n",
    "        self.fc1 = nn.Linear(input_size, hidden_size)\n",
    "        self.fc2 = nn.Linear(hidden_size, hidden_size)\n",
    "        self.fc3 = nn.Linear(hidden_size, output_size)\n",
    "    \n",
    "\n",
    "    def forward(self, X):\n",
    "        X = torch.sigmoid(self.fc1(X))\n",
    "        X = torch.sigmoid(self.fc2(X))\n",
    "        X = self.fc3(X)\n",
    "\n",
    "        return F.log_softmax(X, dim=-1)"
   ]
  },
  {
   "cell_type": "code",
   "execution_count": 4,
   "metadata": {},
   "outputs": [],
   "source": [
    "model = Net()\n",
    "import torch.optim as optim\n",
    "optimizer = optim.Adam(model.parameters(), lr=0.01)\n",
    "loss_fn = nn.NLLLoss()"
   ]
  },
  {
   "cell_type": "code",
   "execution_count": 5,
   "metadata": {},
   "outputs": [],
   "source": [
    "checkpoint = torch.load('models/wine_checkpoint.pth')"
   ]
  },
  {
   "cell_type": "code",
   "execution_count": 6,
   "metadata": {},
   "outputs": [
    {
     "data": {
      "text/plain": [
       "<All keys matched successfully>"
      ]
     },
     "execution_count": 6,
     "metadata": {},
     "output_type": "execute_result"
    }
   ],
   "source": [
    "model.load_state_dict(checkpoint['model_state_dict'])"
   ]
  },
  {
   "cell_type": "code",
   "execution_count": 7,
   "metadata": {},
   "outputs": [],
   "source": [
    "optimizer.load_state_dict(checkpoint['optimizer_state_dict'])"
   ]
  },
  {
   "cell_type": "code",
   "execution_count": 8,
   "metadata": {},
   "outputs": [
    {
     "data": {
      "text/plain": [
       "99"
      ]
     },
     "execution_count": 8,
     "metadata": {},
     "output_type": "execute_result"
    }
   ],
   "source": [
    "start_epoch = checkpoint['epoch']\n",
    "start_epoch"
   ]
  },
  {
   "cell_type": "code",
   "execution_count": 9,
   "metadata": {},
   "outputs": [
    {
     "data": {
      "text/plain": [
       "tensor(0.2540, requires_grad=True)"
      ]
     },
     "execution_count": 9,
     "metadata": {},
     "output_type": "execute_result"
    }
   ],
   "source": [
    "loss = checkpoint['loss']\n",
    "loss"
   ]
  },
  {
   "cell_type": "code",
   "execution_count": 10,
   "metadata": {},
   "outputs": [
    {
     "data": {
      "text/plain": [
       "Net(\n",
       "  (fc1): Linear(in_features=13, out_features=100, bias=True)\n",
       "  (fc2): Linear(in_features=100, out_features=100, bias=True)\n",
       "  (fc3): Linear(in_features=100, out_features=3, bias=True)\n",
       ")"
      ]
     },
     "execution_count": 10,
     "metadata": {},
     "output_type": "execute_result"
    }
   ],
   "source": [
    "model.train()"
   ]
  },
  {
   "cell_type": "code",
   "execution_count": 11,
   "metadata": {},
   "outputs": [
    {
     "name": "stdout",
     "output_type": "stream",
     "text": [
      "Epoch: 100, Loss: 0.2454\n",
      "Epoch: 110, Loss: 0.1580\n",
      "Epoch: 120, Loss: 0.1198\n",
      "Epoch: 130, Loss: 0.0942\n",
      "Epoch: 140, Loss: 0.0790\n",
      "Epoch: 150, Loss: 0.0686\n",
      "Epoch: 160, Loss: 0.0612\n",
      "Epoch: 170, Loss: 0.0559\n",
      "Epoch: 180, Loss: 0.0520\n",
      "Epoch: 190, Loss: 0.0489\n",
      "Epoch: 200, Loss: 0.0465\n",
      "Epoch: 210, Loss: 0.0445\n",
      "Epoch: 220, Loss: 0.0428\n",
      "Epoch: 230, Loss: 0.0413\n",
      "Epoch: 240, Loss: 0.0400\n",
      "Epoch: 250, Loss: 0.0388\n",
      "Epoch: 260, Loss: 0.0376\n",
      "Epoch: 270, Loss: 0.0366\n",
      "Epoch: 280, Loss: 0.0355\n",
      "Epoch: 290, Loss: 0.0344\n",
      "Epoch: 300, Loss: 0.0333\n",
      "Epoch: 310, Loss: 0.0320\n",
      "Epoch: 320, Loss: 0.0304\n",
      "Epoch: 330, Loss: 0.0286\n",
      "Epoch: 340, Loss: 0.0267\n",
      "Epoch: 350, Loss: 0.0248\n",
      "Epoch: 360, Loss: 0.9531\n",
      "Epoch: 370, Loss: 0.5064\n",
      "Epoch: 380, Loss: 0.5791\n",
      "Epoch: 390, Loss: 0.4422\n",
      "Epoch: 400, Loss: 0.3948\n",
      "Epoch: 410, Loss: 0.3272\n",
      "Epoch: 420, Loss: 0.2349\n",
      "Epoch: 430, Loss: 0.1852\n",
      "Epoch: 440, Loss: 0.1500\n",
      "Epoch: 450, Loss: 0.1173\n",
      "Epoch: 460, Loss: 0.0905\n",
      "Epoch: 470, Loss: 0.0691\n",
      "Epoch: 480, Loss: 0.0596\n",
      "Epoch: 490, Loss: 0.0557\n",
      "Epoch: 500, Loss: 0.0534\n"
     ]
    }
   ],
   "source": [
    "EPOCHS = 500\n",
    "for epoch in range(start_epoch, EPOCHS):\n",
    "    optimizer.zero_grad()\n",
    "    y_pred = model(Xtrain_)\n",
    "    loss = loss_fn(y_pred, ytrain_)\n",
    "    loss.backward()\n",
    "    optimizer.step()\n",
    "\n",
    "    if (epoch + 1) % 10 == 0:\n",
    "        print(f'Epoch: {epoch + 1}, Loss: {loss.item():.4f}')"
   ]
  },
  {
   "cell_type": "code",
   "execution_count": 12,
   "metadata": {},
   "outputs": [
    {
     "name": "stdout",
     "output_type": "stream",
     "text": [
      "Accuracy: 0.8889\n",
      "Precision: 0.8889\n",
      "Recall: 0.8889\n",
      "F1 Score: 0.8889\n"
     ]
    }
   ],
   "source": [
    "model.eval()\n",
    "predict_out = model(Xtest_)\n",
    "_, predict_y = torch.max(predict_out, 1)\n",
    "from sklearn.metrics import accuracy_score, precision_score, recall_score, f1_score\n",
    "print(f'Accuracy: {accuracy_score(ytest_, predict_y):.4f}')\n",
    "print(f'Precision: {precision_score(ytest_, predict_y, average=\"micro\"):.4f}')\n",
    "print(f'Recall: {recall_score(ytest_, predict_y, average=\"micro\"):.4f}')\n",
    "print(f'F1 Score: {f1_score(ytest_, predict_y, average=\"micro\"):.4f}')"
   ]
  },
  {
   "cell_type": "code",
   "execution_count": null,
   "metadata": {},
   "outputs": [],
   "source": []
  }
 ],
 "metadata": {
  "interpreter": {
   "hash": "a5a8803176ba603454a120d2af569b11c3f41e6e81f2a81589e795246afd0d6d"
  },
  "kernelspec": {
   "display_name": "Python 3.7.6 64-bit ('base': conda)",
   "language": "python",
   "name": "python3"
  },
  "language_info": {
   "codemirror_mode": {
    "name": "ipython",
    "version": 3
   },
   "file_extension": ".py",
   "mimetype": "text/x-python",
   "name": "python",
   "nbconvert_exporter": "python",
   "pygments_lexer": "ipython3",
   "version": "3.7.6"
  },
  "orig_nbformat": 4
 },
 "nbformat": 4,
 "nbformat_minor": 2
}
