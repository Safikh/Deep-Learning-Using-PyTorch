{
 "cells": [
  {
   "cell_type": "markdown",
   "metadata": {},
   "source": [
    "ONNX is an open format to represent DL models that allows models to be reused across frameworks."
   ]
  },
  {
   "cell_type": "code",
   "execution_count": 7,
   "metadata": {},
   "outputs": [],
   "source": [
    "import pandas as pd\n",
    "import numpy as np\n",
    "\n",
    "import torch\n",
    "import torch.nn as nn\n",
    "import torch.nn.functional as F"
   ]
  },
  {
   "cell_type": "code",
   "execution_count": 8,
   "metadata": {},
   "outputs": [],
   "source": [
    "df = pd.read_csv('data/wine_data.csv')\n",
    "features = df.drop('Class', axis=1)\n",
    "labels = df[['Class']]"
   ]
  },
  {
   "cell_type": "code",
   "execution_count": 9,
   "metadata": {},
   "outputs": [],
   "source": [
    "from sklearn.model_selection import train_test_split\n",
    "X_train, X_test, y_train, y_test = train_test_split(features, labels, test_size=0.2, random_state=0)\n",
    "\n",
    "Xtrain_ = torch.from_numpy(X_train.values).float()\n",
    "Xtest_ = torch.from_numpy(X_test.values).float()\n",
    "ytrain_ = torch.from_numpy(y_train.values).long().view(1, -1)[0]\n",
    "ytest_ = torch.from_numpy(y_test.values).long().view(1, -1)[0]\n",
    "\n",
    "input_size = 13\n",
    "output_size = 3\n",
    "hidden_size = 100\n",
    "\n",
    "class Net(nn.Module):\n",
    "\n",
    "    def __init__(self):\n",
    "        super(Net, self).__init__()\n",
    "        self.fc1 = nn.Linear(input_size, hidden_size)\n",
    "        self.fc2 = nn.Linear(hidden_size, hidden_size)\n",
    "        self.fc3 = nn.Linear(hidden_size, output_size)\n",
    "    \n",
    "\n",
    "    def forward(self, X):\n",
    "        X = torch.sigmoid(self.fc1(X))\n",
    "        X = torch.sigmoid(self.fc2(X))\n",
    "        X = self.fc3(X)\n",
    "\n",
    "        return F.log_softmax(X, dim=-1)"
   ]
  },
  {
   "cell_type": "code",
   "execution_count": 10,
   "metadata": {},
   "outputs": [
    {
     "name": "stdout",
     "output_type": "stream",
     "text": [
      "Epoch: 100, Loss: 0.0965\n",
      "Epoch: 200, Loss: 0.0361\n",
      "Epoch: 300, Loss: 0.0434\n",
      "Epoch: 400, Loss: 0.0307\n",
      "Epoch: 500, Loss: 0.0219\n",
      "Epoch: 600, Loss: 0.0113\n",
      "Epoch: 700, Loss: 0.0055\n",
      "Epoch: 800, Loss: 0.0031\n",
      "Epoch: 900, Loss: 0.0020\n",
      "Epoch: 1000, Loss: 0.0014\n"
     ]
    }
   ],
   "source": [
    "model = Net()\n",
    "import torch.optim as optim\n",
    "optimizer = optim.Adam(model.parameters(), lr=0.01)\n",
    "loss_fn = nn.NLLLoss()\n",
    "EPOCHS = 1000\n",
    "for epoch in range(EPOCHS):\n",
    "    optimizer.zero_grad()\n",
    "    y_pred = model(Xtrain_)\n",
    "    loss = loss_fn(y_pred, ytrain_)\n",
    "    loss.backward()\n",
    "    optimizer.step()\n",
    "\n",
    "    if (epoch + 1) % 100 == 0:\n",
    "        print(f'Epoch: {epoch + 1}, Loss: {loss.item():.4f}')"
   ]
  },
  {
   "cell_type": "code",
   "execution_count": 11,
   "metadata": {},
   "outputs": [],
   "source": [
    "# A sample dummy input which specifies the input shape is also passed along with the model\n",
    "sample = np.array(X_test)\n",
    "sample_tensor = torch.from_numpy(sample).float()"
   ]
  },
  {
   "cell_type": "code",
   "execution_count": 12,
   "metadata": {},
   "outputs": [
    {
     "name": "stdout",
     "output_type": "stream",
     "text": [
      "graph(%input.1 : Float(36, 13, strides=[1, 36], requires_grad=0, device=cpu),\n",
      "      %fc1.weight : Float(100, 13, strides=[13, 1], requires_grad=1, device=cpu),\n",
      "      %fc1.bias : Float(100, strides=[1], requires_grad=1, device=cpu),\n",
      "      %fc2.weight : Float(100, 100, strides=[100, 1], requires_grad=1, device=cpu),\n",
      "      %fc2.bias : Float(100, strides=[1], requires_grad=1, device=cpu),\n",
      "      %fc3.weight : Float(3, 100, strides=[100, 1], requires_grad=1, device=cpu),\n",
      "      %fc3.bias : Float(3, strides=[1], requires_grad=1, device=cpu)):\n",
      "  %7 : Float(36, 100, strides=[100, 1], requires_grad=1, device=cpu) = onnx::Gemm[alpha=1., beta=1., transB=1](%input.1, %fc1.weight, %fc1.bias) # C:\\Users\\Safiuddin\\anaconda3\\lib\\site-packages\\torch\\nn\\functional.py:1848:0\n",
      "  %8 : Float(36, 100, strides=[100, 1], requires_grad=1, device=cpu) = onnx::Sigmoid(%7) # <ipython-input-9-c4af461c3af3>:23:0\n",
      "  %9 : Float(36, 100, strides=[100, 1], requires_grad=1, device=cpu) = onnx::Gemm[alpha=1., beta=1., transB=1](%8, %fc2.weight, %fc2.bias) # C:\\Users\\Safiuddin\\anaconda3\\lib\\site-packages\\torch\\nn\\functional.py:1848:0\n",
      "  %10 : Float(36, 100, strides=[100, 1], requires_grad=1, device=cpu) = onnx::Sigmoid(%9) # <ipython-input-9-c4af461c3af3>:24:0\n",
      "  %11 : Float(36, 3, strides=[3, 1], requires_grad=1, device=cpu) = onnx::Gemm[alpha=1., beta=1., transB=1](%10, %fc3.weight, %fc3.bias) # C:\\Users\\Safiuddin\\anaconda3\\lib\\site-packages\\torch\\nn\\functional.py:1848:0\n",
      "  %12 : Float(36, 3, strides=[3, 1], requires_grad=1, device=cpu) = onnx::LogSoftmax[axis=1](%11) # C:\\Users\\Safiuddin\\anaconda3\\lib\\site-packages\\torch\\nn\\functional.py:1769:0\n",
      "  return (%12)\n",
      "\n"
     ]
    }
   ],
   "source": [
    "torch.onnx.export(model, sample_tensor, 'models/classifier.onnx', export_params=True, verbose=True)\n"
   ]
  },
  {
   "cell_type": "code",
   "execution_count": null,
   "metadata": {},
   "outputs": [],
   "source": [
    "# Importing to Caffe2\n",
    "import onnx\n",
    "import caffe2.python.onnx.backend as c2\n",
    "new_model = onnx.load('models/classifier.onnx')\n",
    "prepared_backend = c2.prepare(new_model)\n"
   ]
  }
 ],
 "metadata": {
  "interpreter": {
   "hash": "a5a8803176ba603454a120d2af569b11c3f41e6e81f2a81589e795246afd0d6d"
  },
  "kernelspec": {
   "display_name": "Python 3.7.6 64-bit ('base': conda)",
   "language": "python",
   "name": "python3"
  },
  "language_info": {
   "codemirror_mode": {
    "name": "ipython",
    "version": 3
   },
   "file_extension": ".py",
   "mimetype": "text/x-python",
   "name": "python",
   "nbconvert_exporter": "python",
   "pygments_lexer": "ipython3",
   "version": "3.7.6"
  },
  "orig_nbformat": 4
 },
 "nbformat": 4,
 "nbformat_minor": 2
}
