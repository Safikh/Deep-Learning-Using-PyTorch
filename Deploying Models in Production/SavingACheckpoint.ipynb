{
 "cells": [
  {
   "cell_type": "code",
   "execution_count": 1,
   "metadata": {},
   "outputs": [],
   "source": [
    "import pandas as pd\n",
    "import numpy as np\n",
    "\n",
    "import torch\n",
    "import torch.nn as nn\n",
    "import torch.nn.functional as F"
   ]
  },
  {
   "cell_type": "code",
   "execution_count": 2,
   "metadata": {},
   "outputs": [],
   "source": [
    "df = pd.read_csv('data/wine_data.csv')\n",
    "features = df.drop('Class', axis=1)\n",
    "labels = df[['Class']]"
   ]
  },
  {
   "cell_type": "code",
   "execution_count": 3,
   "metadata": {},
   "outputs": [],
   "source": [
    "from sklearn.model_selection import train_test_split\n",
    "X_train, X_test, y_train, y_test = train_test_split(features, labels, test_size=0.2, random_state=0)\n",
    "\n",
    "Xtrain_ = torch.from_numpy(X_train.values).float()\n",
    "Xtest_ = torch.from_numpy(X_test.values).float()\n",
    "ytrain_ = torch.from_numpy(y_train.values).long().view(1, -1)[0]\n",
    "ytest_ = torch.from_numpy(y_test.values).long().view(1, -1)[0]\n",
    "\n",
    "input_size = 13\n",
    "output_size = 3\n",
    "hidden_size = 100\n",
    "\n",
    "class Net(nn.Module):\n",
    "\n",
    "    def __init__(self):\n",
    "        super(Net, self).__init__()\n",
    "        self.fc1 = nn.Linear(input_size, hidden_size)\n",
    "        self.fc2 = nn.Linear(hidden_size, hidden_size)\n",
    "        self.fc3 = nn.Linear(hidden_size, output_size)\n",
    "    \n",
    "\n",
    "    def forward(self, X):\n",
    "        X = torch.sigmoid(self.fc1(X))\n",
    "        X = torch.sigmoid(self.fc2(X))\n",
    "        X = self.fc3(X)\n",
    "\n",
    "        return F.log_softmax(X, dim=-1)"
   ]
  },
  {
   "cell_type": "code",
   "execution_count": 4,
   "metadata": {},
   "outputs": [
    {
     "name": "stdout",
     "output_type": "stream",
     "text": [
      "Epoch: 10, Loss: 0.9798\n",
      "Epoch: 20, Loss: 0.7385\n",
      "Epoch: 30, Loss: 0.6014\n",
      "Epoch: 40, Loss: 0.5511\n",
      "Epoch: 50, Loss: 0.5021\n",
      "Epoch: 60, Loss: 0.4668\n",
      "Epoch: 70, Loss: 0.4024\n",
      "Epoch: 80, Loss: 0.3911\n",
      "Epoch: 90, Loss: 0.2849\n",
      "Epoch: 100, Loss: 0.2540\n"
     ]
    }
   ],
   "source": [
    "model = Net()\n",
    "import torch.optim as optim\n",
    "optimizer = optim.Adam(model.parameters(), lr=0.01)\n",
    "loss_fn = nn.NLLLoss()\n",
    "EPOCHS = 100\n",
    "for epoch in range(EPOCHS):\n",
    "    optimizer.zero_grad()\n",
    "    y_pred = model(Xtrain_)\n",
    "    loss = loss_fn(y_pred, ytrain_)\n",
    "    loss.backward()\n",
    "    optimizer.step()\n",
    "\n",
    "    if (epoch + 1) % 10 == 0:\n",
    "        print(f'Epoch: {epoch + 1}, Loss: {loss.item():.4f}')"
   ]
  },
  {
   "cell_type": "code",
   "execution_count": 5,
   "metadata": {},
   "outputs": [],
   "source": [
    "torch.save({\n",
    "    'epoch': epoch, # current epoch\n",
    "    'model_state_dict': model.state_dict(), # model state\n",
    "    'optimizer_state_dict': optimizer.state_dict(), # optimizer state\n",
    "    'loss': loss # last loss\n",
    "}, 'models/wine_checkpoint.pth')"
   ]
  },
  {
   "cell_type": "code",
   "execution_count": 6,
   "metadata": {},
   "outputs": [
    {
     "name": "stdout",
     "output_type": "stream",
     "text": [
      "Accuracy: 0.8611\n",
      "Precision: 0.8611\n",
      "Recall: 0.8611\n",
      "F1 Score: 0.8611\n"
     ]
    }
   ],
   "source": [
    "predict_out = model(Xtest_)\n",
    "_, predict_y = torch.max(predict_out, 1)\n",
    "from sklearn.metrics import accuracy_score, precision_score, recall_score, f1_score\n",
    "print(f'Accuracy: {accuracy_score(ytest_, predict_y):.4f}')\n",
    "print(f'Precision: {precision_score(ytest_, predict_y, average=\"micro\"):.4f}')\n",
    "print(f'Recall: {recall_score(ytest_, predict_y, average=\"micro\"):.4f}')\n",
    "print(f'F1 Score: {f1_score(ytest_, predict_y, average=\"micro\"):.4f}')"
   ]
  },
  {
   "cell_type": "code",
   "execution_count": null,
   "metadata": {},
   "outputs": [],
   "source": []
  }
 ],
 "metadata": {
  "interpreter": {
   "hash": "a5a8803176ba603454a120d2af569b11c3f41e6e81f2a81589e795246afd0d6d"
  },
  "kernelspec": {
   "display_name": "Python 3.7.6 64-bit ('base': conda)",
   "language": "python",
   "name": "python3"
  },
  "language_info": {
   "codemirror_mode": {
    "name": "ipython",
    "version": 3
   },
   "file_extension": ".py",
   "mimetype": "text/x-python",
   "name": "python",
   "nbconvert_exporter": "python",
   "pygments_lexer": "ipython3",
   "version": "3.7.6"
  },
  "orig_nbformat": 4
 },
 "nbformat": 4,
 "nbformat_minor": 2
}
