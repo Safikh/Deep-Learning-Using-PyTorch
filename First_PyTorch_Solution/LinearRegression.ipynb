{
 "cells": [
  {
   "cell_type": "code",
   "execution_count": 30,
   "metadata": {},
   "outputs": [],
   "source": [
    "import numpy as np\n",
    "import matplotlib.pyplot as plt"
   ]
  },
  {
   "cell_type": "code",
   "execution_count": 31,
   "metadata": {},
   "outputs": [],
   "source": [
    "x_train = np.random.rand(100, 1)\n",
    "y_train = x_train * 10 + 3 + np.random.randn(100, 1) * 0.33"
   ]
  },
  {
   "cell_type": "code",
   "execution_count": 32,
   "metadata": {},
   "outputs": [
    {
     "data": {
      "image/png": "[encoded data removed]",
      "text/plain": [
       "<Figure size 576x432 with 1 Axes>"
      ]
     },
     "metadata": {
      "needs_background": "light"
     },
     "output_type": "display_data"
    }
   ],
   "source": [
    "plt.figure(figsize=(8, 6))\n",
    "plt.scatter(x_train, y_train, label='Original data')\n",
    "plt.legend()\n",
    "plt.show();"
   ]
  },
  {
   "cell_type": "code",
   "execution_count": 33,
   "metadata": {},
   "outputs": [],
   "source": [
    "import torch"
   ]
  },
  {
   "cell_type": "code",
   "execution_count": 34,
   "metadata": {},
   "outputs": [
    {
     "name": "stdout",
     "output_type": "stream",
     "text": [
      "Requires_grad_X: False\n",
      "Requires_grad_Y: False\n"
     ]
    }
   ],
   "source": [
    "X_train = torch.from_numpy(x_train).float()\n",
    "Y_train = torch.from_numpy(y_train).float()\n",
    "print(f'Requires_grad_X: {X_train.requires_grad}')\n",
    "print(f'Requires_grad_Y: {Y_train.requires_grad}')"
   ]
  },
  {
   "cell_type": "code",
   "execution_count": 35,
   "metadata": {},
   "outputs": [],
   "source": [
    "INPUT = 1\n",
    "OUTPUT = 1\n",
    "HIDDEN = 1\n",
    "LEARNING_RATE = 0.001"
   ]
  },
  {
   "cell_type": "code",
   "execution_count": 36,
   "metadata": {},
   "outputs": [
    {
     "data": {
      "text/plain": [
       "torch.Size([1, 1])"
      ]
     },
     "execution_count": 36,
     "metadata": {},
     "output_type": "execute_result"
    }
   ],
   "source": [
    "w1 = torch.rand(INPUT, HIDDEN, requires_grad=True)\n",
    "w1.shape"
   ]
  },
  {
   "cell_type": "code",
   "execution_count": 37,
   "metadata": {},
   "outputs": [
    {
     "data": {
      "text/plain": [
       "torch.Size([1])"
      ]
     },
     "execution_count": 37,
     "metadata": {},
     "output_type": "execute_result"
    }
   ],
   "source": [
    "b1 = torch.rand(HIDDEN, requires_grad=True)\n",
    "b1.shape"
   ]
  },
  {
   "cell_type": "code",
   "execution_count": 38,
   "metadata": {},
   "outputs": [
    {
     "data": {
      "text/plain": [
       "(tensor([[0.4657]], requires_grad=True), tensor([0.5791], requires_grad=True))"
      ]
     },
     "execution_count": 38,
     "metadata": {},
     "output_type": "execute_result"
    }
   ],
   "source": [
    "w1, b1"
   ]
  },
  {
   "cell_type": "code",
   "execution_count": 39,
   "metadata": {},
   "outputs": [
    {
     "name": "stdout",
     "output_type": "stream",
     "text": [
      "epoch: 100, loss: 35.98337936401367\n",
      "epoch: 200, loss: 10.506240844726562\n",
      "epoch: 300, loss: 8.395729064941406\n",
      "epoch: 400, loss: 8.220891952514648\n",
      "epoch: 500, loss: 8.20640754699707\n",
      "epoch: 600, loss: 8.205208778381348\n",
      "epoch: 700, loss: 8.205106735229492\n",
      "epoch: 800, loss: 8.20510196685791\n",
      "epoch: 900, loss: 8.205100059509277\n",
      "epoch: 1000, loss: 8.205101013183594\n",
      "epoch: 1100, loss: 8.205101013183594\n",
      "epoch: 1200, loss: 8.205101013183594\n",
      "epoch: 1300, loss: 8.205101013183594\n",
      "epoch: 1400, loss: 8.205101013183594\n",
      "epoch: 1500, loss: 8.205101013183594\n",
      "epoch: 1600, loss: 8.205101013183594\n",
      "epoch: 1700, loss: 8.205101013183594\n",
      "epoch: 1800, loss: 8.205101013183594\n",
      "epoch: 1900, loss: 8.205101013183594\n",
      "epoch: 2000, loss: 8.205101013183594\n",
      "epoch: 2100, loss: 8.205101013183594\n",
      "epoch: 2200, loss: 8.205101013183594\n",
      "epoch: 2300, loss: 8.205101013183594\n",
      "epoch: 2400, loss: 8.205101013183594\n",
      "epoch: 2500, loss: 8.205101013183594\n",
      "epoch: 2600, loss: 8.205101013183594\n",
      "epoch: 2700, loss: 8.205101013183594\n",
      "epoch: 2800, loss: 8.205101013183594\n",
      "epoch: 2900, loss: 8.205101013183594\n",
      "epoch: 3000, loss: 8.205101013183594\n",
      "epoch: 3100, loss: 8.205101013183594\n",
      "epoch: 3200, loss: 8.205101013183594\n",
      "epoch: 3300, loss: 8.205101013183594\n",
      "epoch: 3400, loss: 8.205101013183594\n",
      "epoch: 3500, loss: 8.205101013183594\n",
      "epoch: 3600, loss: 8.205101013183594\n",
      "epoch: 3700, loss: 8.205101013183594\n",
      "epoch: 3800, loss: 8.205101013183594\n",
      "epoch: 3900, loss: 8.205101013183594\n",
      "epoch: 4000, loss: 8.205101013183594\n"
     ]
    }
   ],
   "source": [
    "EPOCHS = 4000\n",
    "for epoch in range(1, EPOCHS + 1):\n",
    "    y_pred = X_train.mm(w1).add(b1)\n",
    "    loss = (y_pred - Y_train).pow(2).sum()\n",
    "    if epoch % 100 == 0:\n",
    "        print(f'epoch: {epoch}, loss: {loss.item()}')\n",
    "    loss.backward()\n",
    "    with torch.no_grad():\n",
    "        w1 -= LEARNING_RATE * w1.grad\n",
    "        b1 -= LEARNING_RATE * b1.grad\n",
    "        w1.grad.zero_()\n",
    "        b1.grad.zero_()"
   ]
  },
  {
   "cell_type": "code",
   "execution_count": 40,
   "metadata": {},
   "outputs": [
    {
     "data": {
      "text/plain": [
       "(tensor([[10.2910]], requires_grad=True), tensor([2.8484], requires_grad=True))"
      ]
     },
     "execution_count": 40,
     "metadata": {},
     "output_type": "execute_result"
    }
   ],
   "source": [
    "w1, b1"
   ]
  },
  {
   "cell_type": "code",
   "execution_count": 41,
   "metadata": {},
   "outputs": [
    {
     "data": {
      "text/plain": [
       "tensor([[ 7.2596],\n",
       "        [11.4745],\n",
       "        [11.0202],\n",
       "        [12.2234],\n",
       "        [10.3452],\n",
       "        [ 8.5188],\n",
       "        [11.8006],\n",
       "        [11.5049],\n",
       "        [ 4.8376],\n",
       "        [10.8059],\n",
       "        [13.0781],\n",
       "        [ 3.9615],\n",
       "        [ 2.9018],\n",
       "        [ 5.0649],\n",
       "        [ 6.2470],\n",
       "        [ 7.8284],\n",
       "        [12.7786],\n",
       "        [12.9123],\n",
       "        [12.2036],\n",
       "        [10.5493],\n",
       "        [ 8.4367],\n",
       "        [12.7029],\n",
       "        [11.2172],\n",
       "        [11.2659],\n",
       "        [11.7962],\n",
       "        [12.6452],\n",
       "        [ 5.4003],\n",
       "        [11.1892],\n",
       "        [ 4.6206],\n",
       "        [ 6.8009],\n",
       "        [10.8482],\n",
       "        [11.3671],\n",
       "        [ 9.0724],\n",
       "        [ 6.1924],\n",
       "        [ 3.1182],\n",
       "        [ 9.9739],\n",
       "        [11.5081],\n",
       "        [ 3.2424],\n",
       "        [ 3.3276],\n",
       "        [ 5.3314],\n",
       "        [ 9.1704],\n",
       "        [ 6.1099],\n",
       "        [ 7.8083],\n",
       "        [ 6.4923],\n",
       "        [12.4740],\n",
       "        [ 6.7008],\n",
       "        [12.8496],\n",
       "        [ 4.1042],\n",
       "        [10.1837],\n",
       "        [ 8.6953],\n",
       "        [ 9.0013],\n",
       "        [ 5.5552],\n",
       "        [ 3.8060],\n",
       "        [ 3.2195],\n",
       "        [10.5003],\n",
       "        [ 4.3443],\n",
       "        [ 9.6784],\n",
       "        [ 9.0267],\n",
       "        [11.5668],\n",
       "        [ 5.3194],\n",
       "        [11.5736],\n",
       "        [ 5.4108],\n",
       "        [11.9732],\n",
       "        [ 9.8165],\n",
       "        [12.4412],\n",
       "        [ 8.1005],\n",
       "        [12.9491],\n",
       "        [ 9.2789],\n",
       "        [ 6.4705],\n",
       "        [12.0808],\n",
       "        [ 8.4754],\n",
       "        [ 4.0176],\n",
       "        [ 6.0599],\n",
       "        [10.0385],\n",
       "        [11.8584],\n",
       "        [ 8.8078],\n",
       "        [ 7.6155],\n",
       "        [ 7.3522],\n",
       "        [11.0997],\n",
       "        [11.6407],\n",
       "        [ 7.5087],\n",
       "        [ 4.3391],\n",
       "        [ 9.0471],\n",
       "        [ 7.4079],\n",
       "        [11.4203],\n",
       "        [ 6.6833],\n",
       "        [ 7.9732],\n",
       "        [ 6.8907],\n",
       "        [10.5222],\n",
       "        [ 8.4685],\n",
       "        [ 8.8991],\n",
       "        [11.5828],\n",
       "        [ 8.8328],\n",
       "        [ 7.8633],\n",
       "        [11.4756],\n",
       "        [ 5.1168],\n",
       "        [ 9.4852],\n",
       "        [ 3.6536],\n",
       "        [ 3.4366],\n",
       "        [10.1273]], grad_fn=<AddBackward0>)"
      ]
     },
     "execution_count": 41,
     "metadata": {},
     "output_type": "execute_result"
    }
   ],
   "source": [
    "y_pred = X_train.mm(w1).add(b1)\n",
    "y_pred"
   ]
  },
  {
   "cell_type": "code",
   "execution_count": 42,
   "metadata": {},
   "outputs": [],
   "source": [
    "y_pred = y_pred.detach().numpy()"
   ]
  },
  {
   "cell_type": "code",
   "execution_count": 43,
   "metadata": {},
   "outputs": [
    {
     "data": {
      "image/png": "[encoded data removed]",
      "text/plain": [
       "<Figure size 576x432 with 1 Axes>"
      ]
     },
     "metadata": {
      "needs_background": "light"
     },
     "output_type": "display_data"
    }
   ],
   "source": [
    "plt.figure(figsize=(8, 6))\n",
    "plt.scatter(x_train, y_train, label='Original data')\n",
    "plt.plot(x_train, y_pred, label='Fitted line')\n",
    "plt.title('Linear Regression')\n",
    "plt.legend()\n",
    "plt.show();"
   ]
  },
  {
   "cell_type": "code",
   "execution_count": 44,
   "metadata": {},
   "outputs": [
    {
     "name": "stdout",
     "output_type": "stream",
     "text": [
      "epoch: 100, loss: 101.63267517089844\n",
      "epoch: 200, loss: 86.50574493408203\n",
      "epoch: 300, loss: 85.51852416992188\n",
      "epoch: 400, loss: 85.45408630371094\n",
      "epoch: 500, loss: 85.44989013671875\n",
      "epoch: 600, loss: 85.44961547851562\n",
      "epoch: 700, loss: 85.44960021972656\n",
      "epoch: 800, loss: 85.44959259033203\n",
      "epoch: 900, loss: 85.44959259033203\n",
      "epoch: 1000, loss: 85.44959259033203\n"
     ]
    }
   ],
   "source": [
    "# Ridge Regression\n",
    "w1 = torch.rand(INPUT, HIDDEN, requires_grad=True)\n",
    "b1 = torch.rand(HIDDEN, requires_grad=True)\n",
    "EPOCHS = 1000\n",
    "ALPHA = 0.8\n",
    "for epoch in range(1, EPOCHS + 1):\n",
    "    y_pred = X_train.mm(w1).add(b1)\n",
    "    loss = (y_pred - Y_train).pow(2).sum() + ALPHA * w1.pow(2).sum()\n",
    "    if epoch % 100 == 0:\n",
    "        print(f'epoch: {epoch}, loss: {loss.item()}')\n",
    "    loss.backward()\n",
    "    with torch.no_grad():\n",
    "        w1 -= LEARNING_RATE * w1.grad\n",
    "        b1 -= LEARNING_RATE * b1.grad\n",
    "        w1.grad.zero_()\n",
    "        b1.grad.zero_()"
   ]
  },
  {
   "cell_type": "code",
   "execution_count": 45,
   "metadata": {},
   "outputs": [
    {
     "data": {
      "text/plain": [
       "(tensor([[9.3825]], requires_grad=True), tensor([3.3577], requires_grad=True))"
      ]
     },
     "execution_count": 45,
     "metadata": {},
     "output_type": "execute_result"
    }
   ],
   "source": [
    "w1, b1"
   ]
  },
  {
   "cell_type": "code",
   "execution_count": 46,
   "metadata": {},
   "outputs": [
    {
     "data": {
      "image/png": "[encoded data removed]",
      "text/plain": [
       "<Figure size 576x432 with 1 Axes>"
      ]
     },
     "metadata": {
      "needs_background": "light"
     },
     "output_type": "display_data"
    }
   ],
   "source": [
    "y_pred = X_train.mm(w1).add(b1)\n",
    "y_pred = y_pred.detach().numpy()\n",
    "\n",
    "plt.figure(figsize=(8, 6))\n",
    "plt.scatter(x_train, y_train, label='Original data')\n",
    "plt.plot(x_train, y_pred, label='Fitted line')\n",
    "plt.title('Ridge Regression')\n",
    "plt.legend()\n",
    "plt.show();"
   ]
  },
  {
   "cell_type": "code",
   "execution_count": null,
   "metadata": {},
   "outputs": [],
   "source": []
  }
 ],
 "metadata": {
  "interpreter": {
   "hash": "a5a8803176ba603454a120d2af569b11c3f41e6e81f2a81589e795246afd0d6d"
  },
  "kernelspec": {
   "display_name": "Python 3.7.6 64-bit ('base': conda)",
   "language": "python",
   "name": "python3"
  },
  "language_info": {
   "codemirror_mode": {
    "name": "ipython",
    "version": 3
   },
   "file_extension": ".py",
   "mimetype": "text/x-python",
   "name": "python",
   "nbconvert_exporter": "python",
   "pygments_lexer": "ipython3",
   "version": "3.7.6"
  },
  "orig_nbformat": 4
 },
 "nbformat": 4,
 "nbformat_minor": 2
}
