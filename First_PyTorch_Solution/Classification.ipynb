{
 "cells": [
  {
   "cell_type": "code",
   "execution_count": 1,
   "metadata": {},
   "outputs": [],
   "source": [
    "import torch\n",
    "\n",
    "import pandas as pd\n",
    "import numpy as np\n",
    "\n",
    "import seaborn as sns\n",
    "import matplotlib.pyplot as plt"
   ]
  },
  {
   "cell_type": "code",
   "execution_count": 2,
   "metadata": {},
   "outputs": [
    {
     "data": {
      "text/html": [
       "<div>\n",
       "<style scoped>\n",
       "    .dataframe tbody tr th:only-of-type {\n",
       "        vertical-align: middle;\n",
       "    }\n",
       "\n",
       "    .dataframe tbody tr th {\n",
       "        vertical-align: top;\n",
       "    }\n",
       "\n",
       "    .dataframe thead th {\n",
       "        text-align: right;\n",
       "    }\n",
       "</style>\n",
       "<table border=\"1\" class=\"dataframe\">\n",
       "  <thead>\n",
       "    <tr style=\"text-align: right;\">\n",
       "      <th></th>\n",
       "      <th>Serial No.</th>\n",
       "      <th>GRE Score</th>\n",
       "      <th>TOEFL Score</th>\n",
       "      <th>University Rating</th>\n",
       "      <th>SOP</th>\n",
       "      <th>LOR</th>\n",
       "      <th>CGPA</th>\n",
       "      <th>Research</th>\n",
       "      <th>Chance of Admit</th>\n",
       "    </tr>\n",
       "  </thead>\n",
       "  <tbody>\n",
       "    <tr>\n",
       "      <th>0</th>\n",
       "      <td>1</td>\n",
       "      <td>337</td>\n",
       "      <td>118</td>\n",
       "      <td>4</td>\n",
       "      <td>4.5</td>\n",
       "      <td>4.5</td>\n",
       "      <td>9.65</td>\n",
       "      <td>1</td>\n",
       "      <td>0.92</td>\n",
       "    </tr>\n",
       "    <tr>\n",
       "      <th>1</th>\n",
       "      <td>2</td>\n",
       "      <td>324</td>\n",
       "      <td>107</td>\n",
       "      <td>4</td>\n",
       "      <td>4.0</td>\n",
       "      <td>4.5</td>\n",
       "      <td>8.87</td>\n",
       "      <td>1</td>\n",
       "      <td>0.76</td>\n",
       "    </tr>\n",
       "    <tr>\n",
       "      <th>2</th>\n",
       "      <td>3</td>\n",
       "      <td>316</td>\n",
       "      <td>104</td>\n",
       "      <td>3</td>\n",
       "      <td>3.0</td>\n",
       "      <td>3.5</td>\n",
       "      <td>8.00</td>\n",
       "      <td>1</td>\n",
       "      <td>0.72</td>\n",
       "    </tr>\n",
       "    <tr>\n",
       "      <th>3</th>\n",
       "      <td>4</td>\n",
       "      <td>322</td>\n",
       "      <td>110</td>\n",
       "      <td>3</td>\n",
       "      <td>3.5</td>\n",
       "      <td>2.5</td>\n",
       "      <td>8.67</td>\n",
       "      <td>1</td>\n",
       "      <td>0.80</td>\n",
       "    </tr>\n",
       "    <tr>\n",
       "      <th>4</th>\n",
       "      <td>5</td>\n",
       "      <td>314</td>\n",
       "      <td>103</td>\n",
       "      <td>2</td>\n",
       "      <td>2.0</td>\n",
       "      <td>3.0</td>\n",
       "      <td>8.21</td>\n",
       "      <td>0</td>\n",
       "      <td>0.65</td>\n",
       "    </tr>\n",
       "  </tbody>\n",
       "</table>\n",
       "</div>"
      ],
      "text/plain": [
       "   Serial No.  GRE Score  TOEFL Score  University Rating  SOP  LOR   CGPA  \\\n",
       "0           1        337          118                  4  4.5   4.5  9.65   \n",
       "1           2        324          107                  4  4.0   4.5  8.87   \n",
       "2           3        316          104                  3  3.0   3.5  8.00   \n",
       "3           4        322          110                  3  3.5   2.5  8.67   \n",
       "4           5        314          103                  2  2.0   3.0  8.21   \n",
       "\n",
       "   Research  Chance of Admit   \n",
       "0         1              0.92  \n",
       "1         1              0.76  \n",
       "2         1              0.72  \n",
       "3         1              0.80  \n",
       "4         0              0.65  "
      ]
     },
     "execution_count": 2,
     "metadata": {},
     "output_type": "execute_result"
    }
   ],
   "source": [
    "df = pd.read_csv('data/graduate-admissions/admission_predict.csv')\n",
    "df.head()"
   ]
  },
  {
   "cell_type": "code",
   "execution_count": 3,
   "metadata": {},
   "outputs": [
    {
     "data": {
      "text/plain": [
       "(400, 9)"
      ]
     },
     "execution_count": 3,
     "metadata": {},
     "output_type": "execute_result"
    }
   ],
   "source": [
    "df.shape"
   ]
  },
  {
   "cell_type": "code",
   "execution_count": 4,
   "metadata": {},
   "outputs": [
    {
     "data": {
      "text/html": [
       "<div>\n",
       "<style scoped>\n",
       "    .dataframe tbody tr th:only-of-type {\n",
       "        vertical-align: middle;\n",
       "    }\n",
       "\n",
       "    .dataframe tbody tr th {\n",
       "        vertical-align: top;\n",
       "    }\n",
       "\n",
       "    .dataframe thead th {\n",
       "        text-align: right;\n",
       "    }\n",
       "</style>\n",
       "<table border=\"1\" class=\"dataframe\">\n",
       "  <thead>\n",
       "    <tr style=\"text-align: right;\">\n",
       "      <th></th>\n",
       "      <th>Serial No.</th>\n",
       "      <th>GRE Score</th>\n",
       "      <th>TOEFL Score</th>\n",
       "      <th>University Rating</th>\n",
       "      <th>SOP</th>\n",
       "      <th>LOR</th>\n",
       "      <th>CGPA</th>\n",
       "      <th>Research</th>\n",
       "      <th>Chance of Admit</th>\n",
       "    </tr>\n",
       "  </thead>\n",
       "  <tbody>\n",
       "    <tr>\n",
       "      <th>count</th>\n",
       "      <td>400.000000</td>\n",
       "      <td>400.000000</td>\n",
       "      <td>400.000000</td>\n",
       "      <td>400.000000</td>\n",
       "      <td>400.000000</td>\n",
       "      <td>400.000000</td>\n",
       "      <td>400.000000</td>\n",
       "      <td>400.000000</td>\n",
       "      <td>400.000000</td>\n",
       "    </tr>\n",
       "    <tr>\n",
       "      <th>mean</th>\n",
       "      <td>200.500000</td>\n",
       "      <td>316.807500</td>\n",
       "      <td>107.410000</td>\n",
       "      <td>3.087500</td>\n",
       "      <td>3.400000</td>\n",
       "      <td>3.452500</td>\n",
       "      <td>8.598925</td>\n",
       "      <td>0.547500</td>\n",
       "      <td>0.724350</td>\n",
       "    </tr>\n",
       "    <tr>\n",
       "      <th>std</th>\n",
       "      <td>115.614301</td>\n",
       "      <td>11.473646</td>\n",
       "      <td>6.069514</td>\n",
       "      <td>1.143728</td>\n",
       "      <td>1.006869</td>\n",
       "      <td>0.898478</td>\n",
       "      <td>0.596317</td>\n",
       "      <td>0.498362</td>\n",
       "      <td>0.142609</td>\n",
       "    </tr>\n",
       "    <tr>\n",
       "      <th>min</th>\n",
       "      <td>1.000000</td>\n",
       "      <td>290.000000</td>\n",
       "      <td>92.000000</td>\n",
       "      <td>1.000000</td>\n",
       "      <td>1.000000</td>\n",
       "      <td>1.000000</td>\n",
       "      <td>6.800000</td>\n",
       "      <td>0.000000</td>\n",
       "      <td>0.340000</td>\n",
       "    </tr>\n",
       "    <tr>\n",
       "      <th>25%</th>\n",
       "      <td>100.750000</td>\n",
       "      <td>308.000000</td>\n",
       "      <td>103.000000</td>\n",
       "      <td>2.000000</td>\n",
       "      <td>2.500000</td>\n",
       "      <td>3.000000</td>\n",
       "      <td>8.170000</td>\n",
       "      <td>0.000000</td>\n",
       "      <td>0.640000</td>\n",
       "    </tr>\n",
       "    <tr>\n",
       "      <th>50%</th>\n",
       "      <td>200.500000</td>\n",
       "      <td>317.000000</td>\n",
       "      <td>107.000000</td>\n",
       "      <td>3.000000</td>\n",
       "      <td>3.500000</td>\n",
       "      <td>3.500000</td>\n",
       "      <td>8.610000</td>\n",
       "      <td>1.000000</td>\n",
       "      <td>0.730000</td>\n",
       "    </tr>\n",
       "    <tr>\n",
       "      <th>75%</th>\n",
       "      <td>300.250000</td>\n",
       "      <td>325.000000</td>\n",
       "      <td>112.000000</td>\n",
       "      <td>4.000000</td>\n",
       "      <td>4.000000</td>\n",
       "      <td>4.000000</td>\n",
       "      <td>9.062500</td>\n",
       "      <td>1.000000</td>\n",
       "      <td>0.830000</td>\n",
       "    </tr>\n",
       "    <tr>\n",
       "      <th>max</th>\n",
       "      <td>400.000000</td>\n",
       "      <td>340.000000</td>\n",
       "      <td>120.000000</td>\n",
       "      <td>5.000000</td>\n",
       "      <td>5.000000</td>\n",
       "      <td>5.000000</td>\n",
       "      <td>9.920000</td>\n",
       "      <td>1.000000</td>\n",
       "      <td>0.970000</td>\n",
       "    </tr>\n",
       "  </tbody>\n",
       "</table>\n",
       "</div>"
      ],
      "text/plain": [
       "       Serial No.   GRE Score  TOEFL Score  University Rating         SOP  \\\n",
       "count  400.000000  400.000000   400.000000         400.000000  400.000000   \n",
       "mean   200.500000  316.807500   107.410000           3.087500    3.400000   \n",
       "std    115.614301   11.473646     6.069514           1.143728    1.006869   \n",
       "min      1.000000  290.000000    92.000000           1.000000    1.000000   \n",
       "25%    100.750000  308.000000   103.000000           2.000000    2.500000   \n",
       "50%    200.500000  317.000000   107.000000           3.000000    3.500000   \n",
       "75%    300.250000  325.000000   112.000000           4.000000    4.000000   \n",
       "max    400.000000  340.000000   120.000000           5.000000    5.000000   \n",
       "\n",
       "             LOR         CGPA    Research  Chance of Admit   \n",
       "count  400.000000  400.000000  400.000000        400.000000  \n",
       "mean     3.452500    8.598925    0.547500          0.724350  \n",
       "std      0.898478    0.596317    0.498362          0.142609  \n",
       "min      1.000000    6.800000    0.000000          0.340000  \n",
       "25%      3.000000    8.170000    0.000000          0.640000  \n",
       "50%      3.500000    8.610000    1.000000          0.730000  \n",
       "75%      4.000000    9.062500    1.000000          0.830000  \n",
       "max      5.000000    9.920000    1.000000          0.970000  "
      ]
     },
     "execution_count": 4,
     "metadata": {},
     "output_type": "execute_result"
    }
   ],
   "source": [
    "df.describe()"
   ]
  },
  {
   "cell_type": "code",
   "execution_count": 8,
   "metadata": {},
   "outputs": [
    {
     "data": {
      "text/html": [
       "<div>\n",
       "<style scoped>\n",
       "    .dataframe tbody tr th:only-of-type {\n",
       "        vertical-align: middle;\n",
       "    }\n",
       "\n",
       "    .dataframe tbody tr th {\n",
       "        vertical-align: top;\n",
       "    }\n",
       "\n",
       "    .dataframe thead th {\n",
       "        text-align: right;\n",
       "    }\n",
       "</style>\n",
       "<table border=\"1\" class=\"dataframe\">\n",
       "  <thead>\n",
       "    <tr style=\"text-align: right;\">\n",
       "      <th></th>\n",
       "      <th>Serial No.</th>\n",
       "      <th>GRE Score</th>\n",
       "      <th>TOEFL Score</th>\n",
       "      <th>University Rating</th>\n",
       "      <th>SOP</th>\n",
       "      <th>LOR</th>\n",
       "      <th>CGPA</th>\n",
       "      <th>Research</th>\n",
       "      <th>Admit_Probability</th>\n",
       "    </tr>\n",
       "  </thead>\n",
       "  <tbody>\n",
       "    <tr>\n",
       "      <th>0</th>\n",
       "      <td>1</td>\n",
       "      <td>337</td>\n",
       "      <td>118</td>\n",
       "      <td>4</td>\n",
       "      <td>4.5</td>\n",
       "      <td>4.5</td>\n",
       "      <td>9.65</td>\n",
       "      <td>1</td>\n",
       "      <td>0.92</td>\n",
       "    </tr>\n",
       "    <tr>\n",
       "      <th>1</th>\n",
       "      <td>2</td>\n",
       "      <td>324</td>\n",
       "      <td>107</td>\n",
       "      <td>4</td>\n",
       "      <td>4.0</td>\n",
       "      <td>4.5</td>\n",
       "      <td>8.87</td>\n",
       "      <td>1</td>\n",
       "      <td>0.76</td>\n",
       "    </tr>\n",
       "    <tr>\n",
       "      <th>2</th>\n",
       "      <td>3</td>\n",
       "      <td>316</td>\n",
       "      <td>104</td>\n",
       "      <td>3</td>\n",
       "      <td>3.0</td>\n",
       "      <td>3.5</td>\n",
       "      <td>8.00</td>\n",
       "      <td>1</td>\n",
       "      <td>0.72</td>\n",
       "    </tr>\n",
       "    <tr>\n",
       "      <th>3</th>\n",
       "      <td>4</td>\n",
       "      <td>322</td>\n",
       "      <td>110</td>\n",
       "      <td>3</td>\n",
       "      <td>3.5</td>\n",
       "      <td>2.5</td>\n",
       "      <td>8.67</td>\n",
       "      <td>1</td>\n",
       "      <td>0.80</td>\n",
       "    </tr>\n",
       "    <tr>\n",
       "      <th>4</th>\n",
       "      <td>5</td>\n",
       "      <td>314</td>\n",
       "      <td>103</td>\n",
       "      <td>2</td>\n",
       "      <td>2.0</td>\n",
       "      <td>3.0</td>\n",
       "      <td>8.21</td>\n",
       "      <td>0</td>\n",
       "      <td>0.65</td>\n",
       "    </tr>\n",
       "  </tbody>\n",
       "</table>\n",
       "</div>"
      ],
      "text/plain": [
       "   Serial No.  GRE Score  TOEFL Score  University Rating  SOP  LOR   CGPA  \\\n",
       "0           1        337          118                  4  4.5   4.5  9.65   \n",
       "1           2        324          107                  4  4.0   4.5  8.87   \n",
       "2           3        316          104                  3  3.0   3.5  8.00   \n",
       "3           4        322          110                  3  3.5   2.5  8.67   \n",
       "4           5        314          103                  2  2.0   3.0  8.21   \n",
       "\n",
       "   Research  Admit_Probability  \n",
       "0         1               0.92  \n",
       "1         1               0.76  \n",
       "2         1               0.72  \n",
       "3         1               0.80  \n",
       "4         0               0.65  "
      ]
     },
     "execution_count": 8,
     "metadata": {},
     "output_type": "execute_result"
    }
   ],
   "source": [
    "df = df.rename(index=str, columns={\"Chance of Admit \": \"Admit_Probability\"})\n",
    "\n",
    "df.head()"
   ]
  },
  {
   "cell_type": "code",
   "execution_count": 9,
   "metadata": {},
   "outputs": [
    {
     "data": {
      "text/html": [
       "<div>\n",
       "<style scoped>\n",
       "    .dataframe tbody tr th:only-of-type {\n",
       "        vertical-align: middle;\n",
       "    }\n",
       "\n",
       "    .dataframe tbody tr th {\n",
       "        vertical-align: top;\n",
       "    }\n",
       "\n",
       "    .dataframe thead th {\n",
       "        text-align: right;\n",
       "    }\n",
       "</style>\n",
       "<table border=\"1\" class=\"dataframe\">\n",
       "  <thead>\n",
       "    <tr style=\"text-align: right;\">\n",
       "      <th></th>\n",
       "      <th>GRE Score</th>\n",
       "      <th>TOEFL Score</th>\n",
       "      <th>University Rating</th>\n",
       "      <th>SOP</th>\n",
       "      <th>LOR</th>\n",
       "      <th>CGPA</th>\n",
       "      <th>Research</th>\n",
       "      <th>Admit_Probability</th>\n",
       "    </tr>\n",
       "  </thead>\n",
       "  <tbody>\n",
       "    <tr>\n",
       "      <th>0</th>\n",
       "      <td>337</td>\n",
       "      <td>118</td>\n",
       "      <td>4</td>\n",
       "      <td>4.5</td>\n",
       "      <td>4.5</td>\n",
       "      <td>9.65</td>\n",
       "      <td>1</td>\n",
       "      <td>0.92</td>\n",
       "    </tr>\n",
       "    <tr>\n",
       "      <th>1</th>\n",
       "      <td>324</td>\n",
       "      <td>107</td>\n",
       "      <td>4</td>\n",
       "      <td>4.0</td>\n",
       "      <td>4.5</td>\n",
       "      <td>8.87</td>\n",
       "      <td>1</td>\n",
       "      <td>0.76</td>\n",
       "    </tr>\n",
       "    <tr>\n",
       "      <th>2</th>\n",
       "      <td>316</td>\n",
       "      <td>104</td>\n",
       "      <td>3</td>\n",
       "      <td>3.0</td>\n",
       "      <td>3.5</td>\n",
       "      <td>8.00</td>\n",
       "      <td>1</td>\n",
       "      <td>0.72</td>\n",
       "    </tr>\n",
       "    <tr>\n",
       "      <th>3</th>\n",
       "      <td>322</td>\n",
       "      <td>110</td>\n",
       "      <td>3</td>\n",
       "      <td>3.5</td>\n",
       "      <td>2.5</td>\n",
       "      <td>8.67</td>\n",
       "      <td>1</td>\n",
       "      <td>0.80</td>\n",
       "    </tr>\n",
       "    <tr>\n",
       "      <th>4</th>\n",
       "      <td>314</td>\n",
       "      <td>103</td>\n",
       "      <td>2</td>\n",
       "      <td>2.0</td>\n",
       "      <td>3.0</td>\n",
       "      <td>8.21</td>\n",
       "      <td>0</td>\n",
       "      <td>0.65</td>\n",
       "    </tr>\n",
       "  </tbody>\n",
       "</table>\n",
       "</div>"
      ],
      "text/plain": [
       "   GRE Score  TOEFL Score  University Rating  SOP  LOR   CGPA  Research  \\\n",
       "0        337          118                  4  4.5   4.5  9.65         1   \n",
       "1        324          107                  4  4.0   4.5  8.87         1   \n",
       "2        316          104                  3  3.0   3.5  8.00         1   \n",
       "3        322          110                  3  3.5   2.5  8.67         1   \n",
       "4        314          103                  2  2.0   3.0  8.21         0   \n",
       "\n",
       "   Admit_Probability  \n",
       "0               0.92  \n",
       "1               0.76  \n",
       "2               0.72  \n",
       "3               0.80  \n",
       "4               0.65  "
      ]
     },
     "execution_count": 9,
     "metadata": {},
     "output_type": "execute_result"
    }
   ],
   "source": [
    "df = df[[\n",
    "    'GRE Score', 'TOEFL Score', 'University Rating', 'SOP', 'LOR ', 'CGPA', 'Research', 'Admit_Probability'\n",
    "]]\n",
    "\n",
    "df.head()"
   ]
  },
  {
   "cell_type": "code",
   "execution_count": 13,
   "metadata": {},
   "outputs": [
    {
     "data": {
      "text/plain": [
       "<Figure size 720x432 with 0 Axes>"
      ]
     },
     "metadata": {},
     "output_type": "display_data"
    },
    {
     "data": {
      "image/png": "[encoded data removed]",
      "text/plain": [
       "<Figure size 360x360 with 1 Axes>"
      ]
     },
     "metadata": {
      "needs_background": "light"
     },
     "output_type": "display_data"
    }
   ],
   "source": [
    "plt.figure(figsize=(10, 6))\n",
    "sns.lmplot(x='GRE Score', y='TOEFL Score', data=df, fit_reg=True);\n",
    "plt.title('GRE vs TOEFL Score');\n",
    "plt.show();"
   ]
  },
  {
   "cell_type": "code",
   "execution_count": 14,
   "metadata": {},
   "outputs": [
    {
     "data": {
      "image/png": "[encoded data removed]",
      "text/plain": [
       "<Figure size 720x720 with 1 Axes>"
      ]
     },
     "metadata": {
      "needs_background": "light"
     },
     "output_type": "display_data"
    }
   ],
   "source": [
    "plt.figure(figsize=(10, 10))\n",
    "\n",
    "sns.scatterplot(x='Admit_Probability', y='CGPA', data=df, hue='Research')\n",
    "plt.title('CGPA vs Admit Probability')\n",
    "plt.show();"
   ]
  },
  {
   "cell_type": "code",
   "execution_count": 15,
   "metadata": {},
   "outputs": [
    {
     "data": {
      "image/png": "[encoded data removed]",
      "text/plain": [
       "<Figure size 720x720 with 2 Axes>"
      ]
     },
     "metadata": {
      "needs_background": "light"
     },
     "output_type": "display_data"
    }
   ],
   "source": [
    "plt.figure(figsize=(10, 10))\n",
    "sns.heatmap(df.corr(), annot=True, cmap='coolwarm', linewidths=0.05, fmt='.2f')\n",
    "plt.title('Correlation Matrix')\n",
    "plt.show();"
   ]
  },
  {
   "cell_type": "code",
   "execution_count": 16,
   "metadata": {},
   "outputs": [],
   "source": [
    "from sklearn import preprocessing"
   ]
  },
  {
   "cell_type": "code",
   "execution_count": 17,
   "metadata": {},
   "outputs": [],
   "source": [
    "df[['GRE Score', 'TOEFL Score', 'SOP', 'LOR ', 'CGPA']] = \\\n",
    "    preprocessing.scale(df[['GRE Score', 'TOEFL Score', 'SOP', 'LOR ', 'CGPA']])"
   ]
  },
  {
   "cell_type": "code",
   "execution_count": 19,
   "metadata": {},
   "outputs": [],
   "source": [
    "cols = ['GRE Score', 'TOEFL Score', 'SOP', 'LOR ', 'CGPA']\n",
    "features = df[cols]\n",
    "target = df[['Admit_Probability']]"
   ]
  },
  {
   "cell_type": "code",
   "execution_count": 23,
   "metadata": {},
   "outputs": [],
   "source": [
    "y = target.copy()\n",
    "def encode(value):\n",
    "    if value >= 0.8:\n",
    "        return int(2)\n",
    "    elif value >= 0.6:\n",
    "        return int(1)\n",
    "    else:\n",
    "        return int(0)\n",
    "\n",
    "y['Admit_Probability'] = y['Admit_Probability'].apply(encode)"
   ]
  },
  {
   "cell_type": "code",
   "execution_count": 24,
   "metadata": {},
   "outputs": [
    {
     "data": {
      "text/plain": [
       "Admit_Probability\n",
       "1                    199\n",
       "2                    128\n",
       "0                     73\n",
       "dtype: int64"
      ]
     },
     "execution_count": 24,
     "metadata": {},
     "output_type": "execute_result"
    }
   ],
   "source": [
    "y.value_counts()"
   ]
  },
  {
   "cell_type": "code",
   "execution_count": 25,
   "metadata": {},
   "outputs": [],
   "source": [
    "target = y"
   ]
  },
  {
   "cell_type": "code",
   "execution_count": 26,
   "metadata": {},
   "outputs": [],
   "source": [
    "from sklearn.model_selection import train_test_split\n",
    "\n",
    "X_train, X_test, y_train, y_test = train_test_split(features, target, test_size=0.2, random_state=42)"
   ]
  },
  {
   "cell_type": "code",
   "execution_count": 27,
   "metadata": {},
   "outputs": [
    {
     "data": {
      "text/plain": [
       "((320, 5), (80, 5), (320, 1), (80, 1))"
      ]
     },
     "execution_count": 27,
     "metadata": {},
     "output_type": "execute_result"
    }
   ],
   "source": [
    "X_train.shape, X_test.shape, y_train.shape, y_test.shape"
   ]
  },
  {
   "cell_type": "code",
   "execution_count": 47,
   "metadata": {},
   "outputs": [],
   "source": [
    "X_train_tensor = torch.tensor(X_train.values, dtype=torch.float)\n",
    "X_test_tensor = torch.tensor(X_test.values, dtype=torch.float)\n",
    "y_train_tensor = torch.tensor(y_train.values.reshape(1, -1)[0], dtype=torch.long)\n",
    "y_test_tensor = torch.tensor(y_test.values.reshape(1, -1)[0], dtype=torch.long)"
   ]
  },
  {
   "cell_type": "code",
   "execution_count": 48,
   "metadata": {},
   "outputs": [
    {
     "data": {
      "text/plain": [
       "(torch.Size([320, 5]),\n",
       " torch.Size([80, 5]),\n",
       " torch.Size([320]),\n",
       " torch.Size([80]))"
      ]
     },
     "execution_count": 48,
     "metadata": {},
     "output_type": "execute_result"
    }
   ],
   "source": [
    "X_train_tensor.shape, X_test_tensor.shape, y_train_tensor.shape, y_test_tensor.shape"
   ]
  },
  {
   "cell_type": "code",
   "execution_count": 49,
   "metadata": {},
   "outputs": [],
   "source": [
    "import torch.nn as nn\n",
    "import torch.nn.functional as F # functional API gives us more control over the model"
   ]
  },
  {
   "cell_type": "code",
   "execution_count": 50,
   "metadata": {},
   "outputs": [],
   "source": [
    "input_size = X_train_tensor.shape[1]\n",
    "output_size = len(y_train_tensor.unique())"
   ]
  },
  {
   "cell_type": "code",
   "execution_count": 51,
   "metadata": {},
   "outputs": [],
   "source": [
    "class Net(nn.Module):\n",
    "\n",
    "    activation_dict = {\n",
    "        'relu': torch.relu,\n",
    "        'sigmoid': torch.sigmoid,\n",
    "        'tanh': torch.tanh,\n",
    "    }\n",
    "    def __init__(self, hidden_size, activation_fn='relu', apply_dropout=False):\n",
    "        super(Net, self).__init__()\n",
    "\n",
    "        self.fc1 = nn.Linear(input_size, hidden_size)\n",
    "        self.fc2 = nn.Linear(hidden_size, hidden_size)\n",
    "        self.fc3 = nn.Linear(hidden_size, output_size)\n",
    "\n",
    "        self.hidden_size = hidden_size\n",
    "        self.activation_fn = activation_fn\n",
    "\n",
    "        self.dropout = None\n",
    "        if apply_dropout:\n",
    "            self.dropout = nn.Dropout(p=0.2)\n",
    "    \n",
    "    def forward(self, x):\n",
    "\n",
    "        activation_fn = Net.activation_dict[self.activation_fn]\n",
    "\n",
    "        x = activation_fn(self.fc1(x))\n",
    "        x = activation_fn(self.fc2(x))\n",
    "\n",
    "        if self.dropout:\n",
    "            x = self.dropout(x)\n",
    "        \n",
    "        x = self.fc3(x)\n",
    "\n",
    "        return F.log_softmax(x, dim=-1)\n",
    "\n",
    "\n",
    "        \n"
   ]
  },
  {
   "cell_type": "code",
   "execution_count": 67,
   "metadata": {},
   "outputs": [],
   "source": [
    "def train_and_evaluate_model(model, learning_rate=0.001, epochs=1000):\n",
    "    epoch_data = []\n",
    "    optimizer = torch.optim.Adam(model.parameters(), lr=learning_rate)\n",
    "\n",
    "    loss_fn = nn.NLLLoss() # negative log likelihood loss -- used when log_softmax is applied\n",
    "\n",
    "    test_accuracy = 0.0\n",
    "\n",
    "    for epoch in range(1, epochs + 1):\n",
    "\n",
    "        optimizer.zero_grad()\n",
    "\n",
    "        model.train() # set model to training mode\n",
    "\n",
    "        y_pred = model(X_train_tensor)\n",
    "        loss = loss_fn(y_pred, y_train_tensor)\n",
    "        loss.backward()\n",
    "        optimizer.step()\n",
    "        \n",
    "        model.eval() # set model to evaluation mode\n",
    "        \n",
    "        y_pred_test = model(X_test_tensor)\n",
    "        loss_test = loss_fn(y_pred_test, y_test_tensor)\n",
    "        _, pred = y_pred_test.data.max(1)\n",
    "\n",
    "        test_accuracy = pred.eq(y_test_tensor.data).sum().item() / y_test_tensor.shape[0]\n",
    "        epoch_data.append([epoch, loss.item(), loss_test.item(), test_accuracy])\n",
    "\n",
    "        if epoch % 100 == 0:\n",
    "            print(f'Epoch: {epoch}/{epochs} Loss: {loss.item():.4f} Test Loss: {loss_test.item():.4f} Test Accuracy: {test_accuracy:.4f}')\n",
    "        \n",
    "    return {\n",
    "        'model' : model,\n",
    "        'epoch_data' : epoch_data,\n",
    "        'num_epochs' : epochs,\n",
    "        'optimizer' : optimizer,\n",
    "        'loss_fn' : loss_fn,\n",
    "        'test_accuracy' : test_accuracy,\n",
    "        '_, pred' : y_pred_test.data.max(1),\n",
    "        'actual_test_label' : y_test_tensor,\n",
    "    }\n",
    "\n"
   ]
  },
  {
   "cell_type": "code",
   "execution_count": 68,
   "metadata": {},
   "outputs": [
    {
     "data": {
      "text/plain": [
       "Net(\n",
       "  (fc1): Linear(in_features=5, out_features=3, bias=True)\n",
       "  (fc2): Linear(in_features=3, out_features=3, bias=True)\n",
       "  (fc3): Linear(in_features=3, out_features=3, bias=True)\n",
       ")"
      ]
     },
     "execution_count": 68,
     "metadata": {},
     "output_type": "execute_result"
    }
   ],
   "source": [
    "net = Net(hidden_size=3, apply_dropout=False, activation_fn='sigmoid')\n",
    "net"
   ]
  },
  {
   "cell_type": "code",
   "execution_count": 69,
   "metadata": {},
   "outputs": [
    {
     "name": "stdout",
     "output_type": "stream",
     "text": [
      "Epoch: 100/1000 Loss: 1.2781 Test Loss: 1.2291 Test Accuracy: 0.2125\n",
      "Epoch: 200/1000 Loss: 1.1537 Test Loss: 1.1291 Test Accuracy: 0.2125\n",
      "Epoch: 300/1000 Loss: 1.0547 Test Loss: 1.0501 Test Accuracy: 0.6750\n",
      "Epoch: 400/1000 Loss: 0.9773 Test Loss: 0.9854 Test Accuracy: 0.4250\n",
      "Epoch: 500/1000 Loss: 0.9170 Test Loss: 0.9301 Test Accuracy: 0.6250\n",
      "Epoch: 600/1000 Loss: 0.8678 Test Loss: 0.8793 Test Accuracy: 0.7000\n",
      "Epoch: 700/1000 Loss: 0.8244 Test Loss: 0.8308 Test Accuracy: 0.7125\n",
      "Epoch: 800/1000 Loss: 0.7848 Test Loss: 0.7850 Test Accuracy: 0.7375\n",
      "Epoch: 900/1000 Loss: 0.7497 Test Loss: 0.7436 Test Accuracy: 0.7250\n",
      "Epoch: 1000/1000 Loss: 0.7199 Test Loss: 0.7079 Test Accuracy: 0.7375\n"
     ]
    }
   ],
   "source": [
    "result_3_sigmoid = train_and_evaluate_model(net)"
   ]
  },
  {
   "cell_type": "code",
   "execution_count": 70,
   "metadata": {},
   "outputs": [
    {
     "name": "stdout",
     "output_type": "stream",
     "text": [
      "Epoch: 100/10000 Loss: 1.0102 Test Loss: 1.0602 Test Accuracy: 0.4250\n",
      "Epoch: 200/10000 Loss: 1.0001 Test Loss: 1.0444 Test Accuracy: 0.4250\n",
      "Epoch: 300/10000 Loss: 0.9579 Test Loss: 1.0069 Test Accuracy: 0.4250\n",
      "Epoch: 400/10000 Loss: 0.9257 Test Loss: 0.9504 Test Accuracy: 0.4250\n",
      "Epoch: 500/10000 Loss: 0.8813 Test Loss: 0.8872 Test Accuracy: 0.6875\n",
      "Epoch: 600/10000 Loss: 0.8377 Test Loss: 0.8274 Test Accuracy: 0.7250\n",
      "Epoch: 700/10000 Loss: 0.8097 Test Loss: 0.7755 Test Accuracy: 0.7250\n",
      "Epoch: 800/10000 Loss: 0.7448 Test Loss: 0.7333 Test Accuracy: 0.7250\n",
      "Epoch: 900/10000 Loss: 0.7271 Test Loss: 0.6991 Test Accuracy: 0.7125\n",
      "Epoch: 1000/10000 Loss: 0.7235 Test Loss: 0.6722 Test Accuracy: 0.7125\n",
      "Epoch: 1100/10000 Loss: 0.6992 Test Loss: 0.6513 Test Accuracy: 0.7250\n",
      "Epoch: 1200/10000 Loss: 0.6776 Test Loss: 0.6342 Test Accuracy: 0.7250\n",
      "Epoch: 1300/10000 Loss: 0.6901 Test Loss: 0.6209 Test Accuracy: 0.7250\n",
      "Epoch: 1400/10000 Loss: 0.6657 Test Loss: 0.6094 Test Accuracy: 0.7250\n",
      "Epoch: 1500/10000 Loss: 0.6841 Test Loss: 0.5995 Test Accuracy: 0.7250\n",
      "Epoch: 1600/10000 Loss: 0.6379 Test Loss: 0.5914 Test Accuracy: 0.7250\n",
      "Epoch: 1700/10000 Loss: 0.6474 Test Loss: 0.5853 Test Accuracy: 0.7250\n",
      "Epoch: 1800/10000 Loss: 0.6572 Test Loss: 0.5786 Test Accuracy: 0.7250\n",
      "Epoch: 1900/10000 Loss: 0.6520 Test Loss: 0.5735 Test Accuracy: 0.7375\n",
      "Epoch: 2000/10000 Loss: 0.6401 Test Loss: 0.5698 Test Accuracy: 0.7375\n",
      "Epoch: 2100/10000 Loss: 0.6171 Test Loss: 0.5655 Test Accuracy: 0.7375\n",
      "Epoch: 2200/10000 Loss: 0.6192 Test Loss: 0.5612 Test Accuracy: 0.7500\n",
      "Epoch: 2300/10000 Loss: 0.6202 Test Loss: 0.5585 Test Accuracy: 0.7375\n",
      "Epoch: 2400/10000 Loss: 0.6138 Test Loss: 0.5561 Test Accuracy: 0.7375\n",
      "Epoch: 2500/10000 Loss: 0.6292 Test Loss: 0.5544 Test Accuracy: 0.7375\n",
      "Epoch: 2600/10000 Loss: 0.6248 Test Loss: 0.5524 Test Accuracy: 0.7375\n",
      "Epoch: 2700/10000 Loss: 0.6136 Test Loss: 0.5513 Test Accuracy: 0.7375\n",
      "Epoch: 2800/10000 Loss: 0.6088 Test Loss: 0.5494 Test Accuracy: 0.7375\n",
      "Epoch: 2900/10000 Loss: 0.6309 Test Loss: 0.5479 Test Accuracy: 0.7375\n",
      "Epoch: 3000/10000 Loss: 0.5933 Test Loss: 0.5468 Test Accuracy: 0.7375\n",
      "Epoch: 3100/10000 Loss: 0.6019 Test Loss: 0.5447 Test Accuracy: 0.7375\n",
      "Epoch: 3200/10000 Loss: 0.6150 Test Loss: 0.5452 Test Accuracy: 0.7375\n",
      "Epoch: 3300/10000 Loss: 0.6389 Test Loss: 0.5435 Test Accuracy: 0.7375\n",
      "Epoch: 3400/10000 Loss: 0.5938 Test Loss: 0.5425 Test Accuracy: 0.7375\n",
      "Epoch: 3500/10000 Loss: 0.5914 Test Loss: 0.5412 Test Accuracy: 0.7375\n",
      "Epoch: 3600/10000 Loss: 0.5795 Test Loss: 0.5394 Test Accuracy: 0.7375\n",
      "Epoch: 3700/10000 Loss: 0.5572 Test Loss: 0.5391 Test Accuracy: 0.7375\n",
      "Epoch: 3800/10000 Loss: 0.5683 Test Loss: 0.5374 Test Accuracy: 0.7375\n",
      "Epoch: 3900/10000 Loss: 0.5992 Test Loss: 0.5362 Test Accuracy: 0.7375\n",
      "Epoch: 4000/10000 Loss: 0.5666 Test Loss: 0.5350 Test Accuracy: 0.7375\n",
      "Epoch: 4100/10000 Loss: 0.5642 Test Loss: 0.5348 Test Accuracy: 0.7375\n",
      "Epoch: 4200/10000 Loss: 0.6023 Test Loss: 0.5328 Test Accuracy: 0.7375\n",
      "Epoch: 4300/10000 Loss: 0.5386 Test Loss: 0.5319 Test Accuracy: 0.7375\n",
      "Epoch: 4400/10000 Loss: 0.5471 Test Loss: 0.5306 Test Accuracy: 0.7375\n",
      "Epoch: 4500/10000 Loss: 0.5677 Test Loss: 0.5280 Test Accuracy: 0.7500\n",
      "Epoch: 4600/10000 Loss: 0.5610 Test Loss: 0.5287 Test Accuracy: 0.7500\n",
      "Epoch: 4700/10000 Loss: 0.5535 Test Loss: 0.5267 Test Accuracy: 0.7625\n",
      "Epoch: 4800/10000 Loss: 0.6101 Test Loss: 0.5268 Test Accuracy: 0.7625\n",
      "Epoch: 4900/10000 Loss: 0.5910 Test Loss: 0.5252 Test Accuracy: 0.7875\n",
      "Epoch: 5000/10000 Loss: 0.5383 Test Loss: 0.5258 Test Accuracy: 0.7875\n",
      "Epoch: 5100/10000 Loss: 0.5532 Test Loss: 0.5249 Test Accuracy: 0.7875\n",
      "Epoch: 5200/10000 Loss: 0.5516 Test Loss: 0.5225 Test Accuracy: 0.7875\n",
      "Epoch: 5300/10000 Loss: 0.5522 Test Loss: 0.5222 Test Accuracy: 0.7875\n",
      "Epoch: 5400/10000 Loss: 0.5556 Test Loss: 0.5215 Test Accuracy: 0.7875\n",
      "Epoch: 5500/10000 Loss: 0.5379 Test Loss: 0.5200 Test Accuracy: 0.7875\n",
      "Epoch: 5600/10000 Loss: 0.5360 Test Loss: 0.5195 Test Accuracy: 0.7875\n",
      "Epoch: 5700/10000 Loss: 0.5523 Test Loss: 0.5179 Test Accuracy: 0.7875\n",
      "Epoch: 5800/10000 Loss: 0.5445 Test Loss: 0.5182 Test Accuracy: 0.7875\n",
      "Epoch: 5900/10000 Loss: 0.5195 Test Loss: 0.5161 Test Accuracy: 0.8000\n",
      "Epoch: 6000/10000 Loss: 0.5650 Test Loss: 0.5146 Test Accuracy: 0.8000\n",
      "Epoch: 6100/10000 Loss: 0.5265 Test Loss: 0.5160 Test Accuracy: 0.8000\n",
      "Epoch: 6200/10000 Loss: 0.5402 Test Loss: 0.5132 Test Accuracy: 0.8000\n",
      "Epoch: 6300/10000 Loss: 0.5524 Test Loss: 0.5123 Test Accuracy: 0.8000\n",
      "Epoch: 6400/10000 Loss: 0.5038 Test Loss: 0.5125 Test Accuracy: 0.7875\n",
      "Epoch: 6500/10000 Loss: 0.5262 Test Loss: 0.5123 Test Accuracy: 0.8000\n",
      "Epoch: 6600/10000 Loss: 0.5514 Test Loss: 0.5098 Test Accuracy: 0.7875\n",
      "Epoch: 6700/10000 Loss: 0.5244 Test Loss: 0.5081 Test Accuracy: 0.7875\n",
      "Epoch: 6800/10000 Loss: 0.5430 Test Loss: 0.5084 Test Accuracy: 0.8000\n",
      "Epoch: 6900/10000 Loss: 0.5066 Test Loss: 0.5087 Test Accuracy: 0.8000\n",
      "Epoch: 7000/10000 Loss: 0.5546 Test Loss: 0.5084 Test Accuracy: 0.8000\n",
      "Epoch: 7100/10000 Loss: 0.5263 Test Loss: 0.5045 Test Accuracy: 0.8125\n",
      "Epoch: 7200/10000 Loss: 0.5496 Test Loss: 0.5060 Test Accuracy: 0.8000\n",
      "Epoch: 7300/10000 Loss: 0.5519 Test Loss: 0.5053 Test Accuracy: 0.8125\n",
      "Epoch: 7400/10000 Loss: 0.5536 Test Loss: 0.5070 Test Accuracy: 0.8000\n",
      "Epoch: 7500/10000 Loss: 0.5404 Test Loss: 0.5044 Test Accuracy: 0.8125\n",
      "Epoch: 7600/10000 Loss: 0.5184 Test Loss: 0.5054 Test Accuracy: 0.8000\n",
      "Epoch: 7700/10000 Loss: 0.5109 Test Loss: 0.5056 Test Accuracy: 0.8000\n",
      "Epoch: 7800/10000 Loss: 0.4998 Test Loss: 0.5049 Test Accuracy: 0.8000\n",
      "Epoch: 7900/10000 Loss: 0.5353 Test Loss: 0.5042 Test Accuracy: 0.8000\n",
      "Epoch: 8000/10000 Loss: 0.5130 Test Loss: 0.5049 Test Accuracy: 0.8000\n",
      "Epoch: 8100/10000 Loss: 0.5061 Test Loss: 0.5061 Test Accuracy: 0.8125\n",
      "Epoch: 8200/10000 Loss: 0.5387 Test Loss: 0.5026 Test Accuracy: 0.8125\n",
      "Epoch: 8300/10000 Loss: 0.5497 Test Loss: 0.5046 Test Accuracy: 0.8000\n",
      "Epoch: 8400/10000 Loss: 0.5451 Test Loss: 0.5048 Test Accuracy: 0.8000\n",
      "Epoch: 8500/10000 Loss: 0.5228 Test Loss: 0.5054 Test Accuracy: 0.8125\n",
      "Epoch: 8600/10000 Loss: 0.4974 Test Loss: 0.5057 Test Accuracy: 0.8000\n",
      "Epoch: 8700/10000 Loss: 0.5034 Test Loss: 0.5046 Test Accuracy: 0.7875\n",
      "Epoch: 8800/10000 Loss: 0.4960 Test Loss: 0.5057 Test Accuracy: 0.7875\n",
      "Epoch: 8900/10000 Loss: 0.4764 Test Loss: 0.5065 Test Accuracy: 0.8000\n",
      "Epoch: 9000/10000 Loss: 0.5023 Test Loss: 0.5062 Test Accuracy: 0.8000\n",
      "Epoch: 9100/10000 Loss: 0.4764 Test Loss: 0.5065 Test Accuracy: 0.7875\n",
      "Epoch: 9200/10000 Loss: 0.5169 Test Loss: 0.5059 Test Accuracy: 0.7875\n",
      "Epoch: 9300/10000 Loss: 0.5557 Test Loss: 0.5068 Test Accuracy: 0.8000\n",
      "Epoch: 9400/10000 Loss: 0.5134 Test Loss: 0.5068 Test Accuracy: 0.8000\n",
      "Epoch: 9500/10000 Loss: 0.4916 Test Loss: 0.5066 Test Accuracy: 0.7875\n",
      "Epoch: 9600/10000 Loss: 0.4988 Test Loss: 0.5073 Test Accuracy: 0.8000\n",
      "Epoch: 9700/10000 Loss: 0.4748 Test Loss: 0.5073 Test Accuracy: 0.8000\n",
      "Epoch: 9800/10000 Loss: 0.5264 Test Loss: 0.5062 Test Accuracy: 0.8000\n",
      "Epoch: 9900/10000 Loss: 0.5124 Test Loss: 0.5078 Test Accuracy: 0.8125\n",
      "Epoch: 10000/10000 Loss: 0.5006 Test Loss: 0.5073 Test Accuracy: 0.8125\n"
     ]
    }
   ],
   "source": [
    "net = Net(hidden_size=3, apply_dropout=True, activation_fn='sigmoid')\n",
    "result_3_sigmoid_dropout = train_and_evaluate_model(net, learning_rate=0.001, epochs=10000)"
   ]
  },
  {
   "cell_type": "code",
   "execution_count": 76,
   "metadata": {},
   "outputs": [
    {
     "name": "stdout",
     "output_type": "stream",
     "text": [
      "Epoch: 100/1000 Loss: 0.4267 Test Loss: 0.4876 Test Accuracy: 0.8000\n",
      "Epoch: 200/1000 Loss: 0.3732 Test Loss: 0.5023 Test Accuracy: 0.8000\n",
      "Epoch: 300/1000 Loss: 0.3661 Test Loss: 0.5162 Test Accuracy: 0.8375\n",
      "Epoch: 400/1000 Loss: 0.3232 Test Loss: 0.5259 Test Accuracy: 0.8250\n",
      "Epoch: 500/1000 Loss: 0.2967 Test Loss: 0.5414 Test Accuracy: 0.8125\n",
      "Epoch: 600/1000 Loss: 0.2664 Test Loss: 0.5632 Test Accuracy: 0.8125\n",
      "Epoch: 700/1000 Loss: 0.2441 Test Loss: 0.5940 Test Accuracy: 0.8250\n",
      "Epoch: 800/1000 Loss: 0.2255 Test Loss: 0.6271 Test Accuracy: 0.8250\n",
      "Epoch: 900/1000 Loss: 0.1930 Test Loss: 0.6883 Test Accuracy: 0.8250\n",
      "Epoch: 1000/1000 Loss: 0.1567 Test Loss: 0.7193 Test Accuracy: 0.8250\n"
     ]
    }
   ],
   "source": [
    "net = Net(hidden_size=50, apply_dropout=True, activation_fn='relu')\n",
    "result_50_relu_dropout = train_and_evaluate_model(net, learning_rate=0.001, epochs=1000)"
   ]
  },
  {
   "cell_type": "code",
   "execution_count": 77,
   "metadata": {},
   "outputs": [],
   "source": [
    "import matplotlib.pyplot as plt"
   ]
  },
  {
   "cell_type": "code",
   "execution_count": 78,
   "metadata": {},
   "outputs": [],
   "source": [
    "epoch_data = pd.DataFrame(\n",
    "    result_50_relu_dropout['epoch_data'],\n",
    "    columns=['epoch', 'train_loss', 'test_loss', 'test_accuracy']\n",
    ")"
   ]
  },
  {
   "cell_type": "code",
   "execution_count": 79,
   "metadata": {},
   "outputs": [
    {
     "data": {
      "image/png": "[encoded data removed]",
      "text/plain": [
       "<Figure size 720x360 with 2 Axes>"
      ]
     },
     "metadata": {
      "needs_background": "light"
     },
     "output_type": "display_data"
    }
   ],
   "source": [
    "f, (ax1, ax2) = plt.subplots(1, 2, figsize=(10, 5))\n",
    "epoch_data.plot(x='epoch', y=['train_loss', 'test_loss'], ax=ax1)\n",
    "epoch_data.plot(x='epoch', y=['test_accuracy'], ax=ax2)\n",
    "plt.ylim(bottom=0.5)\n",
    "plt.show();"
   ]
  },
  {
   "cell_type": "code",
   "execution_count": null,
   "metadata": {},
   "outputs": [],
   "source": []
  }
 ],
 "metadata": {
  "interpreter": {
   "hash": "a5a8803176ba603454a120d2af569b11c3f41e6e81f2a81589e795246afd0d6d"
  },
  "kernelspec": {
   "display_name": "Python 3.7.6 64-bit ('base': conda)",
   "language": "python",
   "name": "python3"
  },
  "language_info": {
   "codemirror_mode": {
    "name": "ipython",
    "version": 3
   },
   "file_extension": ".py",
   "mimetype": "text/x-python",
   "name": "python",
   "nbconvert_exporter": "python",
   "pygments_lexer": "ipython3",
   "version": "3.7.6"
  },
  "orig_nbformat": 4
 },
 "nbformat": 4,
 "nbformat_minor": 2
}
