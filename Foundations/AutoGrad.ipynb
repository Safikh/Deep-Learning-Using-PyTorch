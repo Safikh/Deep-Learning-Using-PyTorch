{
 "cells": [
  {
   "cell_type": "code",
   "execution_count": 1,
   "metadata": {},
   "outputs": [],
   "source": [
    "import torch"
   ]
  },
  {
   "cell_type": "code",
   "execution_count": 2,
   "metadata": {},
   "outputs": [
    {
     "name": "stdout",
     "output_type": "stream",
     "text": [
      "tensor([[1., 2., 3.],\n",
      "        [4., 5., 6.]])\n"
     ]
    }
   ],
   "source": [
    "tensor1 = torch.Tensor([[1, 2, 3], [4, 5, 6]])\n",
    "print(tensor1)"
   ]
  },
  {
   "cell_type": "code",
   "execution_count": 3,
   "metadata": {},
   "outputs": [
    {
     "name": "stdout",
     "output_type": "stream",
     "text": [
      "tensor([[ 7.,  8.,  9.],\n",
      "        [10., 11., 12.]])\n"
     ]
    }
   ],
   "source": [
    "tensor2 = torch.Tensor([[7, 8, 9], [10, 11, 12]])\n",
    "print(tensor2)"
   ]
  },
  {
   "cell_type": "code",
   "execution_count": 5,
   "metadata": {},
   "outputs": [
    {
     "data": {
      "text/plain": [
       "(False, False)"
      ]
     },
     "execution_count": 5,
     "metadata": {},
     "output_type": "execute_result"
    }
   ],
   "source": [
    "tensor1.requires_grad, tensor2.requires_grad\n",
    "# when requires_grad is True, it tracks computations for a tensor in the forward phase\n",
    "# the gradient of the variable will be computed automatically in the backward phase"
   ]
  },
  {
   "cell_type": "code",
   "execution_count": 7,
   "metadata": {},
   "outputs": [
    {
     "data": {
      "text/plain": [
       "tensor([[ 7.,  8.,  9.],\n",
       "        [10., 11., 12.]], requires_grad=True)"
      ]
     },
     "execution_count": 7,
     "metadata": {},
     "output_type": "execute_result"
    }
   ],
   "source": [
    "# Enable tracking of the gradients\n",
    "tensor1.requires_grad_(True)\n",
    "tensor2.requires_grad_(True)"
   ]
  },
  {
   "cell_type": "code",
   "execution_count": 8,
   "metadata": {},
   "outputs": [
    {
     "data": {
      "text/plain": [
       "(True, True)"
      ]
     },
     "execution_count": 8,
     "metadata": {},
     "output_type": "execute_result"
    }
   ],
   "source": [
    "tensor1.requires_grad, tensor2.requires_grad"
   ]
  },
  {
   "cell_type": "code",
   "execution_count": 9,
   "metadata": {},
   "outputs": [
    {
     "data": {
      "text/plain": [
       "(None, None)"
      ]
     },
     "execution_count": 9,
     "metadata": {},
     "output_type": "execute_result"
    }
   ],
   "source": [
    "# grad stores the gradient of the tensor\n",
    "tensor1.grad, tensor2.grad"
   ]
  },
  {
   "cell_type": "code",
   "execution_count": 10,
   "metadata": {},
   "outputs": [
    {
     "name": "stdout",
     "output_type": "stream",
     "text": [
      "None\n"
     ]
    }
   ],
   "source": [
    "# Tensors and functions make up a directed acyclic computational graph\n",
    "print(tensor1.grad_fn)"
   ]
  },
  {
   "cell_type": "code",
   "execution_count": 11,
   "metadata": {},
   "outputs": [],
   "source": [
    "output_tensor = tensor1 * tensor2"
   ]
  },
  {
   "cell_type": "code",
   "execution_count": 12,
   "metadata": {},
   "outputs": [
    {
     "data": {
      "text/plain": [
       "True"
      ]
     },
     "execution_count": 12,
     "metadata": {},
     "output_type": "execute_result"
    }
   ],
   "source": [
    "output_tensor.requires_grad"
   ]
  },
  {
   "cell_type": "code",
   "execution_count": 13,
   "metadata": {},
   "outputs": [
    {
     "name": "stderr",
     "output_type": "stream",
     "text": [
      "C:\\Users\\Safiuddin\\anaconda3\\lib\\site-packages\\torch\\_tensor.py:1013: UserWarning: The .grad attribute of a Tensor that is not a leaf Tensor is being accessed. Its .grad attribute won't be populated during autograd.backward(). If you indeed want the .grad field to be populated for a non-leaf Tensor, use .retain_grad() on the non-leaf Tensor. If you access the non-leaf Tensor by mistake, make sure you access the leaf Tensor instead. See github.com/pytorch/pytorch/pull/30531 for more informations. (Triggered internally at  aten\\src\\ATen/core/TensorBody.h:417.)\n",
      "  return self._grad\n"
     ]
    }
   ],
   "source": [
    "output_tensor.grad"
   ]
  },
  {
   "cell_type": "code",
   "execution_count": 15,
   "metadata": {},
   "outputs": [
    {
     "data": {
      "text/plain": [
       "<MulBackward0 at 0x1fb2c6d58c8>"
      ]
     },
     "execution_count": 15,
     "metadata": {},
     "output_type": "execute_result"
    }
   ],
   "source": [
    "output_tensor.grad_fn\n",
    "# Tensors have references to the function that created them. User-created tensors have no grad_fn"
   ]
  },
  {
   "cell_type": "code",
   "execution_count": 16,
   "metadata": {},
   "outputs": [
    {
     "name": "stdout",
     "output_type": "stream",
     "text": [
      "<MeanBackward0 object at 0x000001FB2C6EFC88>\n"
     ]
    }
   ],
   "source": [
    "output_tensor = (tensor1 * tensor2).mean()\n",
    "print(output_tensor.grad_fn)"
   ]
  },
  {
   "cell_type": "code",
   "execution_count": 17,
   "metadata": {},
   "outputs": [],
   "source": [
    "output_tensor.backward() # Backward pass"
   ]
  },
  {
   "cell_type": "code",
   "execution_count": 18,
   "metadata": {},
   "outputs": [
    {
     "name": "stdout",
     "output_type": "stream",
     "text": [
      "tensor([[1.1667, 1.3333, 1.5000],\n",
      "        [1.6667, 1.8333, 2.0000]])\n"
     ]
    }
   ],
   "source": [
    "print(tensor1.grad) # Gradients have been computed by the backward pass"
   ]
  },
  {
   "cell_type": "code",
   "execution_count": 19,
   "metadata": {},
   "outputs": [
    {
     "name": "stdout",
     "output_type": "stream",
     "text": [
      "tensor([[0.1667, 0.3333, 0.5000],\n",
      "        [0.6667, 0.8333, 1.0000]])\n"
     ]
    }
   ],
   "source": [
    "print(tensor2.grad)"
   ]
  },
  {
   "cell_type": "code",
   "execution_count": 22,
   "metadata": {},
   "outputs": [
    {
     "name": "stdout",
     "output_type": "stream",
     "text": [
      "tensor([[2.5000, 3.0000, 3.5000],\n",
      "        [4.0000, 4.5000, 5.0000]])\n",
      "None\n"
     ]
    }
   ],
   "source": [
    "tensor3 = torch.Tensor([[1, 2, 3], [4, 5, 6]])\n",
    "tensor3.requires_grad_(False) # Disable tracking of the gradients\n",
    "output_tensor = (tensor1 * tensor3).mean()\n",
    "output_tensor.backward()\n",
    "print(tensor1.grad)\n",
    "print(tensor3.grad) # tensor3 has no gradients because it was not tracked"
   ]
  },
  {
   "cell_type": "code",
   "execution_count": 23,
   "metadata": {},
   "outputs": [
    {
     "name": "stdout",
     "output_type": "stream",
     "text": [
      "True\n",
      "tensor([[ 3.,  6.,  9.],\n",
      "        [12., 15., 18.]], grad_fn=<MulBackward0>)\n"
     ]
    }
   ],
   "source": [
    "new_tensor = tensor1 * 3\n",
    "print(new_tensor.requires_grad)\n",
    "print(new_tensor)"
   ]
  },
  {
   "cell_type": "code",
   "execution_count": 26,
   "metadata": {},
   "outputs": [
    {
     "name": "stdout",
     "output_type": "stream",
     "text": [
      "Tensor 1 requires grad: True\n",
      "New tensor requires grad: False\n",
      "New tensor: tensor([[ 3.,  6.,  9.],\n",
      "        [12., 15., 18.]])\n"
     ]
    }
   ],
   "source": [
    "# Stop autograd tracking inside a context manager\n",
    "with torch.no_grad():\n",
    "    new_tensor = tensor1 * 3\n",
    "    print(f'Tensor 1 requires grad: {tensor1.requires_grad}')\n",
    "    print(f'New tensor requires grad: {new_tensor.requires_grad}')\n",
    "    print(f'New tensor: {new_tensor}')"
   ]
  },
  {
   "cell_type": "code",
   "execution_count": 27,
   "metadata": {},
   "outputs": [],
   "source": [
    "def calculate(t):\n",
    "    return t * 2"
   ]
  },
  {
   "cell_type": "code",
   "execution_count": 28,
   "metadata": {},
   "outputs": [],
   "source": [
    "@torch.no_grad()\n",
    "def calculate_no_grad(t):\n",
    "    return t * 2"
   ]
  },
  {
   "cell_type": "code",
   "execution_count": 30,
   "metadata": {},
   "outputs": [
    {
     "name": "stdout",
     "output_type": "stream",
     "text": [
      "tensor([[ 2.,  4.,  6.],\n",
      "        [ 8., 10., 12.]], grad_fn=<MulBackward0>)\n",
      "True\n"
     ]
    }
   ],
   "source": [
    "result_tensor = calculate(tensor1)\n",
    "print(result_tensor)\n",
    "print(result_tensor.requires_grad)"
   ]
  },
  {
   "cell_type": "code",
   "execution_count": 31,
   "metadata": {},
   "outputs": [
    {
     "name": "stdout",
     "output_type": "stream",
     "text": [
      "tensor([[ 2.,  4.,  6.],\n",
      "        [ 8., 10., 12.]])\n",
      "False\n"
     ]
    }
   ],
   "source": [
    "result_tensor = calculate_no_grad(tensor1)\n",
    "print(result_tensor)\n",
    "print(result_tensor.requires_grad)"
   ]
  },
  {
   "cell_type": "code",
   "execution_count": 32,
   "metadata": {},
   "outputs": [
    {
     "name": "stdout",
     "output_type": "stream",
     "text": [
      "New tensor no grad: tensor([[ 3.,  6.,  9.],\n",
      "        [12., 15., 18.]])\n",
      "New tensor grad: tensor([[ 3.,  6.,  9.],\n",
      "        [12., 15., 18.]], grad_fn=<MulBackward0>)\n"
     ]
    }
   ],
   "source": [
    "with torch.no_grad():\n",
    "    new_tensor_no_grad = tensor1 * 3\n",
    "    print(f'New tensor no grad: {new_tensor_no_grad}')\n",
    "\n",
    "    with torch.enable_grad():\n",
    "        new_tensor_grad = tensor1 * 3\n",
    "        print(f'New tensor grad: {new_tensor_grad}')"
   ]
  },
  {
   "cell_type": "code",
   "execution_count": 36,
   "metadata": {},
   "outputs": [
    {
     "name": "stdout",
     "output_type": "stream",
     "text": [
      "tensor([1., 2.], requires_grad=True)\n"
     ]
    }
   ],
   "source": [
    "tensor_one = torch.tensor([1.0, 2.0], requires_grad=True)\n",
    "print(tensor_one)"
   ]
  },
  {
   "cell_type": "code",
   "execution_count": 38,
   "metadata": {},
   "outputs": [
    {
     "name": "stdout",
     "output_type": "stream",
     "text": [
      "tensor([[1., 2., 3.],\n",
      "        [4., 5., 6.]])\n",
      "False\n"
     ]
    }
   ],
   "source": [
    "detached_tensor = tensor1.detach() # Detach the tensor from the graph. Will not be tracked\n",
    "print(detached_tensor)\n",
    "print(detached_tensor.requires_grad)"
   ]
  },
  {
   "cell_type": "markdown",
   "metadata": {},
   "source": [
    "### Linear Model with AutoGrad"
   ]
  },
  {
   "cell_type": "code",
   "execution_count": 39,
   "metadata": {},
   "outputs": [],
   "source": [
    "import numpy as np\n",
    "import matplotlib.pyplot as plt"
   ]
  },
  {
   "cell_type": "code",
   "execution_count": 111,
   "metadata": {},
   "outputs": [
    {
     "name": "stdout",
     "output_type": "stream",
     "text": [
      "(20, 1) (20, 1)\n"
     ]
    }
   ],
   "source": [
    "x_train = np.random.rand(20, 1)\n",
    "y_train = 13 * x_train + 3 + np.random.randn(20, 1)\n",
    "print(x_train.shape, y_train.shape)"
   ]
  },
  {
   "cell_type": "code",
   "execution_count": 112,
   "metadata": {},
   "outputs": [
    {
     "data": {
      "image/png": "[encoded data removed]",
      "text/plain": [
       "<Figure size 720x432 with 1 Axes>"
      ]
     },
     "metadata": {
      "needs_background": "light"
     },
     "output_type": "display_data"
    }
   ],
   "source": [
    "plt.figure(figsize=(10, 6))\n",
    "plt.scatter(x_train, y_train, label='Training data')\n",
    "plt.legend()\n",
    "plt.show();"
   ]
  },
  {
   "cell_type": "code",
   "execution_count": 113,
   "metadata": {},
   "outputs": [],
   "source": [
    "import torch"
   ]
  },
  {
   "cell_type": "code",
   "execution_count": 114,
   "metadata": {},
   "outputs": [
    {
     "name": "stdout",
     "output_type": "stream",
     "text": [
      "Requires grad, X: False\n",
      "Requires grad, Y: False\n"
     ]
    }
   ],
   "source": [
    "X_train = torch.from_numpy(x_train).float()\n",
    "Y_train = torch.from_numpy(y_train).float()\n",
    "print(f'Requires grad, X: {X_train.requires_grad}')\n",
    "print(f'Requires grad, Y: {Y_train.requires_grad}')"
   ]
  },
  {
   "cell_type": "code",
   "execution_count": 115,
   "metadata": {},
   "outputs": [
    {
     "data": {
      "text/plain": [
       "(torch.float32, torch.float32)"
      ]
     },
     "execution_count": 115,
     "metadata": {},
     "output_type": "execute_result"
    }
   ],
   "source": [
    "X_train.dtype, Y_train.dtype"
   ]
  },
  {
   "cell_type": "code",
   "execution_count": 116,
   "metadata": {},
   "outputs": [],
   "source": [
    "INPUT_SIZE = 1\n",
    "OUTPUT_SIZE = 1\n",
    "HIDDEN_SIZE = 1"
   ]
  },
  {
   "cell_type": "code",
   "execution_count": 117,
   "metadata": {},
   "outputs": [
    {
     "data": {
      "text/plain": [
       "torch.float32"
      ]
     },
     "execution_count": 117,
     "metadata": {},
     "output_type": "execute_result"
    }
   ],
   "source": [
    "w1 = torch.rand(INPUT_SIZE, HIDDEN_SIZE, requires_grad=True)\n",
    "w1.shape\n",
    "w1.dtype"
   ]
  },
  {
   "cell_type": "code",
   "execution_count": 118,
   "metadata": {},
   "outputs": [
    {
     "data": {
      "text/plain": [
       "(torch.Size([1, 1]), torch.float32)"
      ]
     },
     "execution_count": 118,
     "metadata": {},
     "output_type": "execute_result"
    }
   ],
   "source": [
    "w2 = torch.rand(HIDDEN_SIZE, OUTPUT_SIZE, requires_grad=True)\n",
    "w2.shape, w2.dtype"
   ]
  },
  {
   "cell_type": "code",
   "execution_count": 119,
   "metadata": {},
   "outputs": [
    {
     "data": {
      "text/plain": [
       "(tensor([[0.9254]], requires_grad=True),\n",
       " tensor([[0.9132]], requires_grad=True))"
      ]
     },
     "execution_count": 119,
     "metadata": {},
     "output_type": "execute_result"
    }
   ],
   "source": [
    "w1, w2"
   ]
  },
  {
   "cell_type": "code",
   "execution_count": 120,
   "metadata": {},
   "outputs": [],
   "source": [
    "LEARNING_RATE = 1e-6"
   ]
  },
  {
   "cell_type": "code",
   "execution_count": 121,
   "metadata": {},
   "outputs": [
    {
     "name": "stdout",
     "output_type": "stream",
     "text": [
      "1 1885.7918701171875\n",
      "2 1885.7073974609375\n",
      "3 1885.62255859375\n",
      "4 1885.5380859375\n",
      "5 1885.453125\n",
      "6 1885.368408203125\n",
      "7 1885.28369140625\n",
      "8 1885.1986083984375\n",
      "9 1885.1136474609375\n",
      "10 1885.029052734375\n",
      "11 1884.9439697265625\n",
      "12 1884.859130859375\n",
      "13 1884.7740478515625\n",
      "14 1884.6890869140625\n",
      "15 1884.60400390625\n",
      "16 1884.51904296875\n",
      "17 1884.433349609375\n",
      "18 1884.348388671875\n",
      "19 1884.2633056640625\n",
      "20 1884.177978515625\n",
      "21 1884.0928955078125\n",
      "22 1884.00732421875\n",
      "23 1883.921875\n",
      "24 1883.8369140625\n",
      "25 1883.751220703125\n",
      "26 1883.665771484375\n",
      "27 1883.580322265625\n",
      "28 1883.494873046875\n",
      "29 1883.4091796875\n",
      "30 1883.3236083984375\n",
      "31 1883.2379150390625\n",
      "32 1883.1522216796875\n",
      "33 1883.06640625\n",
      "34 1882.9808349609375\n",
      "35 1882.895263671875\n",
      "36 1882.8094482421875\n",
      "37 1882.7236328125\n",
      "38 1882.6376953125\n",
      "39 1882.5517578125\n",
      "40 1882.4659423828125\n",
      "41 1882.3798828125\n",
      "42 1882.2938232421875\n",
      "43 1882.207763671875\n",
      "44 1882.1217041015625\n",
      "45 1882.03564453125\n",
      "46 1881.9495849609375\n",
      "47 1881.8631591796875\n",
      "48 1881.77734375\n",
      "49 1881.69091796875\n",
      "50 1881.6046142578125\n",
      "51 1881.518310546875\n",
      "52 1881.431884765625\n",
      "53 1881.345703125\n",
      "54 1881.2591552734375\n",
      "55 1881.172607421875\n",
      "56 1881.0860595703125\n",
      "57 1880.99951171875\n",
      "58 1880.9130859375\n",
      "59 1880.826416015625\n",
      "60 1880.7398681640625\n",
      "61 1880.6533203125\n",
      "62 1880.56640625\n",
      "63 1880.4798583984375\n",
      "64 1880.39306640625\n",
      "65 1880.3062744140625\n",
      "66 1880.21923828125\n",
      "67 1880.132568359375\n",
      "68 1880.0455322265625\n",
      "69 1879.9586181640625\n",
      "70 1879.871826171875\n",
      "71 1879.78466796875\n",
      "72 1879.6976318359375\n",
      "73 1879.6104736328125\n",
      "74 1879.5234375\n",
      "75 1879.436279296875\n",
      "76 1879.3492431640625\n",
      "77 1879.261962890625\n",
      "78 1879.174560546875\n",
      "79 1879.08740234375\n",
      "80 1879.0001220703125\n",
      "81 1878.91259765625\n",
      "82 1878.825439453125\n",
      "83 1878.73779296875\n",
      "84 1878.650390625\n",
      "85 1878.562744140625\n",
      "86 1878.4754638671875\n",
      "87 1878.3878173828125\n",
      "88 1878.3001708984375\n",
      "89 1878.212646484375\n",
      "90 1878.125\n",
      "91 1878.037109375\n",
      "92 1877.9495849609375\n",
      "93 1877.86181640625\n",
      "94 1877.77392578125\n",
      "95 1877.68603515625\n",
      "96 1877.5982666015625\n",
      "97 1877.5103759765625\n",
      "98 1877.4222412109375\n",
      "99 1877.33447265625\n",
      "100 1877.246337890625\n"
     ]
    }
   ],
   "source": [
    "EPOCHS = 100\n",
    "for iter in range(1, EPOCHS + 1):\n",
    "    y_pred = X_train.mm(w1).mm(w2)\n",
    "    loss = (y_pred - Y_train).pow(2).sum()\n",
    "\n",
    "    # if iter % 50 == 0:\n",
    "    print(iter, loss.item())\n",
    "    \n",
    "    loss.backward()\n",
    "\n",
    "    with torch.no_grad():\n",
    "        # Updating parameters shouldn't be tracked\n",
    "        w1 -= LEARNING_RATE * w1.grad\n",
    "        w2 -= LEARNING_RATE * w2.grad\n",
    "        w1.grad.zero_() # Zero out the gradients\n",
    "        w2.grad.zero_()"
   ]
  },
  {
   "cell_type": "code",
   "execution_count": 122,
   "metadata": {},
   "outputs": [
    {
     "name": "stdout",
     "output_type": "stream",
     "text": [
      "w1: tensor([[0.9461]], requires_grad=True) \n",
      " w2: tensor([[0.9341]], requires_grad=True)\n"
     ]
    }
   ],
   "source": [
    "print(f'w1: {w1} \\n w2: {w2}')"
   ]
  },
  {
   "cell_type": "code",
   "execution_count": 123,
   "metadata": {},
   "outputs": [
    {
     "data": {
      "text/plain": [
       "array([[0.6931136 ],\n",
       "       [0.6310339 ],\n",
       "       [0.53771317],\n",
       "       [0.19858654],\n",
       "       [0.61297446],\n",
       "       [0.42540336],\n",
       "       [0.32792076],\n",
       "       [0.46735406],\n",
       "       [0.61374146],\n",
       "       [0.27258545],\n",
       "       [0.13258284],\n",
       "       [0.10742082],\n",
       "       [0.01983135],\n",
       "       [0.00530968],\n",
       "       [0.41406214],\n",
       "       [0.8525246 ],\n",
       "       [0.8187027 ],\n",
       "       [0.4652001 ],\n",
       "       [0.49238023],\n",
       "       [0.8690078 ]], dtype=float32)"
      ]
     },
     "execution_count": 123,
     "metadata": {},
     "output_type": "execute_result"
    }
   ],
   "source": [
    "x_train_tensor = torch.from_numpy(x_train).float()\n",
    "y_pred = x_train_tensor.mm(w1).mm(w2).detach().numpy()\n",
    "y_pred"
   ]
  },
  {
   "cell_type": "code",
   "execution_count": 124,
   "metadata": {},
   "outputs": [
    {
     "data": {
      "image/png": "[encoded data removed]",
      "text/plain": [
       "<Figure size 720x432 with 1 Axes>"
      ]
     },
     "metadata": {
      "needs_background": "light"
     },
     "output_type": "display_data"
    }
   ],
   "source": [
    "plt.figure(figsize=(10, 6))\n",
    "plt.scatter(x_train, y_train, label='Training data')\n",
    "plt.plot(x_train, y_pred, label='Prediction')\n",
    "plt.legend()\n",
    "plt.show();"
   ]
  },
  {
   "cell_type": "code",
   "execution_count": 126,
   "metadata": {},
   "outputs": [
    {
     "name": "stdout",
     "output_type": "stream",
     "text": [
      "50 1658.459228515625\n",
      "100 434.8996887207031\n",
      "150 68.0781021118164\n",
      "200 59.69902420043945\n",
      "250 59.622493743896484\n",
      "300 59.62187576293945\n",
      "350 59.62187194824219\n",
      "400 59.62186813354492\n",
      "450 59.62186813354492\n",
      "500 59.62186813354492\n",
      "550 59.62186813354492\n",
      "600 59.62186813354492\n",
      "650 59.62186813354492\n",
      "700 59.62186813354492\n",
      "750 59.62186813354492\n",
      "800 59.62186813354492\n",
      "850 59.62186813354492\n",
      "900 59.62186813354492\n",
      "950 59.62186813354492\n",
      "1000 59.62186813354492\n"
     ]
    },
    {
     "data": {
      "image/png": "[encoded data removed]",
      "text/plain": [
       "<Figure size 720x432 with 1 Axes>"
      ]
     },
     "metadata": {
      "needs_background": "light"
     },
     "output_type": "display_data"
    }
   ],
   "source": [
    "# Increase the number of epochs\n",
    "w1 = torch.rand(INPUT_SIZE, HIDDEN_SIZE, requires_grad=True)\n",
    "w2 = torch.rand(HIDDEN_SIZE, OUTPUT_SIZE, requires_grad=True)\n",
    "LEARNING_RATE = 1e-4\n",
    "EPOCHS = 1000\n",
    "for iter in range(1, EPOCHS + 1):\n",
    "    y_pred = X_train.mm(w1).mm(w2)\n",
    "    loss = (y_pred - Y_train).pow(2).sum()\n",
    "\n",
    "    if iter % 50 == 0:\n",
    "        print(iter, loss.item())\n",
    "    \n",
    "    loss.backward()\n",
    "\n",
    "    with torch.no_grad():\n",
    "        # Updating parameters shouldn't be tracked\n",
    "        w1 -= LEARNING_RATE * w1.grad\n",
    "        w2 -= LEARNING_RATE * w2.grad\n",
    "        w1.grad.zero_() # Zero out the gradients\n",
    "        w2.grad.zero_()\n",
    "\n",
    "x_train_tensor = torch.from_numpy(x_train).float()\n",
    "y_pred = x_train_tensor.mm(w1).mm(w2).detach().numpy()\n",
    "\n",
    "plt.figure(figsize=(10, 6))\n",
    "plt.scatter(x_train, y_train, label='Training data')\n",
    "plt.plot(x_train, y_pred, label='Prediction')\n",
    "plt.legend()\n",
    "plt.show();"
   ]
  },
  {
   "cell_type": "code",
   "execution_count": null,
   "metadata": {},
   "outputs": [],
   "source": []
  }
 ],
 "metadata": {
  "interpreter": {
   "hash": "a5a8803176ba603454a120d2af569b11c3f41e6e81f2a81589e795246afd0d6d"
  },
  "kernelspec": {
   "display_name": "Python 3.7.6 64-bit ('base': conda)",
   "language": "python",
   "name": "python3"
  },
  "language_info": {
   "codemirror_mode": {
    "name": "ipython",
    "version": 3
   },
   "file_extension": ".py",
   "mimetype": "text/x-python",
   "name": "python",
   "nbconvert_exporter": "python",
   "pygments_lexer": "ipython3",
   "version": "3.7.6"
  },
  "orig_nbformat": 4
 },
 "nbformat": 4,
 "nbformat_minor": 2
}
