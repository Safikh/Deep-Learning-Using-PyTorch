{
  "nbformat": 4,
  "nbformat_minor": 0,
  "metadata": {
    "colab": {
      "name": "Machine Translation.ipynb",
      "provenance": [],
      "collapsed_sections": []
    },
    "kernelspec": {
      "name": "python3",
      "display_name": "Python 3"
    },
    "language_info": {
      "name": "python"
    },
    "accelerator": "GPU"
  },
  "cells": [
    {
      "cell_type": "code",
      "execution_count": 1,
      "metadata": {
        "id": "6rZqvlVCr276"
      },
      "outputs": [],
      "source": [
        "from io import open\n",
        "import unicodedata\n",
        "import string\n",
        "import re\n",
        "import random\n",
        "\n",
        "import torch\n",
        "import torch.nn as nn\n",
        "from torch import optim\n",
        "import torch.nn.functional as F"
      ]
    },
    {
      "cell_type": "code",
      "source": [
        "device = torch.device(\"cuda\" if torch.cuda.is_available() else \"cpu\")"
      ],
      "metadata": {
        "id": "mkGyGF1Gr6EX"
      },
      "execution_count": 2,
      "outputs": []
    },
    {
      "cell_type": "code",
      "source": [
        "%%shell\n",
        "wget https://download.pytorch.org/tutorial/data.zip\n",
        "unzip data.zip"
      ],
      "metadata": {
        "colab": {
          "base_uri": "https://localhost:8080/"
        },
        "id": "A8yvhi6AsFe2",
        "outputId": "2b50a570-ff1e-492c-beb2-5e3d231bcaf5"
      },
      "execution_count": 3,
      "outputs": [
        {
          "output_type": "stream",
          "name": "stdout",
          "text": [
            "--2022-02-08 14:56:00--  https://download.pytorch.org/tutorial/data.zip\n",
            "Resolving download.pytorch.org (download.pytorch.org)... 108.156.120.33, 108.156.120.103, 108.156.120.107, ...\n",
            "Connecting to download.pytorch.org (download.pytorch.org)|108.156.120.33|:443... connected.\n",
            "HTTP request sent, awaiting response... 200 OK\n",
            "Length: 2882130 (2.7M) [application/zip]\n",
            "Saving to: ‘data.zip’\n",
            "\n",
            "\rdata.zip              0%[                    ]       0  --.-KB/s               \rdata.zip            100%[===================>]   2.75M  --.-KB/s    in 0.07s   \n",
            "\n",
            "2022-02-08 14:56:01 (41.6 MB/s) - ‘data.zip’ saved [2882130/2882130]\n",
            "\n",
            "Archive:  data.zip\n",
            "   creating: data/\n",
            "  inflating: data/eng-fra.txt        \n",
            "   creating: data/names/\n",
            "  inflating: data/names/Arabic.txt   \n",
            "  inflating: data/names/Chinese.txt  \n",
            "  inflating: data/names/Czech.txt    \n",
            "  inflating: data/names/Dutch.txt    \n",
            "  inflating: data/names/English.txt  \n",
            "  inflating: data/names/French.txt   \n",
            "  inflating: data/names/German.txt   \n",
            "  inflating: data/names/Greek.txt    \n",
            "  inflating: data/names/Irish.txt    \n",
            "  inflating: data/names/Italian.txt  \n",
            "  inflating: data/names/Japanese.txt  \n",
            "  inflating: data/names/Korean.txt   \n",
            "  inflating: data/names/Polish.txt   \n",
            "  inflating: data/names/Portuguese.txt  \n",
            "  inflating: data/names/Russian.txt  \n",
            "  inflating: data/names/Scottish.txt  \n",
            "  inflating: data/names/Spanish.txt  \n",
            "  inflating: data/names/Vietnamese.txt  \n"
          ]
        },
        {
          "output_type": "execute_result",
          "data": {
            "text/plain": [
              ""
            ]
          },
          "metadata": {},
          "execution_count": 3
        }
      ]
    },
    {
      "cell_type": "code",
      "source": [
        "!ls data"
      ],
      "metadata": {
        "colab": {
          "base_uri": "https://localhost:8080/"
        },
        "id": "xBZrFGI21ZNB",
        "outputId": "7305a50c-7ed7-438f-f7c7-3517ca5107cf"
      },
      "execution_count": 5,
      "outputs": [
        {
          "output_type": "stream",
          "name": "stdout",
          "text": [
            "eng-fra.txt  names\n"
          ]
        }
      ]
    },
    {
      "cell_type": "code",
      "source": [
        "SOS_token = 0\n",
        "EOS_token = 1\n",
        "\n",
        "\n",
        "class Lang:\n",
        "  def __init__(self, name):\n",
        "    self.name = name\n",
        "    self.word2index = {}\n",
        "    self.word2count = {}\n",
        "    self.index2word = {0: \"SOS\", 1: \"EOS\"}\n",
        "    self.n_words = 2  # Count SOS and EOS\n",
        "\n",
        "  def addSentence(self, sentence):\n",
        "    for word in sentence.split(' '):\n",
        "      self.addWord(word)\n",
        "\n",
        "  def addWord(self, word):\n",
        "    if word not in self.word2index:\n",
        "      self.word2index[word] = self.n_words\n",
        "      self.word2count[word] = 1\n",
        "      self.index2word[self.n_words] = word\n",
        "      self.n_words += 1\n",
        "    else:\n",
        "      self.word2count[word] += 1"
      ],
      "metadata": {
        "id": "3GgDpOL81aqp"
      },
      "execution_count": 6,
      "outputs": []
    },
    {
      "cell_type": "code",
      "source": [
        "# Turn a Unicode string to plain ASCII, thanks to\n",
        "# https://stackoverflow.com/a/518232/2809427\n",
        "def unicodeToAscii(s):\n",
        "    return ''.join(\n",
        "        c for c in unicodedata.normalize('NFD', s)\n",
        "        if unicodedata.category(c) != 'Mn'\n",
        "    )\n",
        "\n",
        "# Lowercase, trim, and remove non-letter characters\n",
        "\n",
        "\n",
        "def normalizeString(s):\n",
        "    s = unicodeToAscii(s.lower().strip())\n",
        "    s = re.sub(r\"([.!?])\", r\" \\1\", s)\n",
        "    s = re.sub(r\"[^a-zA-Z.!?]+\", r\" \", s)\n",
        "    return s"
      ],
      "metadata": {
        "id": "zub7FbWa1pQi"
      },
      "execution_count": 7,
      "outputs": []
    },
    {
      "cell_type": "code",
      "source": [
        "def readLangs(lang1, lang2, reverse=False):\n",
        "    print(\"Reading lines...\")\n",
        "\n",
        "    # Read the file and split into lines\n",
        "    lines = open('data/%s-%s.txt' % (lang1, lang2), encoding='utf-8').\\\n",
        "        read().strip().split('\\n')\n",
        "\n",
        "    # Split every line into pairs and normalize\n",
        "    pairs = [[normalizeString(s) for s in l.split('\\t')] for l in lines]\n",
        "\n",
        "    # Reverse pairs, make Lang instances\n",
        "    if reverse:\n",
        "        pairs = [list(reversed(p)) for p in pairs]\n",
        "        input_lang = Lang(lang2)\n",
        "        output_lang = Lang(lang1)\n",
        "    else:\n",
        "        input_lang = Lang(lang1)\n",
        "        output_lang = Lang(lang2)\n",
        "\n",
        "    return input_lang, output_lang, pairs"
      ],
      "metadata": {
        "id": "dj6_cWZw1sr3"
      },
      "execution_count": 8,
      "outputs": []
    },
    {
      "cell_type": "code",
      "source": [
        "MAX_LENGTH = 10\n",
        "\n",
        "eng_prefixes = (\n",
        "    \"i am \", \"i m \",\n",
        "    \"he is\", \"he s \",\n",
        "    \"she is\", \"she s \",\n",
        "    \"you are\", \"you re \",\n",
        "    \"we are\", \"we re \",\n",
        "    \"they are\", \"they re \"\n",
        ")\n",
        "\n",
        "\n",
        "def filterPair(p):\n",
        "    return len(p[0].split(' ')) < MAX_LENGTH and \\\n",
        "        len(p[1].split(' ')) < MAX_LENGTH and \\\n",
        "        p[1].startswith(eng_prefixes)\n",
        "\n",
        "\n",
        "def filterPairs(pairs):\n",
        "    return [pair for pair in pairs if filterPair(pair)]"
      ],
      "metadata": {
        "id": "xrIZVTCi1vdv"
      },
      "execution_count": 9,
      "outputs": []
    },
    {
      "cell_type": "code",
      "source": [
        "def prepareData(lang1, lang2, reverse=False):\n",
        "    input_lang, output_lang, pairs = readLangs(lang1, lang2, reverse)\n",
        "    print(\"Read %s sentence pairs\" % len(pairs))\n",
        "    pairs = filterPairs(pairs)\n",
        "    print(\"Trimmed to %s sentence pairs\" % len(pairs))\n",
        "    print(\"Counting words...\")\n",
        "    for pair in pairs:\n",
        "        input_lang.addSentence(pair[0])\n",
        "        output_lang.addSentence(pair[1])\n",
        "    print(\"Counted words:\")\n",
        "    print(input_lang.name, input_lang.n_words)\n",
        "    print(output_lang.name, output_lang.n_words)\n",
        "    return input_lang, output_lang, pairs\n",
        "\n",
        "\n",
        "input_lang, output_lang, pairs = prepareData('eng', 'fra', True)\n",
        "print(random.choice(pairs))"
      ],
      "metadata": {
        "colab": {
          "base_uri": "https://localhost:8080/"
        },
        "id": "Fqsjo2YI1xgx",
        "outputId": "b92de83e-c508-497c-c499-61219bfb6696"
      },
      "execution_count": 10,
      "outputs": [
        {
          "output_type": "stream",
          "name": "stdout",
          "text": [
            "Reading lines...\n",
            "Read 135842 sentence pairs\n",
            "Trimmed to 10599 sentence pairs\n",
            "Counting words...\n",
            "Counted words:\n",
            "fra 4345\n",
            "eng 2803\n",
            "['nous sommes normales .', 'we re normal .']\n"
          ]
        }
      ]
    },
    {
      "cell_type": "markdown",
      "source": [
        "# Seq2Seq Model"
      ],
      "metadata": {
        "id": "CtMOYW-r16Qv"
      }
    },
    {
      "cell_type": "code",
      "source": [
        "class EncoderRNN(nn.Module):\n",
        "    def __init__(self, input_size, hidden_size):\n",
        "        super(EncoderRNN, self).__init__()\n",
        "        self.hidden_size = hidden_size\n",
        "\n",
        "        self.embedding = nn.Embedding(input_size, hidden_size)\n",
        "        self.gru = nn.GRU(hidden_size, hidden_size)\n",
        "\n",
        "    def forward(self, input, hidden):\n",
        "        embedded = self.embedding(input).view(1, 1, -1)\n",
        "        output = embedded\n",
        "        output, hidden = self.gru(output, hidden)\n",
        "        return output, hidden\n",
        "\n",
        "    def initHidden(self):\n",
        "        return torch.zeros(1, 1, self.hidden_size, device=device)"
      ],
      "metadata": {
        "id": "eDbSWFBL10nL"
      },
      "execution_count": 11,
      "outputs": []
    },
    {
      "cell_type": "code",
      "source": [
        "class DecoderRNN(nn.Module):\n",
        "    def __init__(self, hidden_size, output_size):\n",
        "        super(DecoderRNN, self).__init__()\n",
        "        self.hidden_size = hidden_size\n",
        "\n",
        "        self.embedding = nn.Embedding(output_size, hidden_size)\n",
        "        self.gru = nn.GRU(hidden_size, hidden_size)\n",
        "        self.out = nn.Linear(hidden_size, output_size)\n",
        "        self.softmax = nn.LogSoftmax(dim=1)\n",
        "\n",
        "    def forward(self, input, hidden):\n",
        "        output = self.embedding(input).view(1, 1, -1)\n",
        "        output = F.relu(output)\n",
        "        output, hidden = self.gru(output, hidden)\n",
        "        output = self.softmax(self.out(output[0]))\n",
        "        return output, hidden\n",
        "\n",
        "    def initHidden(self):\n",
        "        return torch.zeros(1, 1, self.hidden_size, device=device)"
      ],
      "metadata": {
        "id": "xn70_nuy1-99"
      },
      "execution_count": 12,
      "outputs": []
    },
    {
      "cell_type": "markdown",
      "source": [
        "## AttentionDecoder\n",
        "![image.png](data:image/png;base64,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)"
      ],
      "metadata": {
        "id": "LMaZHqwc2Hew"
      }
    },
    {
      "cell_type": "markdown",
      "source": [
        "![image.png](data:image/png;base64,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)"
      ],
      "metadata": {
        "id": "y3Q2GyT72Nsr"
      }
    },
    {
      "cell_type": "code",
      "source": [
        "class AttnDecoderRNN(nn.Module):\n",
        "    def __init__(self, hidden_size, output_size, dropout_p=0.1, max_length=MAX_LENGTH):\n",
        "        super(AttnDecoderRNN, self).__init__()\n",
        "        self.hidden_size = hidden_size\n",
        "        self.output_size = output_size\n",
        "        self.dropout_p = dropout_p\n",
        "        self.max_length = max_length\n",
        "\n",
        "        self.embedding = nn.Embedding(self.output_size, self.hidden_size)\n",
        "        self.attn = nn.Linear(self.hidden_size * 2, self.max_length)\n",
        "        self.attn_combine = nn.Linear(self.hidden_size * 2, self.hidden_size)\n",
        "        self.dropout = nn.Dropout(self.dropout_p)\n",
        "        self.gru = nn.GRU(self.hidden_size, self.hidden_size)\n",
        "        self.out = nn.Linear(self.hidden_size, self.output_size)\n",
        "\n",
        "    def forward(self, input, hidden, encoder_outputs):\n",
        "        embedded = self.embedding(input).view(1, 1, -1)\n",
        "        embedded = self.dropout(embedded)\n",
        "\n",
        "        attn_weights = F.softmax(\n",
        "            self.attn(torch.cat((embedded[0], hidden[0]), 1)), dim=1)\n",
        "        attn_applied = torch.bmm(attn_weights.unsqueeze(0),\n",
        "                                 encoder_outputs.unsqueeze(0))\n",
        "\n",
        "        output = torch.cat((embedded[0], attn_applied[0]), 1)\n",
        "        output = self.attn_combine(output).unsqueeze(0)\n",
        "\n",
        "        output = F.relu(output)\n",
        "        output, hidden = self.gru(output, hidden)\n",
        "\n",
        "        output = F.log_softmax(self.out(output[0]), dim=1)\n",
        "        return output, hidden, attn_weights\n",
        "\n",
        "    def initHidden(self):\n",
        "        return torch.zeros(1, 1, self.hidden_size, device=device)"
      ],
      "metadata": {
        "id": "-pohfonD2AlI"
      },
      "execution_count": 31,
      "outputs": []
    },
    {
      "cell_type": "code",
      "source": [
        "def indexesFromSentence(lang, sentence):\n",
        "    return [lang.word2index[word] for word in sentence.split(' ')]\n",
        "\n",
        "\n",
        "def tensorFromSentence(lang, sentence):\n",
        "    indexes = indexesFromSentence(lang, sentence)\n",
        "    indexes.append(EOS_token)\n",
        "    return torch.tensor(indexes, dtype=torch.long, device=device).view(-1, 1)\n",
        "\n",
        "\n",
        "def tensorsFromPair(pair):\n",
        "    input_tensor = tensorFromSentence(input_lang, pair[0])\n",
        "    target_tensor = tensorFromSentence(output_lang, pair[1])\n",
        "    return (input_tensor, target_tensor)"
      ],
      "metadata": {
        "id": "TUkTfS6n5g-R"
      },
      "execution_count": 32,
      "outputs": []
    },
    {
      "cell_type": "code",
      "source": [
        "teacher_forcing_ratio = 0.5\n",
        "\n",
        "\n",
        "def train(input_tensor, target_tensor, encoder, decoder, encoder_optimizer, decoder_optimizer, criterion, max_length=MAX_LENGTH):\n",
        "    encoder_hidden = encoder.initHidden()\n",
        "\n",
        "    encoder_optimizer.zero_grad()\n",
        "    decoder_optimizer.zero_grad()\n",
        "\n",
        "    input_length = input_tensor.size(0)\n",
        "    target_length = target_tensor.size(0)\n",
        "\n",
        "    encoder_outputs = torch.zeros(max_length, encoder.hidden_size, device=device)\n",
        "\n",
        "    loss = 0\n",
        "\n",
        "    for ei in range(input_length):\n",
        "        encoder_output, encoder_hidden = encoder(\n",
        "            input_tensor[ei], encoder_hidden)\n",
        "        encoder_outputs[ei] = encoder_output[0, 0]\n",
        "\n",
        "    decoder_input = torch.tensor([[SOS_token]], device=device)\n",
        "\n",
        "    decoder_hidden = encoder_hidden\n",
        "\n",
        "    use_teacher_forcing = True if random.random() < teacher_forcing_ratio else False\n",
        "\n",
        "    if use_teacher_forcing:\n",
        "        # Teacher forcing: Feed the target as the next input\n",
        "        for di in range(target_length):\n",
        "            decoder_output, decoder_hidden, decoder_attention = decoder(\n",
        "                decoder_input, decoder_hidden, encoder_outputs)\n",
        "            loss += criterion(decoder_output, target_tensor[di])\n",
        "            decoder_input = target_tensor[di]  # Teacher forcing\n",
        "\n",
        "    else:\n",
        "        # Without teacher forcing: use its own predictions as the next input\n",
        "        for di in range(target_length):\n",
        "            decoder_output, decoder_hidden, decoder_attention = decoder(\n",
        "                decoder_input, decoder_hidden, encoder_outputs)\n",
        "            topv, topi = decoder_output.topk(1)\n",
        "            decoder_input = topi.squeeze().detach()  # detach from history as input\n",
        "\n",
        "            loss += criterion(decoder_output, target_tensor[di])\n",
        "            if decoder_input.item() == EOS_token:\n",
        "                break\n",
        "\n",
        "    loss.backward()\n",
        "\n",
        "    encoder_optimizer.step()\n",
        "    decoder_optimizer.step()\n",
        "\n",
        "    return loss.item() / target_length"
      ],
      "metadata": {
        "id": "u2rGSDon5jLd"
      },
      "execution_count": 33,
      "outputs": []
    },
    {
      "cell_type": "code",
      "source": [
        "import time\n",
        "import math\n",
        "\n",
        "\n",
        "def asMinutes(s):\n",
        "    m = math.floor(s / 60)\n",
        "    s -= m * 60\n",
        "    return '%dm %ds' % (m, s)\n",
        "\n",
        "\n",
        "def timeSince(since, percent):\n",
        "    now = time.time()\n",
        "    s = now - since\n",
        "    es = s / (percent)\n",
        "    rs = es - s\n",
        "    return '%s (- %s)' % (asMinutes(s), asMinutes(rs))"
      ],
      "metadata": {
        "id": "R84e_7ip5n6o"
      },
      "execution_count": 34,
      "outputs": []
    },
    {
      "cell_type": "code",
      "source": [
        "def trainIters(encoder, decoder, n_iters, print_every=1000, plot_every=100, learning_rate=0.01):\n",
        "    start = time.time()\n",
        "    plot_losses = []\n",
        "    print_loss_total = 0  # Reset every print_every\n",
        "    plot_loss_total = 0  # Reset every plot_every\n",
        "\n",
        "    encoder_optimizer = optim.SGD(encoder.parameters(), lr=learning_rate)\n",
        "    decoder_optimizer = optim.SGD(decoder.parameters(), lr=learning_rate)\n",
        "    training_pairs = [tensorsFromPair(random.choice(pairs))\n",
        "                      for i in range(n_iters)]\n",
        "    criterion = nn.NLLLoss()\n",
        "\n",
        "    for iter in range(1, n_iters + 1):\n",
        "        training_pair = training_pairs[iter - 1]\n",
        "        input_tensor = training_pair[0]\n",
        "        target_tensor = training_pair[1]\n",
        "\n",
        "        loss = train(input_tensor, target_tensor, encoder,\n",
        "                     decoder, encoder_optimizer, decoder_optimizer, criterion)\n",
        "        print_loss_total += loss\n",
        "        plot_loss_total += loss\n",
        "\n",
        "        if iter % print_every == 0:\n",
        "            print_loss_avg = print_loss_total / print_every\n",
        "            print_loss_total = 0\n",
        "            print('%s (%d %d%%) %.4f' % (timeSince(start, iter / n_iters),\n",
        "                                         iter, iter / n_iters * 100, print_loss_avg))\n",
        "\n",
        "        if iter % plot_every == 0:\n",
        "            plot_loss_avg = plot_loss_total / plot_every\n",
        "            plot_losses.append(plot_loss_avg)\n",
        "            plot_loss_total = 0\n",
        "\n",
        "    showPlot(plot_losses)"
      ],
      "metadata": {
        "id": "-avF7QYc5rcG"
      },
      "execution_count": 35,
      "outputs": []
    },
    {
      "cell_type": "code",
      "source": [
        "import matplotlib.pyplot as plt\n",
        "plt.switch_backend('agg')\n",
        "import matplotlib.ticker as ticker\n",
        "import numpy as np\n",
        "\n",
        "\n",
        "def showPlot(points):\n",
        "    plt.figure()\n",
        "    fig, ax = plt.subplots()\n",
        "    # this locator puts ticks at regular intervals\n",
        "    loc = ticker.MultipleLocator(base=0.2)\n",
        "    ax.yaxis.set_major_locator(loc)\n",
        "    plt.plot(points)"
      ],
      "metadata": {
        "id": "pij8Z9aQ5tt_"
      },
      "execution_count": 36,
      "outputs": []
    },
    {
      "cell_type": "code",
      "source": [
        "def evaluate(encoder, decoder, sentence, max_length=MAX_LENGTH):\n",
        "    with torch.no_grad():\n",
        "        input_tensor = tensorFromSentence(input_lang, sentence)\n",
        "        input_length = input_tensor.size()[0]\n",
        "        encoder_hidden = encoder.initHidden()\n",
        "\n",
        "        encoder_outputs = torch.zeros(max_length, encoder.hidden_size, device=device)\n",
        "\n",
        "        for ei in range(input_length):\n",
        "            encoder_output, encoder_hidden = encoder(input_tensor[ei],\n",
        "                                                     encoder_hidden)\n",
        "            encoder_outputs[ei] += encoder_output[0, 0]\n",
        "\n",
        "        decoder_input = torch.tensor([[SOS_token]], device=device)  # SOS\n",
        "\n",
        "        decoder_hidden = encoder_hidden\n",
        "\n",
        "        decoded_words = []\n",
        "        decoder_attentions = torch.zeros(max_length, max_length)\n",
        "\n",
        "        for di in range(max_length):\n",
        "            decoder_output, decoder_hidden, decoder_attention = decoder(\n",
        "                decoder_input, decoder_hidden, encoder_outputs)\n",
        "            decoder_attentions[di] = decoder_attention.data\n",
        "            topv, topi = decoder_output.data.topk(1)\n",
        "            if topi.item() == EOS_token:\n",
        "                decoded_words.append('<EOS>')\n",
        "                break\n",
        "            else:\n",
        "                decoded_words.append(output_lang.index2word[topi.item()])\n",
        "\n",
        "            decoder_input = topi.squeeze().detach()\n",
        "\n",
        "        return decoded_words, decoder_attentions[:di + 1]"
      ],
      "metadata": {
        "id": "KosvXEZh5wW1"
      },
      "execution_count": 37,
      "outputs": []
    },
    {
      "cell_type": "code",
      "source": [
        "def evaluateRandomly(encoder, decoder, n=10):\n",
        "    for i in range(n):\n",
        "        pair = random.choice(pairs)\n",
        "        print('>', pair[0])\n",
        "        print('=', pair[1])\n",
        "        output_words, attentions = evaluate(encoder, decoder, pair[0])\n",
        "        output_sentence = ' '.join(output_words)\n",
        "        print('<', output_sentence)\n",
        "        print('')"
      ],
      "metadata": {
        "id": "1S3Vmyjp5yjb"
      },
      "execution_count": 38,
      "outputs": []
    },
    {
      "cell_type": "code",
      "source": [
        "hidden_size = 256\n",
        "encoder1 = EncoderRNN(input_lang.n_words, hidden_size).to(device)\n",
        "attn_decoder1 = AttnDecoderRNN(hidden_size, output_lang.n_words, dropout_p=0.1).to(device)\n",
        "\n",
        "trainIters(encoder1, attn_decoder1, 75000, print_every=5000)"
      ],
      "metadata": {
        "colab": {
          "base_uri": "https://localhost:8080/"
        },
        "id": "We4FAbKl50AC",
        "outputId": "871cc3aa-fe9d-47fe-c90e-341c7a36aacf"
      },
      "execution_count": 39,
      "outputs": [
        {
          "output_type": "stream",
          "name": "stdout",
          "text": [
            "1m 53s (- 26m 32s) (5000 6%) 2.8473\n",
            "3m 39s (- 23m 48s) (10000 13%) 2.2917\n",
            "5m 26s (- 21m 45s) (15000 20%) 1.9854\n",
            "7m 13s (- 19m 52s) (20000 26%) 1.7205\n",
            "9m 1s (- 18m 2s) (25000 33%) 1.5267\n",
            "10m 48s (- 16m 12s) (30000 40%) 1.3810\n",
            "12m 35s (- 14m 23s) (35000 46%) 1.2329\n",
            "14m 23s (- 12m 35s) (40000 53%) 1.0811\n",
            "16m 10s (- 10m 47s) (45000 60%) 1.0045\n",
            "17m 58s (- 8m 59s) (50000 66%) 0.9105\n",
            "19m 46s (- 7m 11s) (55000 73%) 0.8342\n",
            "21m 34s (- 5m 23s) (60000 80%) 0.7842\n",
            "23m 21s (- 3m 35s) (65000 86%) 0.6852\n",
            "25m 9s (- 1m 47s) (70000 93%) 0.6301\n",
            "26m 59s (- 0m 0s) (75000 100%) 0.5738\n"
          ]
        }
      ]
    },
    {
      "cell_type": "code",
      "source": [
        "evaluateRandomly(encoder1, attn_decoder1)"
      ],
      "metadata": {
        "colab": {
          "base_uri": "https://localhost:8080/"
        },
        "id": "OppHATx8526k",
        "outputId": "98c2a7ef-dd7e-4aeb-e373-56d64bb2b606"
      },
      "execution_count": 40,
      "outputs": [
        {
          "output_type": "stream",
          "name": "stdout",
          "text": [
            "> je suis desole de vous avoir derange .\n",
            "= i m sorry to have disturbed you .\n",
            "< i m sorry to have disturbed you . <EOS>\n",
            "\n",
            "> je ne compare pas tom a mary .\n",
            "= i m not comparing tom to mary .\n",
            "< i m not allowed to tom tom . <EOS>\n",
            "\n",
            "> vous avez a moitie raison .\n",
            "= you re half right .\n",
            "< you re half right . <EOS>\n",
            "\n",
            "> c est vous qui vous vous etes emballee .\n",
            "= you re the one that went crazy .\n",
            "< you re the one that went crazy . <EOS>\n",
            "\n",
            "> il est en train de dejeuner .\n",
            "= he is having lunch .\n",
            "< he is having lunch . <EOS>\n",
            "\n",
            "> je viens du bresil .\n",
            "= i am from brazil .\n",
            "< i m from brazil . <EOS>\n",
            "\n",
            "> elle est toujours soigneusement vetue .\n",
            "= she is always neatly dressed .\n",
            "< she is always neatly dressed . <EOS>\n",
            "\n",
            "> nous sommes vraiment saouls .\n",
            "= we re really drunk .\n",
            "< we re really drunk . <EOS>\n",
            "\n",
            "> vous etes libre .\n",
            "= you re free .\n",
            "< you re free . <EOS>\n",
            "\n",
            "> vous etes plus intelligents que moi .\n",
            "= you re smarter than me .\n",
            "< you re smarter than me . <EOS>\n",
            "\n"
          ]
        }
      ]
    },
    {
      "cell_type": "code",
      "source": [
        ""
      ],
      "metadata": {
        "id": "C9-m_jrqAwyP"
      },
      "execution_count": null,
      "outputs": []
    }
  ]
}