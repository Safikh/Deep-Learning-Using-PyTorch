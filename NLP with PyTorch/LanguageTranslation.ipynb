{
 "cells": [
  {
   "cell_type": "code",
   "execution_count": 1,
   "metadata": {},
   "outputs": [],
   "source": [
    "from io import open\n",
    "import unicodedata\n",
    "import string\n",
    "import re\n",
    "import random\n",
    "import numpy as np\n",
    "import matplotlib.pyplot as plt\n",
    "import matplotlib.ticker as ticker\n",
    "\n",
    "import torch\n",
    "import torch.nn as nn\n",
    "from torch import optim\n",
    "import torch.nn.functional as F"
   ]
  },
  {
   "cell_type": "code",
   "execution_count": 2,
   "metadata": {},
   "outputs": [],
   "source": [
    "# Start and end of sentence tokens\n",
    "SOS_token = 0\n",
    "EOS_token = 1"
   ]
  },
  {
   "cell_type": "code",
   "execution_count": 3,
   "metadata": {},
   "outputs": [],
   "source": [
    "class Lang:\n",
    "\n",
    "    def __init__(self, name):\n",
    "        self.name = name\n",
    "        self.word2index = {}\n",
    "        self.word2count = {}\n",
    "        self.index2word = {0: \"SOS\", 1: \"EOS\"}\n",
    "        self.n_words = 2\n",
    "    \n",
    "\n",
    "    def addSentence(self, sentence):\n",
    "        for word in sentence.split(' '):\n",
    "            self.addWord(word)\n",
    "    \n",
    "\n",
    "    def addWord(self, word):\n",
    "        if word not in self.word2index:\n",
    "            self.word2index[word] = self.n_words\n",
    "            self.word2count[word] = 1\n",
    "            self.index2word[self.n_words] = word\n",
    "            self.n_words += 1\n",
    "        else:\n",
    "            self.word2count[word] += 1"
   ]
  },
  {
   "cell_type": "code",
   "execution_count": 4,
   "metadata": {},
   "outputs": [],
   "source": [
    "def normalizeString(s):\n",
    "\n",
    "    s = s.lower().strip()\n",
    "    s = ''.join(\n",
    "        char for char in unicodedata.normalize('NFD', s)\n",
    "        if unicodedata.category(char) != 'Mn')\n",
    "    \n",
    "    s = re.sub(r\"([.!?])\", r\" \\1\", s)\n",
    "    s = re.sub(r\"[^a-zA-Z.!?]+\", r\" \", s)\n",
    "\n",
    "    return s"
   ]
  },
  {
   "cell_type": "code",
   "execution_count": 5,
   "metadata": {},
   "outputs": [],
   "source": [
    "def readLangs(lang1, lang2, reverse=False):\n",
    "\n",
    "    print('Reading lines...')\n",
    "\n",
    "    lines = open(f'data/data/{lang1}-{lang2}.txt', encoding='utf-8').\\\n",
    "        read().strip().split('\\n')\n",
    "    \n",
    "    pairs = [[normalizeString(s) for s in l.split('\\t')] for l in lines]\n",
    "\n",
    "    if reverse:\n",
    "        pairs = [list(reversed(p)) for p in pairs]\n",
    "        input_lang = Lang(lang2)\n",
    "        output_lang = Lang(lang1)\n",
    "    else:\n",
    "        input_lang = Lang(lang1)\n",
    "        output_lang = Lang(lang2)\n",
    "    \n",
    "    return input_lang, output_lang, pairs"
   ]
  },
  {
   "cell_type": "markdown",
   "metadata": {},
   "source": [
    "Translations between pairs of languages available here: https://www.manythings.org/anki/"
   ]
  },
  {
   "cell_type": "code",
   "execution_count": 6,
   "metadata": {},
   "outputs": [],
   "source": [
    "MAX_LENGTH = 10"
   ]
  },
  {
   "cell_type": "code",
   "execution_count": 7,
   "metadata": {},
   "outputs": [],
   "source": [
    "eng_prefixes = ('i am ', 'i m ',\n",
    "                'he is', 'he s ',\n",
    "                'she is', 'she s ',\n",
    "                'you are', 'you re ',\n",
    "                'we are', 'we re ',\n",
    "                'they are', 'they re ') # Only sentences starting with these words are being considered\n"
   ]
  },
  {
   "cell_type": "code",
   "execution_count": 11,
   "metadata": {},
   "outputs": [],
   "source": [
    "def filterPairs(pairs):\n",
    "    return [\n",
    "        pair for pair in pairs\n",
    "        if\n",
    "        len(pair[0].split(' ')) < MAX_LENGTH and\n",
    "        len(pair[1].split(' ')) < MAX_LENGTH and\n",
    "        pair[1].startswith(eng_prefixes)\n",
    "    ]"
   ]
  },
  {
   "cell_type": "code",
   "execution_count": 12,
   "metadata": {},
   "outputs": [],
   "source": [
    "def prepareData(lang1, lang2, reverse=False):\n",
    "\n",
    "    input_lang, output_lang, pairs = readLangs(lang1, lang2, reverse)\n",
    "    print(f'Read {len(pairs)} sentence pairs')\n",
    "\n",
    "    pairs = filterPairs(pairs)\n",
    "    print(f'Trimmed to {len(pairs)} sentence pairs')\n",
    "\n",
    "    print('Indexing words...')\n",
    "    for pair in pairs:\n",
    "        input_lang.addSentence(pair[0])\n",
    "        output_lang.addSentence(pair[1])\n",
    "    \n",
    "    print(f'Counted words:')\n",
    "    print(f'{input_lang.name}: {input_lang.n_words}')\n",
    "    print(f'{output_lang.name}: {output_lang.n_words}')\n",
    "\n",
    "    return input_lang, output_lang, pairs"
   ]
  },
  {
   "cell_type": "code",
   "execution_count": 13,
   "metadata": {},
   "outputs": [
    {
     "name": "stdout",
     "output_type": "stream",
     "text": [
      "Reading lines...\n",
      "Read 176692 sentence pairs\n",
      "Trimmed to 9678 sentence pairs\n",
      "Indexing words...\n",
      "Counted words:\n",
      "deu: 4494\n",
      "eng: 2913\n",
      "['sie hoffen auf sie um hilfe zu erhalten .', 'they are looking to you for help .']\n"
     ]
    }
   ],
   "source": [
    "# German to English\n",
    "input_lang, output_lang, pairs = prepareData('eng', 'deu', reverse=True)\n",
    "print(random.choice(pairs))"
   ]
  },
  {
   "cell_type": "code",
   "execution_count": 14,
   "metadata": {},
   "outputs": [],
   "source": [
    "class EncoderRNN(nn.Module):\n",
    "\n",
    "\n",
    "    def __init__(self, input_size, hidden_size):\n",
    "        super(EncoderRNN, self).__init__()\n",
    "        self.hidden_size = hidden_size\n",
    "        self.embedding = nn.Embedding(input_size, hidden_size)\n",
    "        self.gru = nn.GRU(hidden_size, hidden_size)\n",
    "    \n",
    "\n",
    "    def forward(self, input, hidden):\n",
    "\n",
    "        embedded = self.embedding(input).view(1, 1, -1) # [1, hidden_size] -> [1, 1, hidden_size]\n",
    "        output = embedded\n",
    "        output, hidden = self.gru(output, hidden)\n",
    "        return output, hidden\n",
    "    \n",
    "\n",
    "    def initHidden(self):\n",
    "        return torch.zeros(1, 1, self.hidden_size)"
   ]
  },
  {
   "cell_type": "code",
   "execution_count": 15,
   "metadata": {},
   "outputs": [],
   "source": [
    "class DecoderRNN(nn.Module):\n",
    "\n",
    "    def __init__(self, hidden_size, output_size):\n",
    "        super(DecoderRNN, self).__init__()\n",
    "        self.hidden_size = hidden_size\n",
    "        self.embedding = nn.Embedding(output_size, hidden_size)\n",
    "        self.gru = nn.GRU(hidden_size, hidden_size)\n",
    "        self.out = nn.Linear(hidden_size, output_size)\n",
    "        self.softmax = nn.LogSoftmax(dim=1)\n",
    "\n",
    "\n",
    "    def forward(self, input, hidden):\n",
    "        output = self.embedding(input).view(1, 1, -1)\n",
    "        output = F.relu(output)\n",
    "        output, hidden = self.gru(output, hidden)\n",
    "        output = self.softmax(self.out(output[0]))\n",
    "        return output, hidden\n",
    "    \n",
    "    def initHidden(self):\n",
    "        return torch.zeros(1, 1, self.hidden_size)"
   ]
  },
  {
   "cell_type": "code",
   "execution_count": 16,
   "metadata": {},
   "outputs": [],
   "source": [
    "def tensorFromSentence(lang, sentence):\n",
    "    indices = [lang.word2index[word] for word in sentence.split(' ')]\n",
    "    indices.append(EOS_token)\n",
    "    return torch.tensor(indices, dtype=torch.long).view(-1, 1) # [sentence_length, 1]"
   ]
  },
  {
   "cell_type": "code",
   "execution_count": 17,
   "metadata": {},
   "outputs": [],
   "source": [
    "def tensorsFromPair(pair):\n",
    "    input_tensor = tensorFromSentence(input_lang, pair[0])\n",
    "    target_tensor = tensorFromSentence(output_lang, pair[1])\n",
    "    return (input_tensor, target_tensor)"
   ]
  },
  {
   "cell_type": "code",
   "execution_count": 18,
   "metadata": {},
   "outputs": [],
   "source": [
    "teacher_forcing_ratio = 0.5 # Hyperparameter\n",
    "# Teacher Forcing is when the model is forced to use the token from target as the next input"
   ]
  },
  {
   "cell_type": "code",
   "execution_count": 19,
   "metadata": {},
   "outputs": [],
   "source": [
    "def train(input_tensor, target_tensor,\n",
    "            encoder, decoder,\n",
    "            encoder_optimizer, decoder_optimizer,\n",
    "            criterion):\n",
    "\n",
    "    encoder_hidden = encoder.initHidden()\n",
    "\n",
    "    encoder_optimizer.zero_grad()\n",
    "    decoder_optimizer.zero_grad()\n",
    "\n",
    "    input_length = input_tensor.size(0)\n",
    "    target_length = target_tensor.size(0)\n",
    "\n",
    "    loss = 0\n",
    "\n",
    "    for ei in range(input_length):\n",
    "        encoder_output, encoder_hidden = encoder(input_tensor[ei], encoder_hidden)\n",
    "    \n",
    "    decoder_input = torch.tensor([[SOS_token]]) # Start of sentence token as first input to the decoder\n",
    "\n",
    "    decoder_hidden = encoder_hidden # Use last hidden state from encoder to start decoder\n",
    "\n",
    "    use_teacher_forcing = True if random.random() < teacher_forcing_ratio else False\n",
    "\n",
    "    if use_teacher_forcing:\n",
    "\n",
    "        for di in range(target_length):\n",
    "            decoder_output, decoder_hidden = decoder(decoder_input, decoder_hidden)\n",
    "            loss += criterion(decoder_output, target_tensor[di])\n",
    "            decoder_input = target_tensor[di] # Teacher forcing\n",
    "    \n",
    "    else:\n",
    "\n",
    "        for di in range(target_length):\n",
    "            decoder_output, decoder_hidden = decoder(decoder_input, decoder_hidden)\n",
    "\n",
    "            topv, topi = decoder_output.topk(1)\n",
    "            decoder_input = topi.squeeze().detach()\n",
    "\n",
    "            loss += criterion(decoder_output, target_tensor[di])\n",
    "            if decoder_input.item() == EOS_token:\n",
    "                break # Stop at end of sentence (output EOS token)\n",
    "            \n",
    "    loss.backward()\n",
    "    encoder_optimizer.step()\n",
    "    decoder_optimizer.step()\n",
    "\n",
    "    return loss.item() / target_length       "
   ]
  },
  {
   "cell_type": "code",
   "execution_count": 21,
   "metadata": {},
   "outputs": [],
   "source": [
    "plot_losses = []\n",
    "print_loss_total = 0\n",
    "plot_loss_total = 0"
   ]
  },
  {
   "cell_type": "code",
   "execution_count": 22,
   "metadata": {},
   "outputs": [],
   "source": [
    "hidden_size = 256"
   ]
  },
  {
   "cell_type": "code",
   "execution_count": 23,
   "metadata": {},
   "outputs": [],
   "source": [
    "encoder1 = EncoderRNN(input_lang.n_words, hidden_size)\n",
    "decoder1 = DecoderRNN(hidden_size, output_lang.n_words)"
   ]
  },
  {
   "cell_type": "code",
   "execution_count": 24,
   "metadata": {},
   "outputs": [],
   "source": [
    "encoder_optimizer = optim.SGD(encoder1.parameters(), lr=0.01)\n",
    "decoder_optimizer = optim.SGD(decoder1.parameters(), lr=0.01)\n",
    "\n",
    "training_pairs = [tensorsFromPair(random.choice(pairs)) for i in range(30000)]\n",
    "criterion = nn.NLLLoss()"
   ]
  },
  {
   "cell_type": "code",
   "execution_count": 27,
   "metadata": {},
   "outputs": [
    {
     "name": "stdout",
     "output_type": "stream",
     "text": [
      "iteration: 01000 loss: 3.6345\n",
      "iteration: 02000 loss: 3.2651\n",
      "iteration: 03000 loss: 3.0473\n",
      "iteration: 04000 loss: 2.9312\n",
      "iteration: 05000 loss: 2.8167\n",
      "iteration: 06000 loss: 2.7443\n",
      "iteration: 07000 loss: 2.6923\n",
      "iteration: 08000 loss: 2.6087\n",
      "iteration: 09000 loss: 2.5123\n",
      "iteration: 10000 loss: 2.4533\n",
      "iteration: 11000 loss: 2.3452\n",
      "iteration: 12000 loss: 2.3263\n",
      "iteration: 13000 loss: 2.2818\n",
      "iteration: 14000 loss: 2.1894\n",
      "iteration: 15000 loss: 2.1427\n",
      "iteration: 16000 loss: 2.1147\n",
      "iteration: 17000 loss: 1.9943\n",
      "iteration: 18000 loss: 1.9797\n",
      "iteration: 19000 loss: 1.9287\n",
      "iteration: 20000 loss: 1.8702\n",
      "iteration: 21000 loss: 1.8245\n",
      "iteration: 22000 loss: 1.7814\n",
      "iteration: 23000 loss: 1.7377\n",
      "iteration: 24000 loss: 1.6899\n",
      "iteration: 25000 loss: 1.7536\n",
      "iteration: 26000 loss: 1.5937\n",
      "iteration: 27000 loss: 1.5639\n",
      "iteration: 28000 loss: 1.5629\n",
      "iteration: 29000 loss: 1.4744\n",
      "iteration: 30000 loss: 1.5608\n"
     ]
    },
    {
     "data": {
      "text/plain": [
       "[<matplotlib.lines.Line2D at 0x1eb76ab2a48>]"
      ]
     },
     "execution_count": 27,
     "metadata": {},
     "output_type": "execute_result"
    },
    {
     "data": {
      "image/png": "[encoded data removed]",
      "text/plain": [
       "<Figure size 1080x576 with 1 Axes>"
      ]
     },
     "metadata": {
      "needs_background": "light"
     },
     "output_type": "display_data"
    }
   ],
   "source": [
    "for iter in range(1, 30001):\n",
    "\n",
    "    input_tensor, output_tensor = training_pairs[iter - 1]\n",
    "\n",
    "    loss = train(input_tensor, output_tensor,\n",
    "                    encoder1, decoder1,\n",
    "                    encoder_optimizer, decoder_optimizer,\n",
    "                    criterion)\n",
    "    \n",
    "    print_loss_total += loss\n",
    "    plot_loss_total += loss\n",
    "\n",
    "    if iter % 1000 == 0:\n",
    "        print_loss_avg = print_loss_total / 1000\n",
    "        print_loss_total = 0\n",
    "        print(f'iteration: {iter:05} loss: {print_loss_avg:.4f}')\n",
    "    \n",
    "    if iter % 100 == 0:\n",
    "        plot_loss_avg = plot_loss_total / 100\n",
    "        plot_losses.append(plot_loss_avg)\n",
    "        plot_loss_total = 0\n",
    "\n",
    "fig, ax = plt.subplots(figsize=(15, 8))\n",
    "loc = ticker.MultipleLocator(base=0.2)\n",
    "ax.yaxis.set_major_locator(loc)\n",
    "plt.plot(plot_losses)"
   ]
  },
  {
   "cell_type": "code",
   "execution_count": 28,
   "metadata": {},
   "outputs": [],
   "source": [
    "def evaluate(encoder, decoder, sentence):\n",
    "\n",
    "    with torch.no_grad():\n",
    "        input_tensor = tensorFromSentence(input_lang, sentence)\n",
    "        input_length = input_tensor.size()[0]\n",
    "\n",
    "        encoder_hidden = encoder.initHidden()\n",
    "\n",
    "        for ei in range(input_length):\n",
    "            encoder_output, encoder_hidden = encoder(input_tensor[ei], encoder_hidden)\n",
    "        \n",
    "        decoder_input = torch.tensor([[SOS_token]])\n",
    "        decoder_hidden = encoder_hidden\n",
    "\n",
    "        decoded_words = []\n",
    "\n",
    "        for di in range(MAX_LENGTH):\n",
    "            decoder_output, decoder_hidden = decoder(decoder_input, decoder_hidden)\n",
    "            topv, topi = decoder_output.data.topk(1)\n",
    "\n",
    "            if topi.item() == EOS_token:\n",
    "                decoded_words.append('<EOS>')\n",
    "                break\n",
    "            else:\n",
    "                decoded_words.append(output_lang.index2word[topi.item()])\n",
    "            \n",
    "            decoder_input = topi.squeeze().detach()\n",
    "    \n",
    "    return decoded_words\n",
    "            "
   ]
  },
  {
   "cell_type": "code",
   "execution_count": 29,
   "metadata": {},
   "outputs": [
    {
     "name": "stdout",
     "output_type": "stream",
     "text": [
      "> ich gehe nachste woche nach europa .\n",
      "= i m going to europe next week .\n",
      "< i m going to to to paris . <EOS>\n",
      "\n",
      "> ich ziehe mich um .\n",
      "= i am changing my clothes .\n",
      "< i am very pleased . <EOS>\n",
      "\n",
      "> ich bin verheiratet und habe zwei kinder .\n",
      "= i am married and have two children .\n",
      "< i m married and thirsty . . <EOS>\n",
      "\n",
      "> er kommt oft zu spat zur schule .\n",
      "= he is often late for school .\n",
      "< he is too late to for . . . <EOS>\n",
      "\n",
      "> ich bin toms tante .\n",
      "= i m tom s aunt .\n",
      "< i m tom s . <EOS>\n",
      "\n",
      "> ich habe viel zu tun .\n",
      "= i m a busy guy .\n",
      "< i m busy to do . <EOS>\n",
      "\n",
      "> ich uberlege mir ein buch zu schreiben .\n",
      "= i m thinking of writing a book .\n",
      "< i m writing a of of . . . <EOS>\n",
      "\n",
      "> er ist ein typischer arbeitshai .\n",
      "= he s a typical workaholic .\n",
      "< he s a teacher . <EOS>\n",
      "\n",
      "> du bist nicht reich .\n",
      "= you aren t rich .\n",
      "< you aren t rich . <EOS>\n",
      "\n",
      "> ich lese gerade ein buch .\n",
      "= i am reading a book now .\n",
      "< i m reading a book book . . <EOS>\n",
      "\n"
     ]
    }
   ],
   "source": [
    "for i in range(10):\n",
    "\n",
    "    pair = random.choice(pairs)\n",
    "    print('>', pair[0])\n",
    "    print('=', pair[1])\n",
    "    output_words = evaluate(encoder1, decoder1, pair[0])\n",
    "    output_sentence = ' '.join(output_words)\n",
    "    print('<', output_sentence)\n",
    "    print('')"
   ]
  },
  {
   "cell_type": "code",
   "execution_count": null,
   "metadata": {},
   "outputs": [],
   "source": []
  }
 ],
 "metadata": {
  "interpreter": {
   "hash": "a5a8803176ba603454a120d2af569b11c3f41e6e81f2a81589e795246afd0d6d"
  },
  "kernelspec": {
   "display_name": "Python 3.7.6 64-bit ('base': conda)",
   "language": "python",
   "name": "python3"
  },
  "language_info": {
   "codemirror_mode": {
    "name": "ipython",
    "version": 3
   },
   "file_extension": ".py",
   "mimetype": "text/x-python",
   "name": "python",
   "nbconvert_exporter": "python",
   "pygments_lexer": "ipython3",
   "version": "3.7.6"
  },
  "orig_nbformat": 4
 },
 "nbformat": 4,
 "nbformat_minor": 2
}
