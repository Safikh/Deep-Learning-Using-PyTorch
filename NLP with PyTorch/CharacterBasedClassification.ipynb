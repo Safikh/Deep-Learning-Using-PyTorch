{
 "cells": [
  {
   "cell_type": "code",
   "execution_count": 1,
   "metadata": {},
   "outputs": [],
   "source": [
    "from io import open\n",
    "import os\n",
    "import glob"
   ]
  },
  {
   "cell_type": "code",
   "execution_count": 2,
   "metadata": {},
   "outputs": [
    {
     "name": "stdout",
     "output_type": "stream",
     "text": [
      "['data/data/names\\\\Arabic.txt', 'data/data/names\\\\Chinese.txt', 'data/data/names\\\\Czech.txt', 'data/data/names\\\\Dutch.txt', 'data/data/names\\\\English.txt', 'data/data/names\\\\French.txt', 'data/data/names\\\\German.txt', 'data/data/names\\\\Greek.txt', 'data/data/names\\\\Irish.txt', 'data/data/names\\\\Italian.txt', 'data/data/names\\\\Japanese.txt', 'data/data/names\\\\Korean.txt', 'data/data/names\\\\Polish.txt', 'data/data/names\\\\Portuguese.txt', 'data/data/names\\\\Russian.txt', 'data/data/names\\\\Scottish.txt', 'data/data/names\\\\Spanish.txt', 'data/data/names\\\\Vietnamese.txt']\n"
     ]
    }
   ],
   "source": [
    "print(glob.glob('data/data/names/*.txt'))"
   ]
  },
  {
   "cell_type": "code",
   "execution_count": 3,
   "metadata": {},
   "outputs": [
    {
     "data": {
      "text/plain": [
       "\"abcdefghijklmnopqrstuvwxyzABCDEFGHIJKLMNOPQRSTUVWXYZ .,;'\""
      ]
     },
     "execution_count": 3,
     "metadata": {},
     "output_type": "execute_result"
    }
   ],
   "source": [
    "import unicodedata\n",
    "import string\n",
    "\n",
    "all_letters = string.ascii_letters + \" .,;'\"\n",
    "n_letters = len(all_letters)\n",
    "all_letters"
   ]
  },
  {
   "cell_type": "code",
   "execution_count": 4,
   "metadata": {},
   "outputs": [
    {
     "data": {
      "text/plain": [
       "57"
      ]
     },
     "execution_count": 4,
     "metadata": {},
     "output_type": "execute_result"
    }
   ],
   "source": [
    "n_letters"
   ]
  },
  {
   "cell_type": "code",
   "execution_count": 5,
   "metadata": {},
   "outputs": [],
   "source": [
    "language_names = {}\n",
    "all_languages = []"
   ]
  },
  {
   "cell_type": "code",
   "execution_count": 6,
   "metadata": {},
   "outputs": [],
   "source": [
    "def unicodeToAscii(s):\n",
    "    return ''.join(\n",
    "        c for c in unicodedata.normalize('NFD', s)\n",
    "        if unicodedata.category(c) != 'Mn'\n",
    "        and c in all_letters\n",
    "    )"
   ]
  },
  {
   "cell_type": "code",
   "execution_count": 7,
   "metadata": {},
   "outputs": [
    {
     "data": {
      "text/plain": [
       "'Slusarski'"
      ]
     },
     "execution_count": 7,
     "metadata": {},
     "output_type": "execute_result"
    }
   ],
   "source": [
    "unicodeToAscii('Ślusàrski')"
   ]
  },
  {
   "cell_type": "code",
   "execution_count": 8,
   "metadata": {},
   "outputs": [],
   "source": [
    "def findFiles(path):\n",
    "    return glob.glob(path)"
   ]
  },
  {
   "cell_type": "code",
   "execution_count": 9,
   "metadata": {},
   "outputs": [],
   "source": [
    "total_names = 0\n",
    "\n",
    "for filename in findFiles('data/data/names/*.txt'):\n",
    "    language = os.path.splitext(os.path.basename(filename))[0]\n",
    "    all_languages.append(language)\n",
    "    with open(filename, encoding='utf-8') as f:\n",
    "        read_names = f.read().strip().split('\\n')\n",
    "    names = [unicodeToAscii(name) for name in read_names]\n",
    "    language_names[language] = names\n",
    "    total_names += len(names)"
   ]
  },
  {
   "cell_type": "code",
   "execution_count": 10,
   "metadata": {},
   "outputs": [
    {
     "data": {
      "text/plain": [
       "['Arabic',\n",
       " 'Chinese',\n",
       " 'Czech',\n",
       " 'Dutch',\n",
       " 'English',\n",
       " 'French',\n",
       " 'German',\n",
       " 'Greek',\n",
       " 'Irish',\n",
       " 'Italian',\n",
       " 'Japanese',\n",
       " 'Korean',\n",
       " 'Polish',\n",
       " 'Portuguese',\n",
       " 'Russian',\n",
       " 'Scottish',\n",
       " 'Spanish',\n",
       " 'Vietnamese']"
      ]
     },
     "execution_count": 10,
     "metadata": {},
     "output_type": "execute_result"
    }
   ],
   "source": [
    "all_languages"
   ]
  },
  {
   "cell_type": "code",
   "execution_count": 11,
   "metadata": {},
   "outputs": [
    {
     "data": {
      "text/plain": [
       "18"
      ]
     },
     "execution_count": 11,
     "metadata": {},
     "output_type": "execute_result"
    }
   ],
   "source": [
    "n_languages = len(all_languages)\n",
    "n_languages"
   ]
  },
  {
   "cell_type": "code",
   "execution_count": 12,
   "metadata": {},
   "outputs": [
    {
     "data": {
      "text/plain": [
       "20074"
      ]
     },
     "execution_count": 12,
     "metadata": {},
     "output_type": "execute_result"
    }
   ],
   "source": [
    "total_names"
   ]
  },
  {
   "cell_type": "code",
   "execution_count": 13,
   "metadata": {},
   "outputs": [
    {
     "data": {
      "text/plain": [
       "['Abandonato', 'Abatangelo', 'Abatantuono', 'Abate', 'Abategiovanni']"
      ]
     },
     "execution_count": 13,
     "metadata": {},
     "output_type": "execute_result"
    }
   ],
   "source": [
    "language_names['Italian'][:5]"
   ]
  },
  {
   "cell_type": "code",
   "execution_count": 14,
   "metadata": {},
   "outputs": [],
   "source": [
    "import torch"
   ]
  },
  {
   "cell_type": "code",
   "execution_count": 15,
   "metadata": {},
   "outputs": [],
   "source": [
    "def letterToTensor(letter):\n",
    "    '''\n",
    "    One-hot encoding of a letter\n",
    "    '''\n",
    "    tensor = torch.zeros(1, n_letters)\n",
    "    tensor[0][all_letters.find(letter)] = 1\n",
    "    return tensor"
   ]
  },
  {
   "cell_type": "code",
   "execution_count": 16,
   "metadata": {},
   "outputs": [
    {
     "data": {
      "text/plain": [
       "tensor([[0., 0., 0., 0., 0., 0., 0., 0., 0., 0., 0., 0., 0., 0., 0., 0., 0., 0.,\n",
       "         0., 0., 0., 0., 0., 0., 0., 0., 0., 0., 0., 0., 0., 0., 0., 0., 0., 1.,\n",
       "         0., 0., 0., 0., 0., 0., 0., 0., 0., 0., 0., 0., 0., 0., 0., 0., 0., 0.,\n",
       "         0., 0., 0.]])"
      ]
     },
     "execution_count": 16,
     "metadata": {},
     "output_type": "execute_result"
    }
   ],
   "source": [
    "letterToTensor('J')"
   ]
  },
  {
   "cell_type": "code",
   "execution_count": 17,
   "metadata": {},
   "outputs": [],
   "source": [
    "def nameToTensor(name):\n",
    "    '''\n",
    "    One-hot encoding of a name\n",
    "    '''\n",
    "    tensor = torch.zeros(len(name), 1, n_letters)\n",
    "    for li, letter in enumerate(name):\n",
    "        tensor[li][0][all_letters.find(letter)] = 1\n",
    "    return tensor"
   ]
  },
  {
   "cell_type": "code",
   "execution_count": 18,
   "metadata": {},
   "outputs": [
    {
     "data": {
      "text/plain": [
       "torch.Size([5, 1, 57])"
      ]
     },
     "execution_count": 18,
     "metadata": {},
     "output_type": "execute_result"
    }
   ],
   "source": [
    "nameToTensor('Jules').size()"
   ]
  },
  {
   "cell_type": "code",
   "execution_count": 19,
   "metadata": {},
   "outputs": [],
   "source": [
    "import torch.nn as nn\n",
    "\n",
    "class RNN(nn.Module):\n",
    "\n",
    "    def __init__(self, input_size, hidden_size, output_size):\n",
    "\n",
    "        super(RNN, self).__init__()\n",
    "        self.hidden_size = hidden_size\n",
    "        self.i2h = nn.Linear(input_size + hidden_size, hidden_size)\n",
    "        self.i2o = nn.Linear(input_size + hidden_size, output_size)\n",
    "        self.softmax = nn.LogSoftmax(dim=1)\n",
    "\n",
    "    def forward(self, input, hidden):\n",
    "        \n",
    "        combined = torch.cat((input, hidden), 1)\n",
    "        hidden = self.i2h(combined)\n",
    "        output = self.i2o(combined)\n",
    "        output = self.softmax(output)\n",
    "\n",
    "        return output, hidden\n",
    "    \n",
    "    def initHidden(self):\n",
    "        return torch.zeros(1, self.hidden_size)"
   ]
  },
  {
   "cell_type": "code",
   "execution_count": 20,
   "metadata": {},
   "outputs": [],
   "source": [
    "n_hidden = 256\n",
    "rnn = RNN(n_letters, n_hidden, n_languages)"
   ]
  },
  {
   "cell_type": "code",
   "execution_count": 21,
   "metadata": {},
   "outputs": [
    {
     "name": "stdout",
     "output_type": "stream",
     "text": [
      "Output size: torch.Size([1, 18])\n",
      "Next hidden size: torch.Size([1, 256])\n"
     ]
    }
   ],
   "source": [
    "# Example of training with one character\n",
    "input = letterToTensor('A')\n",
    "hidden = torch.zeros(1, n_hidden)\n",
    "output, next_hidden = rnn(input, hidden)\n",
    "print(f'Output size: {output.size()}')\n",
    "print(f'Next hidden size: {next_hidden.size()}')"
   ]
  },
  {
   "cell_type": "code",
   "execution_count": 22,
   "metadata": {},
   "outputs": [
    {
     "name": "stdout",
     "output_type": "stream",
     "text": [
      "Output size: torch.Size([1, 18])\n",
      "Next hidden size: torch.Size([1, 256])\n"
     ]
    }
   ],
   "source": [
    "# Example of training with a name\n",
    "input = nameToTensor('Albert')\n",
    "hidden = torch.zeros(1, n_hidden)\n",
    "output, next_hidden = rnn(input[0], hidden)\n",
    "print(f'Output size: {output.size()}')\n",
    "print(f'Next hidden size: {next_hidden.size()}')"
   ]
  },
  {
   "cell_type": "code",
   "execution_count": 23,
   "metadata": {},
   "outputs": [],
   "source": [
    "def languageFromOutput(output):\n",
    "    _, top_i = output.topk(1)\n",
    "    language_i = top_i[0].item()\n",
    "    return all_languages[language_i], language_i"
   ]
  },
  {
   "cell_type": "code",
   "execution_count": 24,
   "metadata": {},
   "outputs": [
    {
     "data": {
      "text/plain": [
       "('English', 4)"
      ]
     },
     "execution_count": 24,
     "metadata": {},
     "output_type": "execute_result"
    }
   ],
   "source": [
    "languageFromOutput(output)"
   ]
  },
  {
   "cell_type": "code",
   "execution_count": 25,
   "metadata": {},
   "outputs": [],
   "source": [
    "import random\n",
    "\n",
    "def randomTrainingExample():\n",
    "\n",
    "    random_language_index = random.randint(0, n_languages - 1)\n",
    "    language = all_languages[random_language_index]\n",
    "\n",
    "    random_language_names = language_names[language]\n",
    "    name = random_language_names[random.randint(0, len(random_language_names) - 1)]\n",
    "\n",
    "    language_tensor = torch.tensor([all_languages.index(language)], dtype=torch.long)\n",
    "    name_tensor = nameToTensor(name)\n",
    "\n",
    "    return language, name, language_tensor, name_tensor"
   ]
  },
  {
   "cell_type": "code",
   "execution_count": 26,
   "metadata": {},
   "outputs": [
    {
     "name": "stdout",
     "output_type": "stream",
     "text": [
      "language: Polish; name: Zientek\n",
      "language: Spanish; name: Vicario\n",
      "language: English; name: Ewin\n",
      "language: Portuguese; name: Henriques\n",
      "language: Spanish; name: Loyola\n",
      "language: Arabic; name: Moghadam\n",
      "language: Spanish; name: Crespo\n",
      "language: Vietnamese; name: Pham\n",
      "language: Portuguese; name: D'cruz\n",
      "language: Scottish; name: Whyte\n"
     ]
    }
   ],
   "source": [
    "for i in range(10):\n",
    "    language, name, language_tensor, name_tensor = randomTrainingExample()\n",
    "    print(f'language: {language}; name: {name}')"
   ]
  },
  {
   "cell_type": "code",
   "execution_count": 27,
   "metadata": {},
   "outputs": [],
   "source": [
    "criterion = nn.NLLLoss()\n",
    "LEARNING_RATE = 0.005"
   ]
  },
  {
   "cell_type": "code",
   "execution_count": 28,
   "metadata": {},
   "outputs": [],
   "source": [
    "def train(language_tensor, name_tensor):\n",
    "\n",
    "    hidden = rnn.initHidden()\n",
    "    rnn.zero_grad()\n",
    "\n",
    "    for i in range(name_tensor.size()[0]):\n",
    "        output, hidden = rnn(name_tensor[i], hidden)\n",
    "    \n",
    "    loss = criterion(output, language_tensor)\n",
    "    loss.backward()\n",
    "\n",
    "    for p in rnn.parameters():\n",
    "        p.data.add_(p.grad.data, alpha=-LEARNING_RATE)\n",
    "    \n",
    "    return output, loss.item()"
   ]
  },
  {
   "cell_type": "code",
   "execution_count": 29,
   "metadata": {},
   "outputs": [],
   "source": [
    "n_iters = 200000\n",
    "current_loss = 0\n",
    "all_losses = []"
   ]
  },
  {
   "cell_type": "code",
   "execution_count": 30,
   "metadata": {},
   "outputs": [
    {
     "name": "stdout",
     "output_type": "stream",
     "text": [
      " 5000 2.5% | 2.8711 | Fabel / Arabic | ✗ (German)\n",
      "10000 5.0% | 0.8798 | Mai / Chinese | ✓\n",
      "15000 7.5% | 2.1620 | Trent / German | ✗ (English)\n",
      "20000 10.0% | 2.3631 | Whyte / Korean | ✗ (Scottish)\n",
      "25000 12.5% | 0.3071 | Sokolofsky / Polish | ✓\n",
      "30000 15.0% | 0.2975 | Nakamoto / Japanese | ✓\n",
      "35000 17.5% | 3.1148 | Baz / Chinese | ✗ (Arabic)\n",
      "40000 20.0% | 4.1902 | Roganovich / Portuguese | ✗ (Russian)\n",
      "45000 22.5% | 2.3007 | Bordelon / Scottish | ✗ (French)\n",
      "50000 25.0% | 0.5771 | Dounias / Greek | ✓\n",
      "55000 27.500000000000004% | 0.7155 | Sheng / Chinese | ✓\n",
      "60000 30.0% | 1.3030 | Melo / Spanish | ✗ (Portuguese)\n",
      "65000 32.5% | 2.2370 | Amersvoort / Greek | ✗ (Dutch)\n",
      "70000 35.0% | 1.3857 | Klerx / Scottish | ✗ (Dutch)\n",
      "75000 37.5% | 2.0541 | Overing / Irish | ✗ (English)\n",
      "80000 40.0% | 1.2587 | Bautista / Italian | ✗ (Spanish)\n",
      "85000 42.5% | 0.2123 | Jalamov / Russian | ✓\n",
      "90000 45.0% | 0.2341 | Martelli / Italian | ✓\n",
      "95000 47.5% | 1.3614 | Faraldo / Portuguese | ✗ (Italian)\n",
      "100000 50.0% | 0.3341 | Harionovsky / Russian | ✓\n",
      "105000 52.5% | 0.4866 | Makiguchi / Japanese | ✓\n",
      "110000 55.00000000000001% | 0.3110 | Wegener / German | ✓\n",
      "115000 57.49999999999999% | 0.6411 | Ma / Korean | ✓\n",
      "120000 60.0% | 1.7089 | Guirguis / French | ✗ (Arabic)\n",
      "125000 62.5% | 1.9307 | Nolan / Irish | ✗ (English)\n",
      "130000 65.0% | 0.0240 | Marychev / Russian | ✓\n",
      "135000 67.5% | 1.1210 | Nam / Vietnamese | ✗ (Korean)\n",
      "140000 70.0% | 2.9440 | Daher / Vietnamese | ✗ (Arabic)\n",
      "145000 72.5% | 1.5346 | Hagiwara / Polish | ✗ (Japanese)\n",
      "150000 75.0% | 4.4655 | Boulos / Greek | ✗ (Arabic)\n",
      "155000 77.5% | 0.5960 | Breiner / German | ✓\n",
      "160000 80.0% | 3.8766 | Roebuck / Portuguese | ✗ (English)\n",
      "165000 82.5% | 0.2487 | Sook / Korean | ✓\n",
      "170000 85.0% | 0.0503 | Fourakis / Greek | ✓\n",
      "175000 87.5% | 2.1933 | Clark / Scottish | ✗ (Irish)\n",
      "180000 90.0% | 0.1555 | Yu / Korean | ✓\n",
      "185000 92.5% | 0.8243 | Desrochers / French | ✓\n",
      "190000 95.0% | 1.0657 | Seo / Korean | ✓\n",
      "195000 97.5% | 0.9033 | Mooren / Dutch | ✓\n",
      "200000 100.0% | 0.0606 | O'Doherty / Irish | ✓\n"
     ]
    }
   ],
   "source": [
    "for epoch in range(1, n_iters + 1):\n",
    "\n",
    "    language, name, language_tensor, name_tensor = randomTrainingExample()\n",
    "\n",
    "    output, loss = train(language_tensor, name_tensor)\n",
    "    current_loss += loss\n",
    "\n",
    "    if epoch % 5000 == 0:\n",
    "        guess, guess_i = languageFromOutput(output)\n",
    "        correct = '✓' if guess == language else '✗ (%s)' % language\n",
    "        print(f'{epoch:5} {epoch / n_iters * 100}% | {loss:.4f} | {name} / {guess} | {correct}')\n",
    "        \n",
    "    if epoch % 1000 == 0:\n",
    "        all_losses.append(current_loss / 1000)\n",
    "        current_loss = 0"
   ]
  },
  {
   "cell_type": "code",
   "execution_count": 32,
   "metadata": {},
   "outputs": [
    {
     "data": {
      "image/png": "[encoded data removed]",
      "text/plain": [
       "<Figure size 720x432 with 1 Axes>"
      ]
     },
     "metadata": {
      "needs_background": "light"
     },
     "output_type": "display_data"
    }
   ],
   "source": [
    "import matplotlib.pyplot as plt\n",
    "\n",
    "plt.figure(figsize=(10, 6))\n",
    "plt.plot(all_losses)\n",
    "plt.show();"
   ]
  },
  {
   "cell_type": "code",
   "execution_count": 33,
   "metadata": {},
   "outputs": [],
   "source": [
    "n_predictions = 3"
   ]
  },
  {
   "cell_type": "code",
   "execution_count": 34,
   "metadata": {},
   "outputs": [],
   "source": [
    "input_name = 'Batsakis' # Greek"
   ]
  },
  {
   "cell_type": "code",
   "execution_count": 35,
   "metadata": {},
   "outputs": [
    {
     "name": "stdout",
     "output_type": "stream",
     "text": [
      "-0.0663 => Greek\n",
      "-3.0392 => Russian\n",
      "-5.5548 => Scottish\n"
     ]
    }
   ],
   "source": [
    "with torch.no_grad():\n",
    "\n",
    "    name_tensor = nameToTensor(input_name)\n",
    "\n",
    "    hidden = rnn.initHidden()\n",
    "\n",
    "    for i in range(name_tensor.size()[0]):\n",
    "        output, hidden = rnn(name_tensor[i], hidden)\n",
    "    \n",
    "    topv, topi = output.topk(n_predictions, 1, True)\n",
    "\n",
    "    for i in range(n_predictions):\n",
    "        value = topv[0][i].item()\n",
    "        language_index = topi[0][i].item()\n",
    "\n",
    "        print(f'{value:.4f} => {all_languages[language_index]}')"
   ]
  },
  {
   "cell_type": "code",
   "execution_count": 36,
   "metadata": {},
   "outputs": [
    {
     "name": "stdout",
     "output_type": "stream",
     "text": [
      "\n",
      "\n",
      "Predictions for Amaya\n",
      "\t-0.1924 => Japanese\n",
      "\t-2.1442 => Arabic\n",
      "\t-4.3841 => Spanish\n",
      "\n",
      "\n",
      "Predictions for Bukoski\n",
      "\t-0.0950 => Polish\n",
      "\t-2.7781 => Japanese\n",
      "\t-4.3210 => Russian\n"
     ]
    }
   ],
   "source": [
    "for input_name in [\n",
    "    'Amaya', # Arabic / Japanese\n",
    "    'Bukoski' # Polish\n",
    "]:\n",
    "\n",
    "    print(f'\\n\\nPredictions for {input_name}')\n",
    "\n",
    "    with torch.no_grad():\n",
    "            \n",
    "            name_tensor = nameToTensor(input_name)\n",
    "    \n",
    "            hidden = rnn.initHidden()\n",
    "    \n",
    "            for i in range(name_tensor.size()[0]):\n",
    "                output, hidden = rnn(name_tensor[i], hidden)\n",
    "            \n",
    "            topv, topi = output.topk(n_predictions, 1, True)\n",
    "    \n",
    "            for i in range(n_predictions):\n",
    "                value = topv[0][i].item()\n",
    "                language_index = topi[0][i].item()\n",
    "    \n",
    "                print(f'\\t{value:.4f} => {all_languages[language_index]}')"
   ]
  },
  {
   "cell_type": "code",
   "execution_count": null,
   "metadata": {},
   "outputs": [],
   "source": []
  }
 ],
 "metadata": {
  "interpreter": {
   "hash": "a5a8803176ba603454a120d2af569b11c3f41e6e81f2a81589e795246afd0d6d"
  },
  "kernelspec": {
   "display_name": "Python 3.7.6 64-bit ('base': conda)",
   "language": "python",
   "name": "python3"
  },
  "language_info": {
   "codemirror_mode": {
    "name": "ipython",
    "version": 3
   },
   "file_extension": ".py",
   "mimetype": "text/x-python",
   "name": "python",
   "nbconvert_exporter": "python",
   "pygments_lexer": "ipython3",
   "version": "3.7.6"
  },
  "orig_nbformat": 4
 },
 "nbformat": 4,
 "nbformat_minor": 2
}
