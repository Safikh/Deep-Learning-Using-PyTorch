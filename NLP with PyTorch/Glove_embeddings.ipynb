{
 "cells": [
  {
   "cell_type": "code",
   "execution_count": 1,
   "metadata": {},
   "outputs": [],
   "source": [
    "import torch\n",
    "import torchtext.vocab as vocab"
   ]
  },
  {
   "cell_type": "code",
   "execution_count": 2,
   "metadata": {},
   "outputs": [
    {
     "name": "stderr",
     "output_type": "stream",
     "text": [
      ".vector_cache\\glove.6B.zip: 862MB [07:18, 1.97MB/s]                               \n",
      "100%|█████████▉| 399999/400000 [00:30<00:00, 13061.55it/s]\n"
     ]
    },
    {
     "name": "stdout",
     "output_type": "stream",
     "text": [
      "There are 400000 words in the GloVe embeddings\n"
     ]
    }
   ],
   "source": [
    "glove = vocab.GloVe(name='6B', dim=100)\n",
    "print(f'There are {len(glove.itos)} words in the GloVe embeddings')"
   ]
  },
  {
   "cell_type": "code",
   "execution_count": 3,
   "metadata": {},
   "outputs": [
    {
     "data": {
      "text/plain": [
       "torch.Size([400000, 100])"
      ]
     },
     "execution_count": 3,
     "metadata": {},
     "output_type": "execute_result"
    }
   ],
   "source": [
    "glove.vectors.shape"
   ]
  },
  {
   "cell_type": "code",
   "execution_count": 4,
   "metadata": {},
   "outputs": [
    {
     "data": {
      "text/plain": [
       "['the',\n",
       " ',',\n",
       " '.',\n",
       " 'of',\n",
       " 'to',\n",
       " 'and',\n",
       " 'in',\n",
       " 'a',\n",
       " '\"',\n",
       " \"'s\",\n",
       " 'for',\n",
       " '-',\n",
       " 'that',\n",
       " 'on',\n",
       " 'is']"
      ]
     },
     "execution_count": 4,
     "metadata": {},
     "output_type": "execute_result"
    }
   ],
   "source": [
    "glove.itos[:15] # index to word"
   ]
  },
  {
   "cell_type": "code",
   "execution_count": 5,
   "metadata": {},
   "outputs": [
    {
     "data": {
      "text/plain": [
       "0"
      ]
     },
     "execution_count": 5,
     "metadata": {},
     "output_type": "execute_result"
    }
   ],
   "source": [
    "glove.stoi['the'] # word to index"
   ]
  },
  {
   "cell_type": "code",
   "execution_count": 6,
   "metadata": {},
   "outputs": [],
   "source": [
    "def get_vector(embeddings, word):\n",
    "    assert word in embeddings.stoi, f'{word} not in vocab!'\n",
    "    return embeddings.vectors[embeddings.stoi[word]]"
   ]
  },
  {
   "cell_type": "code",
   "execution_count": 8,
   "metadata": {},
   "outputs": [
    {
     "data": {
      "text/plain": [
       "tensor([ 0.1130,  0.5180, -0.6156, -1.0676,  0.0733,  1.3043,  0.4839,  0.2787,\n",
       "        -0.7293,  0.6816,  0.0643,  0.1023,  0.5013,  0.2144,  0.5447,  0.5980,\n",
       "         0.5183, -0.4394,  0.9571, -1.2551, -0.0096,  0.2459,  0.2231, -0.4758,\n",
       "         0.7532,  1.1250, -0.4245, -0.9636, -0.0158, -1.1530,  0.4089,  0.4540,\n",
       "        -0.0423, -0.2053, -0.0396,  0.6109, -0.6322, -0.1387, -0.0756,  0.3693,\n",
       "         0.6952, -0.5582,  0.9985, -0.3462, -0.9853, -0.3707, -0.1073,  1.0643,\n",
       "         0.1181, -0.5740, -0.2617,  0.0103, -0.1591,  0.6767, -0.4428, -1.5283,\n",
       "        -0.7698,  0.0069,  1.1274,  0.4353, -0.0525,  0.4147, -0.9185,  0.5398,\n",
       "         0.2016,  0.0181,  0.6732,  0.0315, -0.1037,  0.2568,  0.5192,  0.2458,\n",
       "        -0.1006, -0.8492,  0.2326,  0.9118,  0.5317,  0.3360,  0.0194,  0.0987,\n",
       "         0.0801, -1.1883,  0.2410, -0.6147, -0.2439, -0.9996, -0.9850,  0.1256,\n",
       "         0.0151,  0.9764, -0.0357, -0.1035,  0.6610, -0.5702, -0.1392,  0.0119,\n",
       "        -0.6207,  0.3472, -0.2152, -0.1325])"
      ]
     },
     "execution_count": 8,
     "metadata": {},
     "output_type": "execute_result"
    }
   ],
   "source": [
    "get_vector(glove, 'shirt')"
   ]
  },
  {
   "cell_type": "code",
   "execution_count": 9,
   "metadata": {},
   "outputs": [],
   "source": [
    "def closest(embeddings, vector, n=6):\n",
    "    '''\n",
    "    Find 6 closest words to a given vector.\n",
    "    '''\n",
    "    distances = []\n",
    "\n",
    "    for neighbor in embeddings.itos:\n",
    "        distances.append((neighbor, torch.dist(vector, get_vector(embeddings, neighbor))))\n",
    "    \n",
    "    return sorted(distances, key=lambda x: x[1])[:n]"
   ]
  },
  {
   "cell_type": "code",
   "execution_count": 10,
   "metadata": {},
   "outputs": [
    {
     "data": {
      "text/plain": [
       "[('shirt', tensor(0.)),\n",
       " ('shirts', tensor(3.2476)),\n",
       " ('jacket', tensor(3.3803)),\n",
       " ('jeans', tensor(3.8244)),\n",
       " ('pants', tensor(3.8720)),\n",
       " ('sweater', tensor(4.0266))]"
      ]
     },
     "execution_count": 10,
     "metadata": {},
     "output_type": "execute_result"
    }
   ],
   "source": [
    "closest(glove, get_vector(glove, 'shirt'))"
   ]
  },
  {
   "cell_type": "code",
   "execution_count": 12,
   "metadata": {},
   "outputs": [],
   "source": [
    "def print_tuples(tuples):\n",
    "\n",
    "    for t in tuples:\n",
    "        print(f'({t[1]:.4f}) {t[0]}')"
   ]
  },
  {
   "cell_type": "code",
   "execution_count": 14,
   "metadata": {},
   "outputs": [
    {
     "name": "stdout",
     "output_type": "stream",
     "text": [
      "(0.0000) stupendous\n",
      "(2.5795) marvellous\n",
      "(2.7539) frightful\n",
      "(2.8506) stupefying\n",
      "(2.8561) awe-inspiring\n",
      "(2.9179) mind-blowing\n"
     ]
    }
   ],
   "source": [
    "print_tuples(closest(glove, get_vector(glove, 'stupendous'), n=6))"
   ]
  },
  {
   "cell_type": "code",
   "execution_count": 15,
   "metadata": {},
   "outputs": [],
   "source": [
    "def analogy(embeddings, w1, w2, w3, n=6):\n",
    "\n",
    "    print(f'\\n[{w1} : {w2} :: {w3} : ?]')\n",
    "\n",
    "    closest_words = closest(\n",
    "        embeddings,\n",
    "        get_vector(embeddings, w2) - get_vector(embeddings, w1) + get_vector(embeddings, w3),\n",
    "        n + 3\n",
    "    )\n",
    "\n",
    "    closest_words = [x for x in closest_words if x[0] not in [w1, w2, w3]][:n]\n",
    "\n",
    "    return closest_words"
   ]
  },
  {
   "cell_type": "code",
   "execution_count": 16,
   "metadata": {},
   "outputs": [
    {
     "name": "stdout",
     "output_type": "stream",
     "text": [
      "\n",
      "[moon : night :: sun : ?]\n",
      "(5.7069) morning\n",
      "(5.7276) afternoon\n",
      "(5.8023) evening\n",
      "(6.1410) hours\n",
      "(6.2797) saturday\n",
      "(6.3056) sunday\n"
     ]
    }
   ],
   "source": [
    "print_tuples(analogy(glove, 'moon', 'night', 'sun'))"
   ]
  },
  {
   "cell_type": "code",
   "execution_count": 17,
   "metadata": {},
   "outputs": [
    {
     "name": "stdout",
     "output_type": "stream",
     "text": [
      "\n",
      "[king : queen :: man : ?]\n",
      "(4.0811) woman\n",
      "(4.6916) girl\n",
      "(5.2703) she\n",
      "(5.2788) teenager\n",
      "(5.3084) boy\n",
      "(5.3352) mother\n"
     ]
    }
   ],
   "source": [
    "print_tuples(analogy(glove, 'king', 'queen', 'man'))"
   ]
  },
  {
   "cell_type": "code",
   "execution_count": 18,
   "metadata": {},
   "outputs": [
    {
     "name": "stdout",
     "output_type": "stream",
     "text": [
      "\n",
      "[fly : bird :: swim : ?]\n",
      "(5.9754) swimming\n",
      "(6.2409) shark\n",
      "(6.4822) dolphin\n",
      "(6.5421) whale\n",
      "(6.6276) cat\n",
      "(6.6457) gorilla\n"
     ]
    }
   ],
   "source": [
    "print_tuples(analogy(glove, 'fly', 'bird', 'swim'))"
   ]
  },
  {
   "cell_type": "code",
   "execution_count": 19,
   "metadata": {},
   "outputs": [
    {
     "name": "stdout",
     "output_type": "stream",
     "text": [
      "\n",
      "[bird : fly :: fish : ?]\n",
      "(6.0675) sail\n",
      "(6.2088) catch\n",
      "(6.2194) bound\n",
      "(6.3329) safely\n",
      "(6.3517) eat\n",
      "(6.3662) loaded\n"
     ]
    }
   ],
   "source": [
    "print_tuples(analogy(glove, 'bird', 'fly', 'fish'))"
   ]
  },
  {
   "cell_type": "code",
   "execution_count": 20,
   "metadata": {},
   "outputs": [
    {
     "data": {
      "text/plain": [
       "110"
      ]
     },
     "execution_count": 20,
     "metadata": {},
     "output_type": "execute_result"
    }
   ],
   "source": [
    "import gc\n",
    "gc.collect()"
   ]
  },
  {
   "cell_type": "code",
   "execution_count": null,
   "metadata": {},
   "outputs": [],
   "source": []
  }
 ],
 "metadata": {
  "interpreter": {
   "hash": "a5a8803176ba603454a120d2af569b11c3f41e6e81f2a81589e795246afd0d6d"
  },
  "kernelspec": {
   "display_name": "Python 3.7.6 64-bit ('base': conda)",
   "language": "python",
   "name": "python3"
  },
  "language_info": {
   "codemirror_mode": {
    "name": "ipython",
    "version": 3
   },
   "file_extension": ".py",
   "mimetype": "text/x-python",
   "name": "python",
   "nbconvert_exporter": "python",
   "pygments_lexer": "ipython3",
   "version": "3.7.6"
  },
  "orig_nbformat": 4
 },
 "nbformat": 4,
 "nbformat_minor": 2
}
